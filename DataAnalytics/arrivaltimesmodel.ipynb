{
 "cells": [
  {
   "cell_type": "code",
   "execution_count": 4,
   "metadata": {},
   "outputs": [],
   "source": [
    "#Import package pandas for data analysis\n",
    "import pandas as pd\n",
    "# Import package numpy for numeric computing\n",
    "import numpy as np\n",
    "import seaborn as sns\n",
    "# Import package matplotlib for visualisation/plotting\n",
    "import matplotlib.pyplot as plt\n",
    "import matplotlib.patches as mpatches\n",
    "\n",
    "from patsy import dmatrices\n",
    "from sklearn.linear_model import LinearRegression\n",
    "from sklearn.model_selection import train_test_split\n",
    "from sklearn import metrics\n",
    "from sklearn.model_selection import cross_validate\n",
    "from sklearn.model_selection import cross_val_score\n",
    "from sklearn.metrics import accuracy_score\n",
    "\n",
    "import pymysql\n",
    "\n",
    "import matplotlib.pyplot as plt\n",
    "\n",
    "#For showing plots directly in the notebook run the command below\n",
    "%matplotlib inline\n",
    "\n",
    "# For saving multiple plots into a single pdf file\n",
    "from matplotlib.backends.backend_pdf import PdfPages\n",
    "\n",
    "import scipy.stats as ss\n",
    "\n",
    "# ignore warnings\n",
    "import warnings\n",
    "warnings.filterwarnings('ignore')#Import package pandas for data analysis\n",
    "import pandas as pd\n",
    "# Import package numpy for numeric computing\n",
    "import numpy as np\n",
    "import seaborn as sns\n",
    "# Import package matplotlib for visualisation/plotting\n",
    "import matplotlib.pyplot as plt\n",
    "import matplotlib.patches as mpatches\n",
    "\n",
    "from patsy import dmatrices\n",
    "from sklearn.linear_model import LinearRegression\n",
    "from sklearn.model_selection import train_test_split\n",
    "from sklearn import metrics\n",
    "from sklearn.model_selection import cross_validate\n",
    "from sklearn.model_selection import cross_val_score\n",
    "from sklearn.metrics import accuracy_score\n",
    "\n",
    "import pymysql\n",
    "\n",
    "import matplotlib.pyplot as plt\n",
    "\n",
    "#For showing plots directly in the notebook run the command below\n",
    "%matplotlib inline\n",
    "\n",
    "# For saving multiple plots into a single pdf file\n",
    "from matplotlib.backends.backend_pdf import PdfPages\n",
    "\n",
    "import scipy.stats as ss\n",
    "\n",
    "# ignore warnings\n",
    "import warnings\n",
    "warnings.filterwarnings('ignore')"
   ]
  },
  {
   "cell_type": "code",
   "execution_count": 5,
   "metadata": {},
   "outputs": [],
   "source": [
    "#Import relevant modules and define connection\n",
    "from sshtunnel import SSHTunnelForwarder\n",
    "import pymysql\n",
    "import pandas as pd\n",
    "\n",
    "server = SSHTunnelForwarder(\n",
    "ssh_address=('ipa-008.ucd.ie', 22),\n",
    "ssh_username=\"wingki\",\n",
    "ssh_password=\"6!#5/6_Dublinbus\",\n",
    "remote_bind_address=(\"localhost\", 3306))\n",
    "\n",
    "server.start()\n",
    "\n",
    "con = pymysql.connect(user='root',passwd='Dublinbus_6!#5/6',db='dublinbus',host='localhost',port=server.local_bind_port)\n"
   ]
  },
  {
   "cell_type": "code",
   "execution_count": 6,
   "metadata": {},
   "outputs": [],
   "source": [
    "#read in data\n",
    "routeData = pd.read_sql_query(\"SELECT * FROM dublinbus.route_1;\", con)"
   ]
  },
  {
   "cell_type": "code",
   "execution_count": 7,
   "metadata": {},
   "outputs": [
    {
     "output_type": "execute_result",
     "data": {
      "text/plain": "          DAYOFSERVICE   TRIPID LINEID  PROGRNUMBER STOPPOINTID DIRECTION  \\\n0   07-FEB-18 00:00:00  6253554      1            1         381        2    \n1   07-FEB-18 00:00:00  6253554      1            2         382        2    \n2   07-FEB-18 00:00:00  6253554      1            3        4451        2    \n3   07-FEB-18 00:00:00  6253554      1            4         383        2    \n4   07-FEB-18 00:00:00  6253554      1            5         384        2    \n5   07-FEB-18 00:00:00  6253554      1            6         385        2    \n6   07-FEB-18 00:00:00  6253554      1            8         388        2    \n7   07-FEB-18 00:00:00  6253554      1            9         389        2    \n8   07-FEB-18 00:00:00  6253554      1           10         393        2    \n9   07-FEB-18 00:00:00  6253554      1           11         371        2    \n10  07-FEB-18 00:00:00  6253554      1           12         391        2    \n11  07-FEB-18 00:00:00  6253554      1           13         392        2    \n12  07-FEB-18 00:00:00  6253554      1           14         395        2    \n13  07-FEB-18 00:00:00  6253554      1           15         396        2    \n14  07-FEB-18 00:00:00  6253554      1           16         397        2    \n15  07-FEB-18 00:00:00  6253554      1           17         398        2    \n16  07-FEB-18 00:00:00  6253554      1           19         400        2    \n17  07-FEB-18 00:00:00  6253554      1           20         319        2    \n18  07-FEB-18 00:00:00  6253554      1           21         278        2    \n19  07-FEB-18 00:00:00  6253554      1           22        7615        2    \n20  07-FEB-18 00:00:00  6253554      1           23          10        2    \n21  07-FEB-18 00:00:00  6253554      1           24          12        2    \n22  07-FEB-18 00:00:00  6253554      1           25          14        2    \n23  07-FEB-18 00:00:00  6253554      1           26          15        2    \n24  07-FEB-18 00:00:00  6253554      1           27          17        2    \n\n    ACTUALTIME_DEP  ACTUALTIME_ARR  \n0            63629           63629  \n1            63690           63675  \n2            63739           63715  \n3            63788           63774  \n4            63824           63824  \n5            63897           63869  \n6            64084           64084  \n7            64097           64097  \n8            64283           64283  \n9            64344           64314  \n10           64397           64375  \n11           64493           64455  \n12           65173           65126  \n13           65308           65267  \n14           65460           65433  \n15           65603           65558  \n16           65881           65852  \n17           66528           66320  \n18           66882           66810  \n19           67026           67026  \n20           67078           67035  \n21           67269           67236  \n22           67365           67365  \n23           67413           67397  \n24           67515           67477  ",
      "text/html": "<div>\n<style scoped>\n    .dataframe tbody tr th:only-of-type {\n        vertical-align: middle;\n    }\n\n    .dataframe tbody tr th {\n        vertical-align: top;\n    }\n\n    .dataframe thead th {\n        text-align: right;\n    }\n</style>\n<table border=\"1\" class=\"dataframe\">\n  <thead>\n    <tr style=\"text-align: right;\">\n      <th></th>\n      <th>DAYOFSERVICE</th>\n      <th>TRIPID</th>\n      <th>LINEID</th>\n      <th>PROGRNUMBER</th>\n      <th>STOPPOINTID</th>\n      <th>DIRECTION</th>\n      <th>ACTUALTIME_DEP</th>\n      <th>ACTUALTIME_ARR</th>\n    </tr>\n  </thead>\n  <tbody>\n    <tr>\n      <th>0</th>\n      <td>07-FEB-18 00:00:00</td>\n      <td>6253554</td>\n      <td>1</td>\n      <td>1</td>\n      <td>381</td>\n      <td>2</td>\n      <td>63629</td>\n      <td>63629</td>\n    </tr>\n    <tr>\n      <th>1</th>\n      <td>07-FEB-18 00:00:00</td>\n      <td>6253554</td>\n      <td>1</td>\n      <td>2</td>\n      <td>382</td>\n      <td>2</td>\n      <td>63690</td>\n      <td>63675</td>\n    </tr>\n    <tr>\n      <th>2</th>\n      <td>07-FEB-18 00:00:00</td>\n      <td>6253554</td>\n      <td>1</td>\n      <td>3</td>\n      <td>4451</td>\n      <td>2</td>\n      <td>63739</td>\n      <td>63715</td>\n    </tr>\n    <tr>\n      <th>3</th>\n      <td>07-FEB-18 00:00:00</td>\n      <td>6253554</td>\n      <td>1</td>\n      <td>4</td>\n      <td>383</td>\n      <td>2</td>\n      <td>63788</td>\n      <td>63774</td>\n    </tr>\n    <tr>\n      <th>4</th>\n      <td>07-FEB-18 00:00:00</td>\n      <td>6253554</td>\n      <td>1</td>\n      <td>5</td>\n      <td>384</td>\n      <td>2</td>\n      <td>63824</td>\n      <td>63824</td>\n    </tr>\n    <tr>\n      <th>5</th>\n      <td>07-FEB-18 00:00:00</td>\n      <td>6253554</td>\n      <td>1</td>\n      <td>6</td>\n      <td>385</td>\n      <td>2</td>\n      <td>63897</td>\n      <td>63869</td>\n    </tr>\n    <tr>\n      <th>6</th>\n      <td>07-FEB-18 00:00:00</td>\n      <td>6253554</td>\n      <td>1</td>\n      <td>8</td>\n      <td>388</td>\n      <td>2</td>\n      <td>64084</td>\n      <td>64084</td>\n    </tr>\n    <tr>\n      <th>7</th>\n      <td>07-FEB-18 00:00:00</td>\n      <td>6253554</td>\n      <td>1</td>\n      <td>9</td>\n      <td>389</td>\n      <td>2</td>\n      <td>64097</td>\n      <td>64097</td>\n    </tr>\n    <tr>\n      <th>8</th>\n      <td>07-FEB-18 00:00:00</td>\n      <td>6253554</td>\n      <td>1</td>\n      <td>10</td>\n      <td>393</td>\n      <td>2</td>\n      <td>64283</td>\n      <td>64283</td>\n    </tr>\n    <tr>\n      <th>9</th>\n      <td>07-FEB-18 00:00:00</td>\n      <td>6253554</td>\n      <td>1</td>\n      <td>11</td>\n      <td>371</td>\n      <td>2</td>\n      <td>64344</td>\n      <td>64314</td>\n    </tr>\n    <tr>\n      <th>10</th>\n      <td>07-FEB-18 00:00:00</td>\n      <td>6253554</td>\n      <td>1</td>\n      <td>12</td>\n      <td>391</td>\n      <td>2</td>\n      <td>64397</td>\n      <td>64375</td>\n    </tr>\n    <tr>\n      <th>11</th>\n      <td>07-FEB-18 00:00:00</td>\n      <td>6253554</td>\n      <td>1</td>\n      <td>13</td>\n      <td>392</td>\n      <td>2</td>\n      <td>64493</td>\n      <td>64455</td>\n    </tr>\n    <tr>\n      <th>12</th>\n      <td>07-FEB-18 00:00:00</td>\n      <td>6253554</td>\n      <td>1</td>\n      <td>14</td>\n      <td>395</td>\n      <td>2</td>\n      <td>65173</td>\n      <td>65126</td>\n    </tr>\n    <tr>\n      <th>13</th>\n      <td>07-FEB-18 00:00:00</td>\n      <td>6253554</td>\n      <td>1</td>\n      <td>15</td>\n      <td>396</td>\n      <td>2</td>\n      <td>65308</td>\n      <td>65267</td>\n    </tr>\n    <tr>\n      <th>14</th>\n      <td>07-FEB-18 00:00:00</td>\n      <td>6253554</td>\n      <td>1</td>\n      <td>16</td>\n      <td>397</td>\n      <td>2</td>\n      <td>65460</td>\n      <td>65433</td>\n    </tr>\n    <tr>\n      <th>15</th>\n      <td>07-FEB-18 00:00:00</td>\n      <td>6253554</td>\n      <td>1</td>\n      <td>17</td>\n      <td>398</td>\n      <td>2</td>\n      <td>65603</td>\n      <td>65558</td>\n    </tr>\n    <tr>\n      <th>16</th>\n      <td>07-FEB-18 00:00:00</td>\n      <td>6253554</td>\n      <td>1</td>\n      <td>19</td>\n      <td>400</td>\n      <td>2</td>\n      <td>65881</td>\n      <td>65852</td>\n    </tr>\n    <tr>\n      <th>17</th>\n      <td>07-FEB-18 00:00:00</td>\n      <td>6253554</td>\n      <td>1</td>\n      <td>20</td>\n      <td>319</td>\n      <td>2</td>\n      <td>66528</td>\n      <td>66320</td>\n    </tr>\n    <tr>\n      <th>18</th>\n      <td>07-FEB-18 00:00:00</td>\n      <td>6253554</td>\n      <td>1</td>\n      <td>21</td>\n      <td>278</td>\n      <td>2</td>\n      <td>66882</td>\n      <td>66810</td>\n    </tr>\n    <tr>\n      <th>19</th>\n      <td>07-FEB-18 00:00:00</td>\n      <td>6253554</td>\n      <td>1</td>\n      <td>22</td>\n      <td>7615</td>\n      <td>2</td>\n      <td>67026</td>\n      <td>67026</td>\n    </tr>\n    <tr>\n      <th>20</th>\n      <td>07-FEB-18 00:00:00</td>\n      <td>6253554</td>\n      <td>1</td>\n      <td>23</td>\n      <td>10</td>\n      <td>2</td>\n      <td>67078</td>\n      <td>67035</td>\n    </tr>\n    <tr>\n      <th>21</th>\n      <td>07-FEB-18 00:00:00</td>\n      <td>6253554</td>\n      <td>1</td>\n      <td>24</td>\n      <td>12</td>\n      <td>2</td>\n      <td>67269</td>\n      <td>67236</td>\n    </tr>\n    <tr>\n      <th>22</th>\n      <td>07-FEB-18 00:00:00</td>\n      <td>6253554</td>\n      <td>1</td>\n      <td>25</td>\n      <td>14</td>\n      <td>2</td>\n      <td>67365</td>\n      <td>67365</td>\n    </tr>\n    <tr>\n      <th>23</th>\n      <td>07-FEB-18 00:00:00</td>\n      <td>6253554</td>\n      <td>1</td>\n      <td>26</td>\n      <td>15</td>\n      <td>2</td>\n      <td>67413</td>\n      <td>67397</td>\n    </tr>\n    <tr>\n      <th>24</th>\n      <td>07-FEB-18 00:00:00</td>\n      <td>6253554</td>\n      <td>1</td>\n      <td>27</td>\n      <td>17</td>\n      <td>2</td>\n      <td>67515</td>\n      <td>67477</td>\n    </tr>\n  </tbody>\n</table>\n</div>"
     },
     "metadata": {},
     "execution_count": 7
    }
   ],
   "source": [
    "routeData.head(25)"
   ]
  },
  {
   "cell_type": "markdown",
   "metadata": {},
   "source": [
    "### Clean Data"
   ]
  },
  {
   "cell_type": "code",
   "execution_count": 8,
   "metadata": {},
   "outputs": [],
   "source": [
    "routeData['hour'] = pd.to_datetime(routeData['ACTUALTIME_DEP'], unit='s').dt.hour"
   ]
  },
  {
   "cell_type": "code",
   "execution_count": 9,
   "metadata": {},
   "outputs": [],
   "source": [
    "routeData['DAYOFSERVICE'] = pd.to_datetime(routeData.DAYOFSERVICE)"
   ]
  },
  {
   "cell_type": "code",
   "execution_count": 10,
   "metadata": {},
   "outputs": [],
   "source": [
    "# Create new column dayofweek based on the DAYOFSERVICE\n",
    "# if it is a weekday, value=0; if it is a weekend, value=1\n",
    "conditions = [\n",
    "    (routeData['DAYOFSERVICE'].dt.dayofweek == 5),(routeData['DAYOFSERVICE'].dt.dayofweek == 6)\n",
    "    ]\n",
    "choices = [1,1]\n",
    "routeData['dayofweek'] = np.select(conditions, choices, default=0)# Create new column dayofweek based on the DAYOFSERVICE\n"
   ]
  },
  {
   "cell_type": "code",
   "execution_count": 11,
   "metadata": {},
   "outputs": [],
   "source": [
    "routeData['DIRECTION'] = routeData['DIRECTION'].astype('int64')"
   ]
  },
  {
   "cell_type": "code",
   "execution_count": 12,
   "metadata": {},
   "outputs": [],
   "source": [
    "numeric_columns = routeData.select_dtypes(['int64']).columns\n",
    "columns = list(routeData)"
   ]
  },
  {
   "cell_type": "markdown",
   "metadata": {},
   "source": [
    "### Get Weather Data"
   ]
  },
  {
   "cell_type": "code",
   "execution_count": 13,
   "metadata": {},
   "outputs": [],
   "source": [
    "weatherData = pd.read_csv('weather-data-cleaned.csv', keep_default_na=True, delimiter=',')"
   ]
  },
  {
   "cell_type": "code",
   "execution_count": 14,
   "metadata": {},
   "outputs": [],
   "source": [
    "weatherData.drop(['Unnamed: 0'], axis = 1, inplace=True)"
   ]
  },
  {
   "cell_type": "code",
   "execution_count": 15,
   "metadata": {},
   "outputs": [],
   "source": [
    "weatherData['hour'] = pd.DatetimeIndex(weatherData['datetime']).hour"
   ]
  },
  {
   "cell_type": "code",
   "execution_count": 16,
   "metadata": {},
   "outputs": [],
   "source": [
    "weatherData['datetime'] = pd.to_datetime(weatherData['datetime']).dt.date"
   ]
  },
  {
   "cell_type": "code",
   "execution_count": 17,
   "metadata": {},
   "outputs": [],
   "source": [
    "weatherData.rename(columns = {'datetime':'DAYOFSERVICE'}, inplace = True)"
   ]
  },
  {
   "cell_type": "code",
   "execution_count": 18,
   "metadata": {},
   "outputs": [],
   "source": [
    "weatherData['DAYOFSERVICE'] = pd.to_datetime(weatherData.DAYOFSERVICE)"
   ]
  },
  {
   "cell_type": "code",
   "execution_count": 19,
   "metadata": {},
   "outputs": [],
   "source": [
    "#Combine Weather and route data\n",
    "df=pd.merge(routeData, weatherData, how='inner', left_on=['DAYOFSERVICE', 'hour'], right_on=['DAYOFSERVICE','hour'])"
   ]
  },
  {
   "cell_type": "code",
   "execution_count": 20,
   "metadata": {},
   "outputs": [],
   "source": [
    "#Get holiday data\n",
    "holidayData = pd.read_csv('ireland-holidays-2018-list-classic-en-ie.csv', keep_default_na=True, delimiter=',')"
   ]
  },
  {
   "cell_type": "code",
   "execution_count": 29,
   "metadata": {},
   "outputs": [],
   "source": [
    "#drop all rows that have any NaN values\n",
    "holidayData.dropna(inplace=True) "
   ]
  },
  {
   "cell_type": "code",
   "execution_count": 22,
   "metadata": {},
   "outputs": [],
   "source": [
    "holidayData['date'] = pd.to_datetime(holidayData.date)"
   ]
  },
  {
   "cell_type": "code",
   "execution_count": 23,
   "metadata": {},
   "outputs": [],
   "source": [
    "#Create a daily datetime index using the start and end times from a period with yearly frequency\n",
    "#reference: https://stackoverflow.com/questions/20602947/append-column-to-pandas-dataframe\n",
    "year = '2018'\n",
    "df1 = pd.DataFrame({\n",
    "    'Date': pd.date_range(\n",
    "        start = pd.Timestamp(year),                        \n",
    "        end = pd.Timestamp(year) + pd.offsets.YearEnd(0),  \n",
    "        freq = 'D'\n",
    "    )\n",
    "})"
   ]
  },
  {
   "cell_type": "code",
   "execution_count": 24,
   "metadata": {},
   "outputs": [],
   "source": [
    "# join the Date to holidayData\n",
    "holidayData=df1.join(holidayData)"
   ]
  },
  {
   "cell_type": "code",
   "execution_count": 25,
   "metadata": {},
   "outputs": [],
   "source": [
    "# create a new column \"holiday in holidayData\" and set default cell value to be 0, indicating not a holiday\n",
    "# set the dates of summer holiday to 2\n",
    "start_date='2018-06-21'\n",
    "end_date='2018-09-23'\n",
    "conditions = [\n",
    "    (holidayData['Date'] >= start_date) & (holidayData['Date'] <= end_date)\n",
    "    ]\n",
    "choices = [2]\n",
    "holidayData['holiday'] = np.select(conditions, choices,default=0)"
   ]
  },
  {
   "cell_type": "code",
   "execution_count": 26,
   "metadata": {},
   "outputs": [],
   "source": [
    "# flip those dates with bank holiday to 1 in \"holiday\" column\n",
    "holidayData.loc[holidayData['Date']=='2018-01-01', 'holiday'] = 1\n",
    "holidayData.loc[holidayData['Date']=='2018-03-11', 'holiday'] = 1\n",
    "holidayData.loc[holidayData['Date']=='2018-03-17', 'holiday'] = 1\n",
    "holidayData.loc[holidayData['Date']=='2018-03-19', 'holiday'] = 1\n",
    "holidayData.loc[holidayData['Date']=='2018-03-30', 'holiday'] = 1\n",
    "holidayData.loc[holidayData['Date']=='2018-04-01', 'holiday'] = 1\n",
    "holidayData.loc[holidayData['Date']=='2018-04-02', 'holiday'] = 1\n",
    "holidayData.loc[holidayData['Date']=='2018-05-07', 'holiday'] = 1\n",
    "holidayData.loc[holidayData['Date']=='2018-06-04', 'holiday'] = 1\n",
    "holidayData.loc[holidayData['Date']=='2018-08-06', 'holiday'] = 1\n",
    "holidayData.loc[holidayData['Date']=='2018-10-29', 'holiday'] = 1\n",
    "holidayData.loc[holidayData['Date']=='2018-12-25', 'holiday'] = 1\n",
    "holidayData.loc[holidayData['Date']=='2018-12-26', 'holiday'] = 1\n",
    "holidayData.loc[holidayData['Date']=='2018-12-27', 'holiday'] = 1"
   ]
  },
  {
   "cell_type": "code",
   "execution_count": 27,
   "metadata": {},
   "outputs": [
    {
     "output_type": "execute_result",
     "data": {
      "text/plain": "          Date       date   nameOfHoliday  holiday\n0   2018-01-01 2018-01-01  New Year's Day        1\n69  2018-03-11        NaT             NaN        1\n75  2018-03-17        NaT             NaN        1\n77  2018-03-19        NaT             NaN        1\n88  2018-03-30        NaT             NaN        1\n90  2018-04-01        NaT             NaN        1\n91  2018-04-02        NaT             NaN        1\n126 2018-05-07        NaT             NaN        1\n154 2018-06-04        NaT             NaN        1\n217 2018-08-06        NaT             NaN        1\n301 2018-10-29        NaT             NaN        1\n358 2018-12-25        NaT             NaN        1\n359 2018-12-26        NaT             NaN        1\n360 2018-12-27        NaT             NaN        1",
      "text/html": "<div>\n<style scoped>\n    .dataframe tbody tr th:only-of-type {\n        vertical-align: middle;\n    }\n\n    .dataframe tbody tr th {\n        vertical-align: top;\n    }\n\n    .dataframe thead th {\n        text-align: right;\n    }\n</style>\n<table border=\"1\" class=\"dataframe\">\n  <thead>\n    <tr style=\"text-align: right;\">\n      <th></th>\n      <th>Date</th>\n      <th>date</th>\n      <th>nameOfHoliday</th>\n      <th>holiday</th>\n    </tr>\n  </thead>\n  <tbody>\n    <tr>\n      <th>0</th>\n      <td>2018-01-01</td>\n      <td>2018-01-01</td>\n      <td>New Year's Day</td>\n      <td>1</td>\n    </tr>\n    <tr>\n      <th>69</th>\n      <td>2018-03-11</td>\n      <td>NaT</td>\n      <td>NaN</td>\n      <td>1</td>\n    </tr>\n    <tr>\n      <th>75</th>\n      <td>2018-03-17</td>\n      <td>NaT</td>\n      <td>NaN</td>\n      <td>1</td>\n    </tr>\n    <tr>\n      <th>77</th>\n      <td>2018-03-19</td>\n      <td>NaT</td>\n      <td>NaN</td>\n      <td>1</td>\n    </tr>\n    <tr>\n      <th>88</th>\n      <td>2018-03-30</td>\n      <td>NaT</td>\n      <td>NaN</td>\n      <td>1</td>\n    </tr>\n    <tr>\n      <th>90</th>\n      <td>2018-04-01</td>\n      <td>NaT</td>\n      <td>NaN</td>\n      <td>1</td>\n    </tr>\n    <tr>\n      <th>91</th>\n      <td>2018-04-02</td>\n      <td>NaT</td>\n      <td>NaN</td>\n      <td>1</td>\n    </tr>\n    <tr>\n      <th>126</th>\n      <td>2018-05-07</td>\n      <td>NaT</td>\n      <td>NaN</td>\n      <td>1</td>\n    </tr>\n    <tr>\n      <th>154</th>\n      <td>2018-06-04</td>\n      <td>NaT</td>\n      <td>NaN</td>\n      <td>1</td>\n    </tr>\n    <tr>\n      <th>217</th>\n      <td>2018-08-06</td>\n      <td>NaT</td>\n      <td>NaN</td>\n      <td>1</td>\n    </tr>\n    <tr>\n      <th>301</th>\n      <td>2018-10-29</td>\n      <td>NaT</td>\n      <td>NaN</td>\n      <td>1</td>\n    </tr>\n    <tr>\n      <th>358</th>\n      <td>2018-12-25</td>\n      <td>NaT</td>\n      <td>NaN</td>\n      <td>1</td>\n    </tr>\n    <tr>\n      <th>359</th>\n      <td>2018-12-26</td>\n      <td>NaT</td>\n      <td>NaN</td>\n      <td>1</td>\n    </tr>\n    <tr>\n      <th>360</th>\n      <td>2018-12-27</td>\n      <td>NaT</td>\n      <td>NaN</td>\n      <td>1</td>\n    </tr>\n  </tbody>\n</table>\n</div>"
     },
     "metadata": {},
     "execution_count": 27
    }
   ],
   "source": [
    "#check again if flip based on the right bank holidays\n",
    "holidayData[holidayData['holiday']==1]"
   ]
  },
  {
   "cell_type": "code",
   "execution_count": 28,
   "metadata": {},
   "outputs": [],
   "source": [
    "#drop nameOfHoliday and date that won't be used\n",
    "holidayData.drop(['nameOfHoliday'], axis = 1, inplace=True) \n",
    "holidayData.drop(['date'], axis = 1, inplace=True) "
   ]
  },
  {
   "cell_type": "code",
   "execution_count": 30,
   "metadata": {},
   "outputs": [],
   "source": [
    "#rename the date column to make it more convenient for future joining\n",
    "holidayData.rename(columns = {'Date':'DAYOFSERVICE'}, inplace = True)"
   ]
  },
  {
   "cell_type": "code",
   "execution_count": 31,
   "metadata": {},
   "outputs": [],
   "source": [
    "df=pd.merge(df, holidayData, how='inner', left_on=['DAYOFSERVICE'], right_on=['DAYOFSERVICE'])"
   ]
  },
  {
   "cell_type": "code",
   "execution_count": 37,
   "metadata": {},
   "outputs": [
    {
     "output_type": "execute_result",
     "data": {
      "text/plain": "        DAYOFSERVICE   TRIPID LINEID  PROGRNUMBER STOPPOINTID  DIRECTION  \\\n0         2018-02-07  6253554      1            1         381          2   \n1         2018-02-07  6253554      1            2         382          2   \n2         2018-02-07  6253554      1            3        4451          2   \n3         2018-02-07  6253554      1            4         383          2   \n4         2018-02-07  6253554      1            5         384          2   \n...              ...      ...    ...          ...         ...        ...   \n1336955   2018-01-07  6105447      1           35         373          1   \n1336956   2018-01-07  6105447      1           13          44          1   \n1336957   2018-01-07  6105447      1           34         372          1   \n1336958   2018-01-07  6105447      1            1         226          1   \n1336959   2018-01-07  6105447      1           20          51          1   \n\n         ACTUALTIME_DEP  ACTUALTIME_ARR  hour  dayofweek  ...  temp  pressure  \\\n0                 63629           63629    17          0  ...   2.9       6.7   \n1                 63690           63675    17          0  ...   2.9       6.7   \n2                 63739           63715    17          0  ...   2.9       6.7   \n3                 63788           63774    17          0  ...   2.9       6.7   \n4                 63824           63824    17          0  ...   2.9       6.7   \n...                 ...             ...   ...        ...  ...   ...       ...   \n1336955           85448           85448    23          1  ...   1.9       4.7   \n1336956           83332           83320    23          1  ...   1.9       4.7   \n1336957           85428           85428    23          1  ...   1.9       4.7   \n1336958           82827           82827    23          1  ...   1.9       4.7   \n1336959           83668           83668    23          1  ...   1.9       4.7   \n\n         humidity  wind_speed  wind_dir  sun  visibility  cloud_height  \\\n0               6           9       210  0.0       25000            40   \n1               6           9       210  0.0       25000            40   \n2               6           9       210  0.0       25000            40   \n3               6           9       210  0.0       25000            40   \n4               6           9       210  0.0       25000            40   \n...           ...         ...       ...  ...         ...           ...   \n1336955         4          10       100  0.0       30000           999   \n1336956         4          10       100  0.0       30000           999   \n1336957         4          10       100  0.0       30000           999   \n1336958         4          10       100  0.0       30000           999   \n1336959         4          10       100  0.0       30000           999   \n\n         cloud_cover  holiday  \n0                  7        0  \n1                  7        0  \n2                  7        0  \n3                  7        0  \n4                  7        0  \n...              ...      ...  \n1336955            3        0  \n1336956            3        0  \n1336957            3        0  \n1336958            3        0  \n1336959            3        0  \n\n[1336960 rows x 21 columns]",
      "text/html": "<div>\n<style scoped>\n    .dataframe tbody tr th:only-of-type {\n        vertical-align: middle;\n    }\n\n    .dataframe tbody tr th {\n        vertical-align: top;\n    }\n\n    .dataframe thead th {\n        text-align: right;\n    }\n</style>\n<table border=\"1\" class=\"dataframe\">\n  <thead>\n    <tr style=\"text-align: right;\">\n      <th></th>\n      <th>DAYOFSERVICE</th>\n      <th>TRIPID</th>\n      <th>LINEID</th>\n      <th>PROGRNUMBER</th>\n      <th>STOPPOINTID</th>\n      <th>DIRECTION</th>\n      <th>ACTUALTIME_DEP</th>\n      <th>ACTUALTIME_ARR</th>\n      <th>hour</th>\n      <th>dayofweek</th>\n      <th>...</th>\n      <th>temp</th>\n      <th>pressure</th>\n      <th>humidity</th>\n      <th>wind_speed</th>\n      <th>wind_dir</th>\n      <th>sun</th>\n      <th>visibility</th>\n      <th>cloud_height</th>\n      <th>cloud_cover</th>\n      <th>holiday</th>\n    </tr>\n  </thead>\n  <tbody>\n    <tr>\n      <th>0</th>\n      <td>2018-02-07</td>\n      <td>6253554</td>\n      <td>1</td>\n      <td>1</td>\n      <td>381</td>\n      <td>2</td>\n      <td>63629</td>\n      <td>63629</td>\n      <td>17</td>\n      <td>0</td>\n      <td>...</td>\n      <td>2.9</td>\n      <td>6.7</td>\n      <td>6</td>\n      <td>9</td>\n      <td>210</td>\n      <td>0.0</td>\n      <td>25000</td>\n      <td>40</td>\n      <td>7</td>\n      <td>0</td>\n    </tr>\n    <tr>\n      <th>1</th>\n      <td>2018-02-07</td>\n      <td>6253554</td>\n      <td>1</td>\n      <td>2</td>\n      <td>382</td>\n      <td>2</td>\n      <td>63690</td>\n      <td>63675</td>\n      <td>17</td>\n      <td>0</td>\n      <td>...</td>\n      <td>2.9</td>\n      <td>6.7</td>\n      <td>6</td>\n      <td>9</td>\n      <td>210</td>\n      <td>0.0</td>\n      <td>25000</td>\n      <td>40</td>\n      <td>7</td>\n      <td>0</td>\n    </tr>\n    <tr>\n      <th>2</th>\n      <td>2018-02-07</td>\n      <td>6253554</td>\n      <td>1</td>\n      <td>3</td>\n      <td>4451</td>\n      <td>2</td>\n      <td>63739</td>\n      <td>63715</td>\n      <td>17</td>\n      <td>0</td>\n      <td>...</td>\n      <td>2.9</td>\n      <td>6.7</td>\n      <td>6</td>\n      <td>9</td>\n      <td>210</td>\n      <td>0.0</td>\n      <td>25000</td>\n      <td>40</td>\n      <td>7</td>\n      <td>0</td>\n    </tr>\n    <tr>\n      <th>3</th>\n      <td>2018-02-07</td>\n      <td>6253554</td>\n      <td>1</td>\n      <td>4</td>\n      <td>383</td>\n      <td>2</td>\n      <td>63788</td>\n      <td>63774</td>\n      <td>17</td>\n      <td>0</td>\n      <td>...</td>\n      <td>2.9</td>\n      <td>6.7</td>\n      <td>6</td>\n      <td>9</td>\n      <td>210</td>\n      <td>0.0</td>\n      <td>25000</td>\n      <td>40</td>\n      <td>7</td>\n      <td>0</td>\n    </tr>\n    <tr>\n      <th>4</th>\n      <td>2018-02-07</td>\n      <td>6253554</td>\n      <td>1</td>\n      <td>5</td>\n      <td>384</td>\n      <td>2</td>\n      <td>63824</td>\n      <td>63824</td>\n      <td>17</td>\n      <td>0</td>\n      <td>...</td>\n      <td>2.9</td>\n      <td>6.7</td>\n      <td>6</td>\n      <td>9</td>\n      <td>210</td>\n      <td>0.0</td>\n      <td>25000</td>\n      <td>40</td>\n      <td>7</td>\n      <td>0</td>\n    </tr>\n    <tr>\n      <th>...</th>\n      <td>...</td>\n      <td>...</td>\n      <td>...</td>\n      <td>...</td>\n      <td>...</td>\n      <td>...</td>\n      <td>...</td>\n      <td>...</td>\n      <td>...</td>\n      <td>...</td>\n      <td>...</td>\n      <td>...</td>\n      <td>...</td>\n      <td>...</td>\n      <td>...</td>\n      <td>...</td>\n      <td>...</td>\n      <td>...</td>\n      <td>...</td>\n      <td>...</td>\n      <td>...</td>\n    </tr>\n    <tr>\n      <th>1336955</th>\n      <td>2018-01-07</td>\n      <td>6105447</td>\n      <td>1</td>\n      <td>35</td>\n      <td>373</td>\n      <td>1</td>\n      <td>85448</td>\n      <td>85448</td>\n      <td>23</td>\n      <td>1</td>\n      <td>...</td>\n      <td>1.9</td>\n      <td>4.7</td>\n      <td>4</td>\n      <td>10</td>\n      <td>100</td>\n      <td>0.0</td>\n      <td>30000</td>\n      <td>999</td>\n      <td>3</td>\n      <td>0</td>\n    </tr>\n    <tr>\n      <th>1336956</th>\n      <td>2018-01-07</td>\n      <td>6105447</td>\n      <td>1</td>\n      <td>13</td>\n      <td>44</td>\n      <td>1</td>\n      <td>83332</td>\n      <td>83320</td>\n      <td>23</td>\n      <td>1</td>\n      <td>...</td>\n      <td>1.9</td>\n      <td>4.7</td>\n      <td>4</td>\n      <td>10</td>\n      <td>100</td>\n      <td>0.0</td>\n      <td>30000</td>\n      <td>999</td>\n      <td>3</td>\n      <td>0</td>\n    </tr>\n    <tr>\n      <th>1336957</th>\n      <td>2018-01-07</td>\n      <td>6105447</td>\n      <td>1</td>\n      <td>34</td>\n      <td>372</td>\n      <td>1</td>\n      <td>85428</td>\n      <td>85428</td>\n      <td>23</td>\n      <td>1</td>\n      <td>...</td>\n      <td>1.9</td>\n      <td>4.7</td>\n      <td>4</td>\n      <td>10</td>\n      <td>100</td>\n      <td>0.0</td>\n      <td>30000</td>\n      <td>999</td>\n      <td>3</td>\n      <td>0</td>\n    </tr>\n    <tr>\n      <th>1336958</th>\n      <td>2018-01-07</td>\n      <td>6105447</td>\n      <td>1</td>\n      <td>1</td>\n      <td>226</td>\n      <td>1</td>\n      <td>82827</td>\n      <td>82827</td>\n      <td>23</td>\n      <td>1</td>\n      <td>...</td>\n      <td>1.9</td>\n      <td>4.7</td>\n      <td>4</td>\n      <td>10</td>\n      <td>100</td>\n      <td>0.0</td>\n      <td>30000</td>\n      <td>999</td>\n      <td>3</td>\n      <td>0</td>\n    </tr>\n    <tr>\n      <th>1336959</th>\n      <td>2018-01-07</td>\n      <td>6105447</td>\n      <td>1</td>\n      <td>20</td>\n      <td>51</td>\n      <td>1</td>\n      <td>83668</td>\n      <td>83668</td>\n      <td>23</td>\n      <td>1</td>\n      <td>...</td>\n      <td>1.9</td>\n      <td>4.7</td>\n      <td>4</td>\n      <td>10</td>\n      <td>100</td>\n      <td>0.0</td>\n      <td>30000</td>\n      <td>999</td>\n      <td>3</td>\n      <td>0</td>\n    </tr>\n  </tbody>\n</table>\n<p>1336960 rows × 21 columns</p>\n</div>"
     },
     "metadata": {},
     "execution_count": 37
    }
   ],
   "source": [
    "df"
   ]
  },
  {
   "cell_type": "code",
   "execution_count": 33,
   "metadata": {},
   "outputs": [],
   "source": [
    "df.to_csv('d_mod.csv')"
   ]
  },
  {
   "cell_type": "code",
   "execution_count": 38,
   "metadata": {},
   "outputs": [],
   "source": [
    "df['trip_dep_time'] = \"\""
   ]
  },
  {
   "cell_type": "code",
   "execution_count": null,
   "metadata": {},
   "outputs": [],
   "source": [
    "dfbver"
   ]
  }
 ],
 "metadata": {
  "language_info": {
   "codemirror_mode": {
    "name": "ipython",
    "version": 3
   },
   "file_extension": ".py",
   "mimetype": "text/x-python",
   "name": "python",
   "nbconvert_exporter": "python",
   "pygments_lexer": "ipython3",
   "version": "3.8.3-final"
  },
  "orig_nbformat": 2,
  "kernelspec": {
   "name": "python38364bitdublinbuscondabec972e068524f409200095ec019eac2",
   "display_name": "Python 3.8.3 64-bit ('dublin-bus': conda)"
  }
 },
 "nbformat": 4,
 "nbformat_minor": 2
}