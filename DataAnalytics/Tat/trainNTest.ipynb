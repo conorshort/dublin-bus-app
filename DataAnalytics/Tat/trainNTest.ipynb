{
 "cells": [
  {
   "cell_type": "code",
   "execution_count": 85,
   "metadata": {},
   "outputs": [],
   "source": [
    "from sshtunnel import SSHTunnelForwarder\n",
    "import pymysql\n",
    "import time\n",
    "import pandas as pd\n",
    "import matplotlib.pyplot as plt\n",
    "import seaborn as sns\n",
    "%matplotlib inline\n",
    "\n",
    "\n",
    "import numpy as np\n",
    "import matplotlib.patches as mpatches\n",
    "\n",
    "from sklearn.metrics import mean_squared_error\n",
    "from sklearn.metrics import mean_absolute_error \n",
    "from sklearn.metrics import r2_score #R square\n",
    "from sklearn.neural_network import MLPRegressor\n",
    "from sklearn.neighbors import KNeighborsRegressor\n",
    "from sklearn.linear_model import LinearRegression\n",
    "from sklearn.linear_model import LogisticRegression\n",
    "from sklearn.ensemble import RandomForestClassifier\n",
    "from sklearn.ensemble import RandomForestRegressor\n",
    "from sklearn.model_selection import train_test_split\n",
    "from sklearn.model_selection import TimeSeriesSplit\n",
    "\n",
    "from sklearn.svm import SVC\n",
    "import xgboost as xgb\n",
    "import lightgbm as lgbm\n",
    "from sklearn.svm import SVR\n",
    "from sklearn.neural_network import MLPClassifier\n",
    "from sklearn import metrics\n",
    "from sklearn.model_selection import cross_val_score\n",
    "import pca as pca\n",
    "\n",
    "# ignore warnings\n",
    "import warnings\n",
    "warnings.filterwarnings('ignore')\n",
    "from matplotlib.axes._axes import _log as matplotlib_axes_logger\n",
    "matplotlib_axes_logger.setLevel('ERROR')"
   ]
  },
  {
   "cell_type": "markdown",
   "metadata": {},
   "source": [
    "### Connect to server"
   ]
  },
  {
   "cell_type": "code",
   "execution_count": 86,
   "metadata": {},
   "outputs": [],
   "source": [
    "server = SSHTunnelForwarder(\n",
    "ssh_address=('ipa-008.ucd.ie', 22),\n",
    "ssh_username=\"student\",\n",
    "ssh_password=\"6!#5/6_Dublinbus\",\n",
    "remote_bind_address=(\"localhost\", 3306))\n",
    "### Connect to server### Read Dublin Bus route data"
   ]
  },
  {
   "cell_type": "markdown",
   "metadata": {},
   "source": [
    "### Read Dublin Bus route data"
   ]
  },
  {
   "cell_type": "code",
   "execution_count": 87,
   "metadata": {},
   "outputs": [],
   "source": [
    "def getRouteDataFromDB(routeID):\n",
    "    \n",
    "    server.start()\n",
    "    con = pymysql.connect(user='root',\n",
    "                          passwd='Dublinbus_6!#5/6',\n",
    "                          db='dublinbus',\n",
    "                          host='localhost',\n",
    "                          port=server.local_bind_port)\n",
    "\n",
    "    df = pd.read_sql_query('SELECT * FROM dublinbus.route_%s;' % routeID, con)\n",
    "    con.close()\n",
    "    return df\n"
   ]
  },
  {
   "cell_type": "markdown",
   "metadata": {},
   "source": [
    "### Get extra features\n",
    " - **date:** date of the DAYOFSERVICE\n",
    " - **month:** month of the DAYOFSERVICE\n",
    " - **weekday:** weekday of the DAYOFSERVICE\n",
    " - **dep_hour:** hour of ACTUALTIME_DEP\n",
    " - **arr_hour:** hour of ACTUALTIME_ARR\n",
    " - **isPeaktime:** 1 or 0\n",
    "     - value 1: ACTUALTIME_DEP between 6:30 - 9:30, 15:30 - 18:30\n",
    "     - value 0: otherwise\n",
    " "
   ]
  },
  {
   "cell_type": "code",
   "execution_count": 88,
   "metadata": {},
   "outputs": [],
   "source": [
    "def addExtraFeatures(df):\n",
    "    \n",
    "#   add extra features: 'date', 'month', 'weekday', 'dep_hour', 'arr_hour'\n",
    "    df.DAYOFSERVICE = pd.to_datetime(df.DAYOFSERVICE) \n",
    "    df['date'] = df['DAYOFSERVICE'].dt.day\n",
    "    df['month'] = df['DAYOFSERVICE'].dt.month\n",
    "    df['weekday'] = df['DAYOFSERVICE'].dt.weekday\n",
    "    df['dep_hour'] = (df['ACTUALTIME_DEP'] // 3600) - 1\n",
    "    df['arr_hour'] = (df['ACTUALTIME_ARR'] // 3600) - 1\n",
    "    \n",
    "#   drop the rows which arr_hour < 25\n",
    "    df = df.loc[df.arr_hour <= 24]\n",
    "    \n",
    "    \n",
    "    # Sort and reindex the df so that each trip is in order\n",
    "    df = df.sort_values(['DIRECTION', 'DAYOFSERVICE','TRIPID', 'PROGRNUMBER'], ascending=[True, True, True, True])\n",
    "    df = df.reset_index(drop=True)\n",
    "\n",
    "\n",
    "    df.loc[(df.PROGRNUMBER > df.PROGRNUMBER.shift(1)) &\n",
    "                  (df.TRIPID == df.TRIPID.shift(1)) & \n",
    "                  (df.DIRECTION == df.DIRECTION.shift(1)) &\n",
    "                  (df.DAYOFSERVICE == df.DAYOFSERVICE.shift(1))\n",
    "                  , 'journey_time'] = (df.ACTUALTIME_ARR - df.ACTUALTIME_ARR.shift(1))\n",
    "\n",
    "    # Calc dwell time\n",
    "    # df_rev1_1['dwell_time'] = df_rev1_1.ACTUALTIME_DEP - df_rev1_1.ACTUALTIME_ARR\n",
    "\n",
    "    # Get the previous stop's id\n",
    "    df.loc[(df.PROGRNUMBER > df.PROGRNUMBER.shift(1)) &\n",
    "                  (df.TRIPID == df.TRIPID.shift(1)) & \n",
    "                  (df.DIRECTION == df.DIRECTION.shift(1)) &\n",
    "                  (df.DAYOFSERVICE == df.DAYOFSERVICE.shift(1))\n",
    "                  , 'prev_stop_id'] = df.STOPPOINTID.shift(1)\n",
    "\n",
    "    # Create a segment id by concatenating prev stop id and currnet stop id\n",
    "    df[\"segment_id\"] = df['prev_stop_id'].map(str) + \"-\" + df['STOPPOINTID'].map(str)\n",
    "\n",
    "    # If the progrnumber is 1, that is the first stop, ie there is no previous stop\n",
    "    # set the journey time, seg id and prev stop to NaN\n",
    "    df.loc[df['PROGRNUMBER'] == 1, \"journey_time\"] = np.nan\n",
    "    df.loc[df['PROGRNUMBER'] == 1, \"prev_stop_id\"] = np.nan\n",
    "    df.loc[df['PROGRNUMBER'] == 1, \"segment_id\"] = np.nan\n",
    "    \n",
    "    \n",
    "    #  add isPeaktime feature\n",
    "    #  value 1: 6:30 - 9:30, 15:30 - 18:30 \n",
    "    #  value: otherwise\n",
    "    df['isPeaktime'] = 0\n",
    "    df['isPeaktime'] = np.where(((df.ACTUALTIME_DEP >= 23400) & (df.ACTUALTIME_DEP <= 34200)) |\n",
    "                                   ((df.ACTUALTIME_DEP >= 55800) & (df.ACTUALTIME_DEP <= 66600))\n",
    "                                   , 1, df['isPeaktime'])\n",
    "    return df"
   ]
  },
  {
   "cell_type": "markdown",
   "metadata": {},
   "source": [
    "### Sampling\n",
    "- return the original dataframe if range of dataframe less than 50 after dropping \"segment_id\".value_counts() < 50 index. \n",
    "- Otherwise, sampling the dataframe by groupby 'segment_id' & 'dep_hour'.\n",
    "    "
   ]
  },
  {
   "cell_type": "code",
   "execution_count": 89,
   "metadata": {},
   "outputs": [],
   "source": [
    "def sampling(df):\n",
    "    \n",
    "    #   Drop segment_id which value_counts() < 50\n",
    "    segs_to_drop = list((df[\"segment_id\"].value_counts()[df[\"segment_id\"].value_counts() < 50]).index)\n",
    "    temp_df = df.query(f'segment_id not in {segs_to_drop}')\n",
    "    \n",
    "    \n",
    "    #     After dropping segment_id, \n",
    "    #     If the range of dataframe still greater than 50, \n",
    "    #     sampling the dataframe by groupby 'segment_id' and 'dep_hour'\n",
    "    #     each segment_id sample at most 20 for each hours\n",
    "    print(temp_df.shape)\n",
    "#     if (temp_df.shape[0] > 50):\n",
    "    df = temp_df.groupby(['segment_id', 'arr_hour'], group_keys=False).apply(lambda df: df.sample(20) \n",
    "            if df.shape[0] >= 20 else df)\n",
    "    \n",
    "    \n",
    "    #     After dropping segment_id, if dataframe range less than 10, \n",
    "    #     then return whole original dataframe\n",
    "    return df"
   ]
  },
  {
   "cell_type": "markdown",
   "metadata": {},
   "source": [
    "### Outliner\n",
    "- replace the outliner journey data (data over 99th percentile) to mean value"
   ]
  },
  {
   "cell_type": "code",
   "execution_count": 90,
   "metadata": {},
   "outputs": [],
   "source": [
    "def dealWithOutlier(df):\n",
    "    \n",
    "    #     get mean value of journey_time\n",
    "#     journeyTimeMean = df[\"journey_time\"].mean()\n",
    "    \n",
    "#     print('99th percentile ', df['journey_time'].quantile(0.995))\n",
    "    quantile_99 = df['journey_time'].quantile(0.995)\n",
    "    df = df.loc[df.journey_time < quantile_99]\n",
    "    #     replace outliner journey_time value to mean value\n",
    "#     df['journey_time'].replace(df.journey_time > quantile_99 , journeyTimeMean,inplace=True)\n",
    "    return df"
   ]
  },
  {
   "cell_type": "markdown",
   "metadata": {},
   "source": [
    "### Drop Columns\n"
   ]
  },
  {
   "cell_type": "code",
   "execution_count": 91,
   "metadata": {},
   "outputs": [],
   "source": [
    "def dropColumns(df):\n",
    "    df = df.loc[ df['journey_time'] >= 0 ]\n",
    "   \n",
    "    useless_features = [\n",
    "      'LINEID',\n",
    "      'DAYOFSERVICE', \n",
    "      'TRIPID', \n",
    "      'Unnamed: 0', \n",
    "      'datetime', \n",
    "      'PROGRNUMBER', \n",
    "      'STOPPOINTID', \n",
    "      'DIRECTION', \n",
    "      'prev_stop_id'\n",
    "    ]\n",
    "    \n",
    "    low_correlation_features = [\n",
    "     'dep_hour',\n",
    "     'ACTUALTIME_DEP',\n",
    "     'ACTUALTIME_ARR',\n",
    "     'rain',\n",
    "     'pressure',\n",
    "     'humidity',\n",
    "     'wind_dir',\n",
    "     'visibility',\n",
    "     'cloud_height',\n",
    "     'cloud_cover',\n",
    "     'month']\n",
    "    \n",
    "    df = df.drop(columns=useless_features)\n",
    "    df = df.drop(columns=low_correlation_features)\n",
    "    \n",
    "    return df\n",
    "    "
   ]
  },
  {
   "cell_type": "markdown",
   "metadata": {},
   "source": [
    "### Add dummys\n",
    "- **hour_dummies:** from 'dep_hour' column\n",
    "- **segment_id_dummies:** from 'segment_id' column"
   ]
  },
  {
   "cell_type": "code",
   "execution_count": 92,
   "metadata": {},
   "outputs": [],
   "source": [
    "def addDummys(df):\n",
    "    hour_dummies = pd.get_dummies(df['arr_hour'], prefix='arr_hour', drop_first=True)\n",
    "    segment_id_dummies = pd.get_dummies(df['segment_id'], prefix='segment_id', drop_first=True)\n",
    "    df = pd.concat([df, hour_dummies, segment_id_dummies], axis=1)\n",
    "    df = df.drop(['segment_id', 'arr_hour'], axis = 1)\n",
    "    return df"
   ]
  },
  {
   "cell_type": "markdown",
   "metadata": {},
   "source": [
    "### Read historical weather dataframe"
   ]
  },
  {
   "cell_type": "code",
   "execution_count": 93,
   "metadata": {},
   "outputs": [],
   "source": [
    "# read in the cleaned csv\n",
    "def readWeatherData():\n",
    "    df_weather = pd.read_csv(\"weather-data-cleaned.csv\")\n",
    "    df_weather.datetime = pd.to_datetime(df_weather.datetime) \n",
    "    df_weather['DAYOFSERVICE'] = df_weather['datetime'].dt.date\n",
    "    df_weather['arr_hour'] = df_weather['datetime'].dt.hour + 1\n",
    "    df_weather.DAYOFSERVICE = pd.to_datetime(df_weather.DAYOFSERVICE) \n",
    "    return df_weather"
   ]
  },
  {
   "cell_type": "code",
   "execution_count": 94,
   "metadata": {},
   "outputs": [],
   "source": [
    "def mergeDF(df1, df2, onColumns):\n",
    "    return pd.merge(df1, df2, how='left', on=onColumns)"
   ]
  },
  {
   "cell_type": "code",
   "execution_count": 143,
   "metadata": {},
   "outputs": [],
   "source": [
    "# Spot Check Algorithms\n",
    "models = []\n",
    "# models.append(('LR', LinearRegression()))\n",
    "# models.append(('NN', MLPRegressor(solver = 'lbfgs')))  #neural network\n",
    "# models.append(('KNN', KNeighborsRegressor())) \n",
    "models.append(('RF', RandomForestRegressor(n_estimators = 20))) \n",
    "# models.append(('SVM', SVR())) # kernel = linear\n",
    "models.append(('XGB', xgb.XGBRegressor(random_state=30)))\n",
    "models.append(('LGBM', lgbm.LGBMRegressor(boosting_type='rf', \n",
    "                                          bagging_freq=1,\n",
    "                                          bagging_fraction=0.8, \n",
    "                                          n_estimators=300)))\n"
   ]
  },
  {
   "cell_type": "code",
   "execution_count": 112,
   "metadata": {},
   "outputs": [],
   "source": [
    "def trainNTest(routeID, df):\n",
    "    \n",
    "    y = pd.DataFrame(df[\"journey_time\"])\n",
    "    X = df.drop([\"journey_time\"],1)\n",
    "\n",
    "    # Random sample from full df, keep 70% sample for train and remaining 30% sample for test\n",
    "    X_train, X_test, y_train, y_test = train_test_split(X, y, test_size=0.3,random_state=1)\n",
    "    print(\"original range is: \",df.shape[0])\n",
    "\n",
    "    # need to reset the index to allow contatenation with predicted values otherwise not joining on same index...\n",
    "    X_train.reset_index(drop=True, inplace=True)\n",
    "    y_train.reset_index(drop=True, inplace=True)\n",
    "    X_test.reset_index(drop=True, inplace=True)\n",
    "    y_test.reset_index(drop=True, inplace=True)\n",
    "\n",
    "    d = {'routeID': [routeID], \n",
    "        'range': df.shape[0]}\n",
    "    \n",
    "    for name, model in models:\n",
    "        start_time = time.time()\n",
    "        mod = model.fit(X_train, y_train)\n",
    "        df_test = mod.predict(X_test) \n",
    "        mse = mean_squared_error(y_test, df_test) \n",
    "        r2 = r2_score(y_test, df_test)\n",
    "        \n",
    "        d[name +'_RMSE'] = [np.sqrt(mse)]\n",
    "        d[name+'_R2'] = [r2]\n",
    "    \n",
    "    df = pd.DataFrame(data=d)\n",
    "    \n",
    "    return df  "
   ]
  },
  {
   "cell_type": "code",
   "execution_count": 178,
   "metadata": {},
   "outputs": [],
   "source": [
    "# lines = ['1', '102' ,'104', '11','111' ,'114','116','118','120','122','123','13','130','14','140','142','145'\n",
    "#          ,'14C','15','150','151','15A','15B','15D','16','161','16C','16D','17','17A','18','184','185','220'\n",
    "#          ,'236','238','239','25','25A','25B','25D','25X','26','27','270','27A','27B','27X','29A','31','31A',\n",
    "#          '31B','31D','32','32X','33','33A','33B','33D','33E','33X','37','38','38A','38B','38D','39','39A','39X'\n",
    "#          ,'4','40','40B','40D','40E','41','41A','41B','41C','41D','41X','42','42D','43','44','44B','45A','46A'\n",
    "#          ,'46E','47','49','51D','51X','53','54A','56A','59','61','63','65','65B','66','66A','66B','66X','67',\n",
    "#          '67X','68','68A','68X','69','69X','7','70','70D','75','76','76A','77A','77X','79','79A','7A','7B',\n",
    "#          '7D','83','83A','84','84A','84X','9']\n",
    "\n",
    "lines = ['9']\n",
    "\n",
    "\n",
    "\n",
    "toSolvedRoute = ['16C']\n",
    "# 37 : not exist\n",
    "# 33E, 41D : segment value count all less than 20"
   ]
  },
  {
   "cell_type": "markdown",
   "metadata": {},
   "source": [
    "### Data cleaning / training / Testing  for routes"
   ]
  },
  {
   "cell_type": "code",
   "execution_count": 179,
   "metadata": {},
   "outputs": [
    {
     "name": "stdout",
     "output_type": "stream",
     "text": [
      "route 9\n",
      "(2712903, 29)\n",
      "original range is:  47563\n"
     ]
    }
   ],
   "source": [
    "lines_result_df_2 = pd.DataFrame()\n",
    "for i in lines:\n",
    "    print('route', i)\n",
    "    start_time = time.time()\n",
    "    df_route = getRouteDataFromDB(i)\n",
    "    df = df_route.copy()\n",
    "    df = addExtraFeatures(df_route)\n",
    "    df_weather = readWeatherData()\n",
    "    df = mergeDF(df, df_weather, ['DAYOFSERVICE', 'arr_hour'])\n",
    "    df = dealWithOutlier(df)\n",
    "    df = sampling(df)\n",
    "    df = addDummys(df)\n",
    "    df = dropColumns(df)\n",
    "    result_df = trainNTest(i, df)\n",
    "    result_df['running_time'] = time.time() - start_time\n",
    "    lines_result_df_2 = lines_result_df_2.append(result_df, ignore_index=True)\n"
   ]
  },
  {
   "cell_type": "code",
   "execution_count": 180,
   "metadata": {},
   "outputs": [
    {
     "data": {
      "text/html": [
       "<div>\n",
       "<style scoped>\n",
       "    .dataframe tbody tr th:only-of-type {\n",
       "        vertical-align: middle;\n",
       "    }\n",
       "\n",
       "    .dataframe tbody tr th {\n",
       "        vertical-align: top;\n",
       "    }\n",
       "\n",
       "    .dataframe thead th {\n",
       "        text-align: right;\n",
       "    }\n",
       "</style>\n",
       "<table border=\"1\" class=\"dataframe\">\n",
       "  <thead>\n",
       "    <tr style=\"text-align: right;\">\n",
       "      <th></th>\n",
       "      <th>routeID</th>\n",
       "      <th>range</th>\n",
       "      <th>RF_RMSE</th>\n",
       "      <th>RF_R2</th>\n",
       "      <th>XGB_RMSE</th>\n",
       "      <th>XGB_R2</th>\n",
       "      <th>LGBM_RMSE</th>\n",
       "      <th>LGBM_R2</th>\n",
       "      <th>running_time</th>\n",
       "    </tr>\n",
       "  </thead>\n",
       "  <tbody>\n",
       "    <tr>\n",
       "      <td>0</td>\n",
       "      <td>9</td>\n",
       "      <td>47563</td>\n",
       "      <td>31.061809</td>\n",
       "      <td>0.642162</td>\n",
       "      <td>30.222441</td>\n",
       "      <td>0.66124</td>\n",
       "      <td>35.156117</td>\n",
       "      <td>0.54161</td>\n",
       "      <td>231.16235</td>\n",
       "    </tr>\n",
       "  </tbody>\n",
       "</table>\n",
       "</div>"
      ],
      "text/plain": [
       "  routeID  range    RF_RMSE     RF_R2   XGB_RMSE   XGB_R2  LGBM_RMSE  LGBM_R2  \\\n",
       "0       9  47563  31.061809  0.642162  30.222441  0.66124  35.156117  0.54161   \n",
       "\n",
       "   running_time  \n",
       "0     231.16235  "
      ]
     },
     "execution_count": 180,
     "metadata": {},
     "output_type": "execute_result"
    }
   ],
   "source": [
    "lines_result_df_2"
   ]
  },
  {
   "cell_type": "code",
   "execution_count": 181,
   "metadata": {},
   "outputs": [
    {
     "data": {
      "text/html": [
       "<div>\n",
       "<style scoped>\n",
       "    .dataframe tbody tr th:only-of-type {\n",
       "        vertical-align: middle;\n",
       "    }\n",
       "\n",
       "    .dataframe tbody tr th {\n",
       "        vertical-align: top;\n",
       "    }\n",
       "\n",
       "    .dataframe thead th {\n",
       "        text-align: right;\n",
       "    }\n",
       "</style>\n",
       "<table border=\"1\" class=\"dataframe\">\n",
       "  <thead>\n",
       "    <tr style=\"text-align: right;\">\n",
       "      <th></th>\n",
       "      <th>routeID</th>\n",
       "      <th>range</th>\n",
       "      <th>RF_RMSE</th>\n",
       "      <th>RF_R2</th>\n",
       "      <th>XGB_RMSE</th>\n",
       "      <th>XGB_R2</th>\n",
       "      <th>LGBM_RMSE</th>\n",
       "      <th>LGBM_R2</th>\n",
       "      <th>running_time</th>\n",
       "    </tr>\n",
       "  </thead>\n",
       "  <tbody>\n",
       "    <tr>\n",
       "      <td>0</td>\n",
       "      <td>1</td>\n",
       "      <td>29948</td>\n",
       "      <td>34.428079</td>\n",
       "      <td>0.610680</td>\n",
       "      <td>33.030893</td>\n",
       "      <td>0.641638</td>\n",
       "      <td>32.592809</td>\n",
       "      <td>0.651081</td>\n",
       "      <td>91.836509</td>\n",
       "    </tr>\n",
       "    <tr>\n",
       "      <td>1</td>\n",
       "      <td>102</td>\n",
       "      <td>40000</td>\n",
       "      <td>26.767572</td>\n",
       "      <td>0.809757</td>\n",
       "      <td>25.884343</td>\n",
       "      <td>0.822105</td>\n",
       "      <td>25.391237</td>\n",
       "      <td>0.828818</td>\n",
       "      <td>100.251457</td>\n",
       "    </tr>\n",
       "    <tr>\n",
       "      <td>2</td>\n",
       "      <td>104</td>\n",
       "      <td>19876</td>\n",
       "      <td>30.530529</td>\n",
       "      <td>0.711670</td>\n",
       "      <td>29.874289</td>\n",
       "      <td>0.723932</td>\n",
       "      <td>28.953156</td>\n",
       "      <td>0.740694</td>\n",
       "      <td>26.979863</td>\n",
       "    </tr>\n",
       "    <tr>\n",
       "      <td>3</td>\n",
       "      <td>11</td>\n",
       "      <td>44782</td>\n",
       "      <td>54.555374</td>\n",
       "      <td>0.544468</td>\n",
       "      <td>51.800231</td>\n",
       "      <td>0.589316</td>\n",
       "      <td>53.644521</td>\n",
       "      <td>0.559552</td>\n",
       "      <td>132.230691</td>\n",
       "    </tr>\n",
       "    <tr>\n",
       "      <td>4</td>\n",
       "      <td>111</td>\n",
       "      <td>30375</td>\n",
       "      <td>33.564758</td>\n",
       "      <td>0.538002</td>\n",
       "      <td>32.873536</td>\n",
       "      <td>0.556835</td>\n",
       "      <td>32.526348</td>\n",
       "      <td>0.566146</td>\n",
       "      <td>38.907356</td>\n",
       "    </tr>\n",
       "    <tr>\n",
       "      <td>...</td>\n",
       "      <td>...</td>\n",
       "      <td>...</td>\n",
       "      <td>...</td>\n",
       "      <td>...</td>\n",
       "      <td>...</td>\n",
       "      <td>...</td>\n",
       "      <td>...</td>\n",
       "      <td>...</td>\n",
       "      <td>...</td>\n",
       "    </tr>\n",
       "    <tr>\n",
       "      <td>121</td>\n",
       "      <td>83A</td>\n",
       "      <td>39994</td>\n",
       "      <td>29.118278</td>\n",
       "      <td>0.711099</td>\n",
       "      <td>27.729971</td>\n",
       "      <td>0.737991</td>\n",
       "      <td>31.569659</td>\n",
       "      <td>0.660408</td>\n",
       "      <td>83.908238</td>\n",
       "    </tr>\n",
       "    <tr>\n",
       "      <td>122</td>\n",
       "      <td>84</td>\n",
       "      <td>65755</td>\n",
       "      <td>34.568375</td>\n",
       "      <td>0.645438</td>\n",
       "      <td>34.553094</td>\n",
       "      <td>0.645751</td>\n",
       "      <td>38.685301</td>\n",
       "      <td>0.555955</td>\n",
       "      <td>166.813325</td>\n",
       "    </tr>\n",
       "    <tr>\n",
       "      <td>123</td>\n",
       "      <td>84A</td>\n",
       "      <td>15354</td>\n",
       "      <td>41.806156</td>\n",
       "      <td>0.601364</td>\n",
       "      <td>40.070288</td>\n",
       "      <td>0.633781</td>\n",
       "      <td>43.829752</td>\n",
       "      <td>0.561839</td>\n",
       "      <td>23.978037</td>\n",
       "    </tr>\n",
       "    <tr>\n",
       "      <td>124</td>\n",
       "      <td>84X</td>\n",
       "      <td>8664</td>\n",
       "      <td>53.509264</td>\n",
       "      <td>0.761897</td>\n",
       "      <td>51.776326</td>\n",
       "      <td>0.777070</td>\n",
       "      <td>64.538742</td>\n",
       "      <td>0.653624</td>\n",
       "      <td>18.573054</td>\n",
       "    </tr>\n",
       "    <tr>\n",
       "      <td>125</td>\n",
       "      <td>9</td>\n",
       "      <td>47563</td>\n",
       "      <td>31.061809</td>\n",
       "      <td>0.642162</td>\n",
       "      <td>30.222441</td>\n",
       "      <td>0.661240</td>\n",
       "      <td>35.156117</td>\n",
       "      <td>0.541610</td>\n",
       "      <td>231.162350</td>\n",
       "    </tr>\n",
       "  </tbody>\n",
       "</table>\n",
       "<p>126 rows × 9 columns</p>\n",
       "</div>"
      ],
      "text/plain": [
       "    routeID  range    RF_RMSE     RF_R2   XGB_RMSE    XGB_R2  LGBM_RMSE  \\\n",
       "0         1  29948  34.428079  0.610680  33.030893  0.641638  32.592809   \n",
       "1       102  40000  26.767572  0.809757  25.884343  0.822105  25.391237   \n",
       "2       104  19876  30.530529  0.711670  29.874289  0.723932  28.953156   \n",
       "3        11  44782  54.555374  0.544468  51.800231  0.589316  53.644521   \n",
       "4       111  30375  33.564758  0.538002  32.873536  0.556835  32.526348   \n",
       "..      ...    ...        ...       ...        ...       ...        ...   \n",
       "121     83A  39994  29.118278  0.711099  27.729971  0.737991  31.569659   \n",
       "122      84  65755  34.568375  0.645438  34.553094  0.645751  38.685301   \n",
       "123     84A  15354  41.806156  0.601364  40.070288  0.633781  43.829752   \n",
       "124     84X   8664  53.509264  0.761897  51.776326  0.777070  64.538742   \n",
       "125       9  47563  31.061809  0.642162  30.222441  0.661240  35.156117   \n",
       "\n",
       "      LGBM_R2  running_time  \n",
       "0    0.651081     91.836509  \n",
       "1    0.828818    100.251457  \n",
       "2    0.740694     26.979863  \n",
       "3    0.559552    132.230691  \n",
       "4    0.566146     38.907356  \n",
       "..        ...           ...  \n",
       "121  0.660408     83.908238  \n",
       "122  0.555955    166.813325  \n",
       "123  0.561839     23.978037  \n",
       "124  0.653624     18.573054  \n",
       "125  0.541610    231.162350  \n",
       "\n",
       "[126 rows x 9 columns]"
      ]
     },
     "execution_count": 181,
     "metadata": {},
     "output_type": "execute_result"
    }
   ],
   "source": [
    "# route 1 -114\n",
    "# lines_result_df_1 = lines_result_df_1.append(result_df, ignore_index=True)\n",
    "lines_result_df_1 = lines_result_df_1.append(lines_result_df_2, ignore_index=True)\n",
    "lines_result_df_1"
   ]
  },
  {
   "cell_type": "code",
   "execution_count": 182,
   "metadata": {},
   "outputs": [],
   "source": [
    "lines_result_df_1.to_csv('3_models.csv')"
   ]
  },
  {
   "cell_type": "markdown",
   "metadata": {},
   "source": [
    "### Testing specific route code"
   ]
  },
  {
   "cell_type": "code",
   "execution_count": 141,
   "metadata": {},
   "outputs": [
    {
     "name": "stdout",
     "output_type": "stream",
     "text": [
      "(13507, 29)\n",
      "original range is:  1300\n"
     ]
    }
   ],
   "source": [
    "df_route_33E = getRouteDataFromDB('118')\n",
    "# df_route_33E = pd.read_csv(\"route_1.csv\")\n",
    "df_route_33E.head()\n",
    "df_route_33E = addExtraFeatures(df_route_33E)\n",
    "df_weather = readWeatherData()\n",
    "df_route_33E = mergeDF(df_route_33E, df_weather, ['DAYOFSERVICE', 'arr_hour'])\n",
    "df_route_33E = dealWithOutlier(df_route_33E)\n",
    "df_route_33E = sampling(df_route_33E)\n",
    "df_route_33E = addDummys(df_route_33E)\n",
    "df_route_33E = dropColumns(df_route_33E)\n",
    "result_df = trainNTest('118', df_route_33E)"
   ]
  },
  {
   "cell_type": "code",
   "execution_count": 142,
   "metadata": {},
   "outputs": [
    {
     "data": {
      "text/html": [
       "<div>\n",
       "<style scoped>\n",
       "    .dataframe tbody tr th:only-of-type {\n",
       "        vertical-align: middle;\n",
       "    }\n",
       "\n",
       "    .dataframe tbody tr th {\n",
       "        vertical-align: top;\n",
       "    }\n",
       "\n",
       "    .dataframe thead th {\n",
       "        text-align: right;\n",
       "    }\n",
       "</style>\n",
       "<table border=\"1\" class=\"dataframe\">\n",
       "  <thead>\n",
       "    <tr style=\"text-align: right;\">\n",
       "      <th></th>\n",
       "      <th>routeID</th>\n",
       "      <th>range</th>\n",
       "      <th>RF_RMSE</th>\n",
       "      <th>RF_R2</th>\n",
       "      <th>XGB_RMSE</th>\n",
       "      <th>XGB_R2</th>\n",
       "      <th>LGBM_RMSE</th>\n",
       "      <th>LGBM_R2</th>\n",
       "    </tr>\n",
       "  </thead>\n",
       "  <tbody>\n",
       "    <tr>\n",
       "      <td>0</td>\n",
       "      <td>118</td>\n",
       "      <td>1300</td>\n",
       "      <td>61.030137</td>\n",
       "      <td>0.574091</td>\n",
       "      <td>64.654636</td>\n",
       "      <td>0.522</td>\n",
       "      <td>76.37283</td>\n",
       "      <td>0.33303</td>\n",
       "    </tr>\n",
       "  </tbody>\n",
       "</table>\n",
       "</div>"
      ],
      "text/plain": [
       "  routeID  range    RF_RMSE     RF_R2   XGB_RMSE  XGB_R2  LGBM_RMSE  LGBM_R2\n",
       "0     118   1300  61.030137  0.574091  64.654636   0.522   76.37283  0.33303"
      ]
     },
     "execution_count": 142,
     "metadata": {},
     "output_type": "execute_result"
    }
   ],
   "source": [
    "result_df"
   ]
  },
  {
   "cell_type": "markdown",
   "metadata": {},
   "source": [
    "### Evaluate"
   ]
  },
  {
   "cell_type": "code",
   "execution_count": 183,
   "metadata": {},
   "outputs": [
    {
     "data": {
      "text/html": [
       "<div>\n",
       "<style scoped>\n",
       "    .dataframe tbody tr th:only-of-type {\n",
       "        vertical-align: middle;\n",
       "    }\n",
       "\n",
       "    .dataframe tbody tr th {\n",
       "        vertical-align: top;\n",
       "    }\n",
       "\n",
       "    .dataframe thead th {\n",
       "        text-align: right;\n",
       "    }\n",
       "</style>\n",
       "<table border=\"1\" class=\"dataframe\">\n",
       "  <thead>\n",
       "    <tr style=\"text-align: right;\">\n",
       "      <th></th>\n",
       "      <th>Unnamed: 0</th>\n",
       "      <th>routeID</th>\n",
       "      <th>MAE</th>\n",
       "      <th>MSE</th>\n",
       "      <th>RMSE</th>\n",
       "      <th>R2</th>\n",
       "      <th>range</th>\n",
       "      <th>running_time</th>\n",
       "    </tr>\n",
       "  </thead>\n",
       "  <tbody>\n",
       "    <tr>\n",
       "      <td>0</td>\n",
       "      <td>0</td>\n",
       "      <td>1</td>\n",
       "      <td>22.282420</td>\n",
       "      <td>22.282420</td>\n",
       "      <td>33.616589</td>\n",
       "      <td>0.622151</td>\n",
       "      <td>29948</td>\n",
       "      <td>6.889797</td>\n",
       "    </tr>\n",
       "    <tr>\n",
       "      <td>1</td>\n",
       "      <td>1</td>\n",
       "      <td>102</td>\n",
       "      <td>16.640386</td>\n",
       "      <td>16.640386</td>\n",
       "      <td>27.787550</td>\n",
       "      <td>0.817541</td>\n",
       "      <td>39956</td>\n",
       "      <td>17.751336</td>\n",
       "    </tr>\n",
       "    <tr>\n",
       "      <td>2</td>\n",
       "      <td>2</td>\n",
       "      <td>104</td>\n",
       "      <td>18.825854</td>\n",
       "      <td>18.825854</td>\n",
       "      <td>30.059503</td>\n",
       "      <td>0.703294</td>\n",
       "      <td>19875</td>\n",
       "      <td>4.165195</td>\n",
       "    </tr>\n",
       "    <tr>\n",
       "      <td>3</td>\n",
       "      <td>3</td>\n",
       "      <td>11</td>\n",
       "      <td>25.095960</td>\n",
       "      <td>25.095960</td>\n",
       "      <td>50.219624</td>\n",
       "      <td>0.659051</td>\n",
       "      <td>44791</td>\n",
       "      <td>24.074608</td>\n",
       "    </tr>\n",
       "    <tr>\n",
       "      <td>4</td>\n",
       "      <td>4</td>\n",
       "      <td>111</td>\n",
       "      <td>18.318390</td>\n",
       "      <td>18.318390</td>\n",
       "      <td>33.911704</td>\n",
       "      <td>0.532718</td>\n",
       "      <td>30380</td>\n",
       "      <td>7.639578</td>\n",
       "    </tr>\n",
       "    <tr>\n",
       "      <td>...</td>\n",
       "      <td>...</td>\n",
       "      <td>...</td>\n",
       "      <td>...</td>\n",
       "      <td>...</td>\n",
       "      <td>...</td>\n",
       "      <td>...</td>\n",
       "      <td>...</td>\n",
       "      <td>...</td>\n",
       "    </tr>\n",
       "    <tr>\n",
       "      <td>123</td>\n",
       "      <td>123</td>\n",
       "      <td>83A</td>\n",
       "      <td>18.528934</td>\n",
       "      <td>18.528934</td>\n",
       "      <td>28.344205</td>\n",
       "      <td>0.732594</td>\n",
       "      <td>39993</td>\n",
       "      <td>22.621848</td>\n",
       "    </tr>\n",
       "    <tr>\n",
       "      <td>124</td>\n",
       "      <td>124</td>\n",
       "      <td>84</td>\n",
       "      <td>17.075207</td>\n",
       "      <td>17.075207</td>\n",
       "      <td>32.938335</td>\n",
       "      <td>0.659331</td>\n",
       "      <td>65857</td>\n",
       "      <td>75.951404</td>\n",
       "    </tr>\n",
       "    <tr>\n",
       "      <td>125</td>\n",
       "      <td>125</td>\n",
       "      <td>84A</td>\n",
       "      <td>23.284599</td>\n",
       "      <td>23.284599</td>\n",
       "      <td>40.467945</td>\n",
       "      <td>0.615652</td>\n",
       "      <td>15351</td>\n",
       "      <td>5.570846</td>\n",
       "    </tr>\n",
       "    <tr>\n",
       "      <td>126</td>\n",
       "      <td>126</td>\n",
       "      <td>84X</td>\n",
       "      <td>31.141348</td>\n",
       "      <td>31.141348</td>\n",
       "      <td>56.816516</td>\n",
       "      <td>0.754929</td>\n",
       "      <td>8666</td>\n",
       "      <td>2.458309</td>\n",
       "    </tr>\n",
       "    <tr>\n",
       "      <td>127</td>\n",
       "      <td>127</td>\n",
       "      <td>9</td>\n",
       "      <td>20.728364</td>\n",
       "      <td>20.728364</td>\n",
       "      <td>31.313288</td>\n",
       "      <td>0.639310</td>\n",
       "      <td>47669</td>\n",
       "      <td>27.858089</td>\n",
       "    </tr>\n",
       "  </tbody>\n",
       "</table>\n",
       "<p>128 rows × 8 columns</p>\n",
       "</div>"
      ],
      "text/plain": [
       "     Unnamed: 0 routeID        MAE        MSE       RMSE        R2  range  \\\n",
       "0             0       1  22.282420  22.282420  33.616589  0.622151  29948   \n",
       "1             1     102  16.640386  16.640386  27.787550  0.817541  39956   \n",
       "2             2     104  18.825854  18.825854  30.059503  0.703294  19875   \n",
       "3             3      11  25.095960  25.095960  50.219624  0.659051  44791   \n",
       "4             4     111  18.318390  18.318390  33.911704  0.532718  30380   \n",
       "..          ...     ...        ...        ...        ...       ...    ...   \n",
       "123         123     83A  18.528934  18.528934  28.344205  0.732594  39993   \n",
       "124         124      84  17.075207  17.075207  32.938335  0.659331  65857   \n",
       "125         125     84A  23.284599  23.284599  40.467945  0.615652  15351   \n",
       "126         126     84X  31.141348  31.141348  56.816516  0.754929   8666   \n",
       "127         127       9  20.728364  20.728364  31.313288  0.639310  47669   \n",
       "\n",
       "     running_time  \n",
       "0        6.889797  \n",
       "1       17.751336  \n",
       "2        4.165195  \n",
       "3       24.074608  \n",
       "4        7.639578  \n",
       "..            ...  \n",
       "123     22.621848  \n",
       "124     75.951404  \n",
       "125      5.570846  \n",
       "126      2.458309  \n",
       "127     27.858089  \n",
       "\n",
       "[128 rows x 8 columns]"
      ]
     },
     "execution_count": 183,
     "metadata": {},
     "output_type": "execute_result"
    }
   ],
   "source": [
    "df_RF = pd.read_csv(\"RF_dep_dep.csv\")\n",
    "df_RF"
   ]
  },
  {
   "cell_type": "code",
   "execution_count": 9,
   "metadata": {},
   "outputs": [
    {
     "data": {
      "text/plain": [
       "routeID          object\n",
       "MAE             float64\n",
       "MSE             float64\n",
       "RMSE            float64\n",
       "R2              float64\n",
       "range             int64\n",
       "running_time    float64\n",
       "dtype: object"
      ]
     },
     "execution_count": 9,
     "metadata": {},
     "output_type": "execute_result"
    }
   ],
   "source": [
    "df_RF = df_RF.drop(columns=['Unnamed: 0'])\n",
    "df_RF.dtypes"
   ]
  },
  {
   "cell_type": "code",
   "execution_count": 5,
   "metadata": {},
   "outputs": [
    {
     "data": {
      "text/plain": [
       "<matplotlib.axes._subplots.AxesSubplot at 0x7f990e0f3150>"
      ]
     },
     "execution_count": 5,
     "metadata": {},
     "output_type": "execute_result"
    },
    {
     "data": {
      "image/png": "[encoded data removed]",
      "text/plain": [
       "<Figure size 432x288 with 1 Axes>"
      ]
     },
     "metadata": {
      "needs_background": "light"
     },
     "output_type": "display_data"
    }
   ],
   "source": [
    "\n",
    "df_RF.plot(kind='scatter', x='range', y='R2')    "
   ]
  },
  {
   "cell_type": "code",
   "execution_count": 6,
   "metadata": {},
   "outputs": [
    {
     "data": {
      "text/plain": [
       "<matplotlib.axes._subplots.AxesSubplot at 0x7f990e223290>"
      ]
     },
     "execution_count": 6,
     "metadata": {},
     "output_type": "execute_result"
    },
    {
     "data": {
      "image/png": "[encoded data removed]",
      "text/plain": [
       "<Figure size 432x288 with 1 Axes>"
      ]
     },
     "metadata": {
      "needs_background": "light"
     },
     "output_type": "display_data"
    }
   ],
   "source": [
    "df_RF.plot(kind='scatter', x='range', y='RMSE')  "
   ]
  },
  {
   "cell_type": "code",
   "execution_count": 10,
   "metadata": {},
   "outputs": [
    {
     "data": {
      "text/html": [
       "<div>\n",
       "<style scoped>\n",
       "    .dataframe tbody tr th:only-of-type {\n",
       "        vertical-align: middle;\n",
       "    }\n",
       "\n",
       "    .dataframe tbody tr th {\n",
       "        vertical-align: top;\n",
       "    }\n",
       "\n",
       "    .dataframe thead th {\n",
       "        text-align: right;\n",
       "    }\n",
       "</style>\n",
       "<table border=\"1\" class=\"dataframe\">\n",
       "  <thead>\n",
       "    <tr style=\"text-align: right;\">\n",
       "      <th></th>\n",
       "      <th>count</th>\n",
       "      <th>mean</th>\n",
       "      <th>std</th>\n",
       "      <th>min</th>\n",
       "      <th>25%</th>\n",
       "      <th>50%</th>\n",
       "      <th>75%</th>\n",
       "      <th>max</th>\n",
       "    </tr>\n",
       "  </thead>\n",
       "  <tbody>\n",
       "    <tr>\n",
       "      <td>MAE</td>\n",
       "      <td>128.0</td>\n",
       "      <td>22.236838</td>\n",
       "      <td>6.386197</td>\n",
       "      <td>11.558445</td>\n",
       "      <td>18.270264</td>\n",
       "      <td>20.761959</td>\n",
       "      <td>25.137085</td>\n",
       "      <td>46.151450</td>\n",
       "    </tr>\n",
       "    <tr>\n",
       "      <td>MSE</td>\n",
       "      <td>128.0</td>\n",
       "      <td>22.236838</td>\n",
       "      <td>6.386197</td>\n",
       "      <td>11.558445</td>\n",
       "      <td>18.270264</td>\n",
       "      <td>20.761959</td>\n",
       "      <td>25.137085</td>\n",
       "      <td>46.151450</td>\n",
       "    </tr>\n",
       "    <tr>\n",
       "      <td>RMSE</td>\n",
       "      <td>128.0</td>\n",
       "      <td>38.416174</td>\n",
       "      <td>14.374028</td>\n",
       "      <td>17.218978</td>\n",
       "      <td>29.393282</td>\n",
       "      <td>33.925107</td>\n",
       "      <td>43.810439</td>\n",
       "      <td>101.364079</td>\n",
       "    </tr>\n",
       "    <tr>\n",
       "      <td>R2</td>\n",
       "      <td>128.0</td>\n",
       "      <td>0.667214</td>\n",
       "      <td>0.133741</td>\n",
       "      <td>-0.020642</td>\n",
       "      <td>0.628872</td>\n",
       "      <td>0.680265</td>\n",
       "      <td>0.732640</td>\n",
       "      <td>0.970231</td>\n",
       "    </tr>\n",
       "    <tr>\n",
       "      <td>range</td>\n",
       "      <td>128.0</td>\n",
       "      <td>27230.539062</td>\n",
       "      <td>19910.720515</td>\n",
       "      <td>811.000000</td>\n",
       "      <td>6462.750000</td>\n",
       "      <td>29125.000000</td>\n",
       "      <td>42335.250000</td>\n",
       "      <td>79514.000000</td>\n",
       "    </tr>\n",
       "    <tr>\n",
       "      <td>running_time</td>\n",
       "      <td>128.0</td>\n",
       "      <td>15.476433</td>\n",
       "      <td>19.360113</td>\n",
       "      <td>0.094812</td>\n",
       "      <td>1.442239</td>\n",
       "      <td>8.851176</td>\n",
       "      <td>22.819499</td>\n",
       "      <td>110.282810</td>\n",
       "    </tr>\n",
       "  </tbody>\n",
       "</table>\n",
       "</div>"
      ],
      "text/plain": [
       "              count          mean           std         min          25%  \\\n",
       "MAE           128.0     22.236838      6.386197   11.558445    18.270264   \n",
       "MSE           128.0     22.236838      6.386197   11.558445    18.270264   \n",
       "RMSE          128.0     38.416174     14.374028   17.218978    29.393282   \n",
       "R2            128.0      0.667214      0.133741   -0.020642     0.628872   \n",
       "range         128.0  27230.539062  19910.720515  811.000000  6462.750000   \n",
       "running_time  128.0     15.476433     19.360113    0.094812     1.442239   \n",
       "\n",
       "                       50%           75%           max  \n",
       "MAE              20.761959     25.137085     46.151450  \n",
       "MSE              20.761959     25.137085     46.151450  \n",
       "RMSE             33.925107     43.810439    101.364079  \n",
       "R2                0.680265      0.732640      0.970231  \n",
       "range         29125.000000  42335.250000  79514.000000  \n",
       "running_time      8.851176     22.819499    110.282810  "
      ]
     },
     "execution_count": 10,
     "metadata": {},
     "output_type": "execute_result"
    }
   ],
   "source": [
    "continuous_columns = df_RF.select_dtypes(['int64', 'float64'])\n",
    "continuous_describe = continuous_columns.describe().T\n",
    "\n",
    "continuous_describe"
   ]
  },
  {
   "cell_type": "markdown",
   "metadata": {},
   "source": [
    "### evaluation RF vs XGB vs\tLGBM"
   ]
  },
  {
   "cell_type": "code",
   "execution_count": 185,
   "metadata": {},
   "outputs": [
    {
     "data": {
      "text/html": [
       "<div>\n",
       "<style scoped>\n",
       "    .dataframe tbody tr th:only-of-type {\n",
       "        vertical-align: middle;\n",
       "    }\n",
       "\n",
       "    .dataframe tbody tr th {\n",
       "        vertical-align: top;\n",
       "    }\n",
       "\n",
       "    .dataframe thead th {\n",
       "        text-align: right;\n",
       "    }\n",
       "</style>\n",
       "<table border=\"1\" class=\"dataframe\">\n",
       "  <thead>\n",
       "    <tr style=\"text-align: right;\">\n",
       "      <th></th>\n",
       "      <th>Unnamed: 0</th>\n",
       "      <th>routeID</th>\n",
       "      <th>range</th>\n",
       "      <th>RF_RMSE</th>\n",
       "      <th>RF_R2</th>\n",
       "      <th>XGB_RMSE</th>\n",
       "      <th>XGB_R2</th>\n",
       "      <th>LGBM_RMSE</th>\n",
       "      <th>LGBM_R2</th>\n",
       "      <th>running_time</th>\n",
       "    </tr>\n",
       "  </thead>\n",
       "  <tbody>\n",
       "    <tr>\n",
       "      <td>0</td>\n",
       "      <td>0</td>\n",
       "      <td>1</td>\n",
       "      <td>29948</td>\n",
       "      <td>34.428079</td>\n",
       "      <td>0.610680</td>\n",
       "      <td>33.030893</td>\n",
       "      <td>0.641638</td>\n",
       "      <td>32.592809</td>\n",
       "      <td>0.651081</td>\n",
       "      <td>91.836509</td>\n",
       "    </tr>\n",
       "    <tr>\n",
       "      <td>1</td>\n",
       "      <td>1</td>\n",
       "      <td>102</td>\n",
       "      <td>40000</td>\n",
       "      <td>26.767572</td>\n",
       "      <td>0.809757</td>\n",
       "      <td>25.884343</td>\n",
       "      <td>0.822105</td>\n",
       "      <td>25.391237</td>\n",
       "      <td>0.828818</td>\n",
       "      <td>100.251457</td>\n",
       "    </tr>\n",
       "    <tr>\n",
       "      <td>2</td>\n",
       "      <td>2</td>\n",
       "      <td>104</td>\n",
       "      <td>19876</td>\n",
       "      <td>30.530529</td>\n",
       "      <td>0.711670</td>\n",
       "      <td>29.874289</td>\n",
       "      <td>0.723932</td>\n",
       "      <td>28.953156</td>\n",
       "      <td>0.740694</td>\n",
       "      <td>26.979863</td>\n",
       "    </tr>\n",
       "    <tr>\n",
       "      <td>3</td>\n",
       "      <td>3</td>\n",
       "      <td>11</td>\n",
       "      <td>44782</td>\n",
       "      <td>54.555374</td>\n",
       "      <td>0.544468</td>\n",
       "      <td>51.800231</td>\n",
       "      <td>0.589316</td>\n",
       "      <td>53.644521</td>\n",
       "      <td>0.559552</td>\n",
       "      <td>132.230691</td>\n",
       "    </tr>\n",
       "    <tr>\n",
       "      <td>4</td>\n",
       "      <td>4</td>\n",
       "      <td>111</td>\n",
       "      <td>30375</td>\n",
       "      <td>33.564758</td>\n",
       "      <td>0.538002</td>\n",
       "      <td>32.873536</td>\n",
       "      <td>0.556835</td>\n",
       "      <td>32.526348</td>\n",
       "      <td>0.566146</td>\n",
       "      <td>38.907356</td>\n",
       "    </tr>\n",
       "    <tr>\n",
       "      <td>...</td>\n",
       "      <td>...</td>\n",
       "      <td>...</td>\n",
       "      <td>...</td>\n",
       "      <td>...</td>\n",
       "      <td>...</td>\n",
       "      <td>...</td>\n",
       "      <td>...</td>\n",
       "      <td>...</td>\n",
       "      <td>...</td>\n",
       "      <td>...</td>\n",
       "    </tr>\n",
       "    <tr>\n",
       "      <td>121</td>\n",
       "      <td>121</td>\n",
       "      <td>83A</td>\n",
       "      <td>39994</td>\n",
       "      <td>29.118278</td>\n",
       "      <td>0.711099</td>\n",
       "      <td>27.729971</td>\n",
       "      <td>0.737991</td>\n",
       "      <td>31.569659</td>\n",
       "      <td>0.660408</td>\n",
       "      <td>83.908238</td>\n",
       "    </tr>\n",
       "    <tr>\n",
       "      <td>122</td>\n",
       "      <td>122</td>\n",
       "      <td>84</td>\n",
       "      <td>65755</td>\n",
       "      <td>34.568375</td>\n",
       "      <td>0.645438</td>\n",
       "      <td>34.553094</td>\n",
       "      <td>0.645751</td>\n",
       "      <td>38.685301</td>\n",
       "      <td>0.555955</td>\n",
       "      <td>166.813325</td>\n",
       "    </tr>\n",
       "    <tr>\n",
       "      <td>123</td>\n",
       "      <td>123</td>\n",
       "      <td>84A</td>\n",
       "      <td>15354</td>\n",
       "      <td>41.806156</td>\n",
       "      <td>0.601364</td>\n",
       "      <td>40.070288</td>\n",
       "      <td>0.633781</td>\n",
       "      <td>43.829752</td>\n",
       "      <td>0.561839</td>\n",
       "      <td>23.978037</td>\n",
       "    </tr>\n",
       "    <tr>\n",
       "      <td>124</td>\n",
       "      <td>124</td>\n",
       "      <td>84X</td>\n",
       "      <td>8664</td>\n",
       "      <td>53.509264</td>\n",
       "      <td>0.761897</td>\n",
       "      <td>51.776326</td>\n",
       "      <td>0.777070</td>\n",
       "      <td>64.538742</td>\n",
       "      <td>0.653624</td>\n",
       "      <td>18.573054</td>\n",
       "    </tr>\n",
       "    <tr>\n",
       "      <td>125</td>\n",
       "      <td>125</td>\n",
       "      <td>9</td>\n",
       "      <td>47563</td>\n",
       "      <td>31.061809</td>\n",
       "      <td>0.642162</td>\n",
       "      <td>30.222441</td>\n",
       "      <td>0.661240</td>\n",
       "      <td>35.156117</td>\n",
       "      <td>0.541610</td>\n",
       "      <td>231.162350</td>\n",
       "    </tr>\n",
       "  </tbody>\n",
       "</table>\n",
       "<p>126 rows × 10 columns</p>\n",
       "</div>"
      ],
      "text/plain": [
       "     Unnamed: 0 routeID  range    RF_RMSE     RF_R2   XGB_RMSE    XGB_R2  \\\n",
       "0             0       1  29948  34.428079  0.610680  33.030893  0.641638   \n",
       "1             1     102  40000  26.767572  0.809757  25.884343  0.822105   \n",
       "2             2     104  19876  30.530529  0.711670  29.874289  0.723932   \n",
       "3             3      11  44782  54.555374  0.544468  51.800231  0.589316   \n",
       "4             4     111  30375  33.564758  0.538002  32.873536  0.556835   \n",
       "..          ...     ...    ...        ...       ...        ...       ...   \n",
       "121         121     83A  39994  29.118278  0.711099  27.729971  0.737991   \n",
       "122         122      84  65755  34.568375  0.645438  34.553094  0.645751   \n",
       "123         123     84A  15354  41.806156  0.601364  40.070288  0.633781   \n",
       "124         124     84X   8664  53.509264  0.761897  51.776326  0.777070   \n",
       "125         125       9  47563  31.061809  0.642162  30.222441  0.661240   \n",
       "\n",
       "     LGBM_RMSE   LGBM_R2  running_time  \n",
       "0    32.592809  0.651081     91.836509  \n",
       "1    25.391237  0.828818    100.251457  \n",
       "2    28.953156  0.740694     26.979863  \n",
       "3    53.644521  0.559552    132.230691  \n",
       "4    32.526348  0.566146     38.907356  \n",
       "..         ...       ...           ...  \n",
       "121  31.569659  0.660408     83.908238  \n",
       "122  38.685301  0.555955    166.813325  \n",
       "123  43.829752  0.561839     23.978037  \n",
       "124  64.538742  0.653624     18.573054  \n",
       "125  35.156117  0.541610    231.162350  \n",
       "\n",
       "[126 rows x 10 columns]"
      ]
     },
     "execution_count": 185,
     "metadata": {},
     "output_type": "execute_result"
    }
   ],
   "source": [
    "models_df = pd.read_csv(\"RF_XGB_LGBM.csv\")\n",
    "models_df"
   ]
  },
  {
   "cell_type": "code",
   "execution_count": 186,
   "metadata": {},
   "outputs": [
    {
     "data": {
      "text/plain": [
       "routeID          object\n",
       "range             int64\n",
       "RF_RMSE         float64\n",
       "RF_R2           float64\n",
       "XGB_RMSE        float64\n",
       "XGB_R2          float64\n",
       "LGBM_RMSE       float64\n",
       "LGBM_R2         float64\n",
       "running_time    float64\n",
       "dtype: object"
      ]
     },
     "execution_count": 186,
     "metadata": {},
     "output_type": "execute_result"
    }
   ],
   "source": [
    "models_df = models_df.drop(columns=['Unnamed: 0'])\n",
    "models_df.dtypes"
   ]
  },
  {
   "cell_type": "code",
   "execution_count": 187,
   "metadata": {},
   "outputs": [
    {
     "data": {
      "text/html": [
       "<div>\n",
       "<style scoped>\n",
       "    .dataframe tbody tr th:only-of-type {\n",
       "        vertical-align: middle;\n",
       "    }\n",
       "\n",
       "    .dataframe tbody tr th {\n",
       "        vertical-align: top;\n",
       "    }\n",
       "\n",
       "    .dataframe thead th {\n",
       "        text-align: right;\n",
       "    }\n",
       "</style>\n",
       "<table border=\"1\" class=\"dataframe\">\n",
       "  <thead>\n",
       "    <tr style=\"text-align: right;\">\n",
       "      <th></th>\n",
       "      <th>count</th>\n",
       "      <th>mean</th>\n",
       "      <th>std</th>\n",
       "      <th>min</th>\n",
       "      <th>25%</th>\n",
       "      <th>50%</th>\n",
       "      <th>75%</th>\n",
       "      <th>max</th>\n",
       "    </tr>\n",
       "  </thead>\n",
       "  <tbody>\n",
       "    <tr>\n",
       "      <td>range</td>\n",
       "      <td>126.0</td>\n",
       "      <td>27635.357143</td>\n",
       "      <td>19791.680537</td>\n",
       "      <td>803.000000</td>\n",
       "      <td>6763.000000</td>\n",
       "      <td>29758.000000</td>\n",
       "      <td>42392.750000</td>\n",
       "      <td>79606.000000</td>\n",
       "    </tr>\n",
       "    <tr>\n",
       "      <td>RF_RMSE</td>\n",
       "      <td>126.0</td>\n",
       "      <td>38.477790</td>\n",
       "      <td>13.258702</td>\n",
       "      <td>17.728947</td>\n",
       "      <td>29.879338</td>\n",
       "      <td>34.438627</td>\n",
       "      <td>43.798214</td>\n",
       "      <td>87.453539</td>\n",
       "    </tr>\n",
       "    <tr>\n",
       "      <td>RF_R2</td>\n",
       "      <td>126.0</td>\n",
       "      <td>0.660920</td>\n",
       "      <td>0.119123</td>\n",
       "      <td>0.181326</td>\n",
       "      <td>0.621171</td>\n",
       "      <td>0.670828</td>\n",
       "      <td>0.711475</td>\n",
       "      <td>0.967242</td>\n",
       "    </tr>\n",
       "    <tr>\n",
       "      <td>XGB_RMSE</td>\n",
       "      <td>126.0</td>\n",
       "      <td>37.947756</td>\n",
       "      <td>14.126188</td>\n",
       "      <td>17.222434</td>\n",
       "      <td>29.118445</td>\n",
       "      <td>33.142800</td>\n",
       "      <td>43.251372</td>\n",
       "      <td>91.098399</td>\n",
       "    </tr>\n",
       "    <tr>\n",
       "      <td>XGB_R2</td>\n",
       "      <td>126.0</td>\n",
       "      <td>0.676586</td>\n",
       "      <td>0.112680</td>\n",
       "      <td>0.109818</td>\n",
       "      <td>0.611898</td>\n",
       "      <td>0.689069</td>\n",
       "      <td>0.729673</td>\n",
       "      <td>0.961612</td>\n",
       "    </tr>\n",
       "    <tr>\n",
       "      <td>LGBM_RMSE</td>\n",
       "      <td>126.0</td>\n",
       "      <td>48.481028</td>\n",
       "      <td>36.975033</td>\n",
       "      <td>18.514328</td>\n",
       "      <td>33.541012</td>\n",
       "      <td>37.341305</td>\n",
       "      <td>49.880062</td>\n",
       "      <td>316.113515</td>\n",
       "    </tr>\n",
       "    <tr>\n",
       "      <td>LGBM_R2</td>\n",
       "      <td>126.0</td>\n",
       "      <td>0.548980</td>\n",
       "      <td>0.151664</td>\n",
       "      <td>-0.003124</td>\n",
       "      <td>0.500654</td>\n",
       "      <td>0.565983</td>\n",
       "      <td>0.647705</td>\n",
       "      <td>0.943748</td>\n",
       "    </tr>\n",
       "    <tr>\n",
       "      <td>running_time</td>\n",
       "      <td>126.0</td>\n",
       "      <td>90.506553</td>\n",
       "      <td>91.952274</td>\n",
       "      <td>1.368761</td>\n",
       "      <td>14.973536</td>\n",
       "      <td>75.958394</td>\n",
       "      <td>133.418846</td>\n",
       "      <td>425.619397</td>\n",
       "    </tr>\n",
       "  </tbody>\n",
       "</table>\n",
       "</div>"
      ],
      "text/plain": [
       "              count          mean           std         min          25%  \\\n",
       "range         126.0  27635.357143  19791.680537  803.000000  6763.000000   \n",
       "RF_RMSE       126.0     38.477790     13.258702   17.728947    29.879338   \n",
       "RF_R2         126.0      0.660920      0.119123    0.181326     0.621171   \n",
       "XGB_RMSE      126.0     37.947756     14.126188   17.222434    29.118445   \n",
       "XGB_R2        126.0      0.676586      0.112680    0.109818     0.611898   \n",
       "LGBM_RMSE     126.0     48.481028     36.975033   18.514328    33.541012   \n",
       "LGBM_R2       126.0      0.548980      0.151664   -0.003124     0.500654   \n",
       "running_time  126.0     90.506553     91.952274    1.368761    14.973536   \n",
       "\n",
       "                       50%           75%           max  \n",
       "range         29758.000000  42392.750000  79606.000000  \n",
       "RF_RMSE          34.438627     43.798214     87.453539  \n",
       "RF_R2             0.670828      0.711475      0.967242  \n",
       "XGB_RMSE         33.142800     43.251372     91.098399  \n",
       "XGB_R2            0.689069      0.729673      0.961612  \n",
       "LGBM_RMSE        37.341305     49.880062    316.113515  \n",
       "LGBM_R2           0.565983      0.647705      0.943748  \n",
       "running_time     75.958394    133.418846    425.619397  "
      ]
     },
     "execution_count": 187,
     "metadata": {},
     "output_type": "execute_result"
    }
   ],
   "source": [
    "continuous_columns = models_df.select_dtypes(['int64', 'float64'])\n",
    "continuous_describe = continuous_columns.describe().T\n",
    "\n",
    "continuous_describe"
   ]
  },
  {
   "cell_type": "code",
   "execution_count": 189,
   "metadata": {},
   "outputs": [],
   "source": [
    "r2_columns = ['RF_R2', 'XGB_R2', 'LGBM_R2']\n",
    "RMSE_columns = ['RF_RMSE', 'XGB_RMSE', 'LGBM_RMSE']\n",
    "colors = ['red','green','blue']"
   ]
  },
  {
   "cell_type": "code",
   "execution_count": 200,
   "metadata": {},
   "outputs": [
    {
     "data": {
      "image/png": "[encoded data removed]",
      "text/plain": [
       "<Figure size 432x288 with 1 Axes>"
      ]
     },
     "metadata": {
      "needs_background": "light"
     },
     "output_type": "display_data"
    }
   ],
   "source": [
    "fig, ax = plt.subplots()\n",
    "for i in range(len(r2_columns)):\n",
    "    ax.scatter(models_df['range'], \n",
    "                models_df[r2_columns[i]],\n",
    "                label=r2_columns[i],\n",
    "                alpha=0.3,\n",
    "                color=colors[i])\n",
    "\n",
    "ax.legend()\n",
    "ax.grid(True)\n",
    "\n",
    "plt.show()"
   ]
  },
  {
   "cell_type": "code",
   "execution_count": 208,
   "metadata": {},
   "outputs": [
    {
     "data": {
      "image/png": "[encoded data removed]",
      "text/plain": [
       "<Figure size 432x288 with 1 Axes>"
      ]
     },
     "metadata": {
      "needs_background": "light"
     },
     "output_type": "display_data"
    },
    {
     "data": {
      "image/png": "[encoded data removed]",
      "text/plain": [
       "<Figure size 432x288 with 1 Axes>"
      ]
     },
     "metadata": {
      "needs_background": "light"
     },
     "output_type": "display_data"
    },
    {
     "data": {
      "image/png": "[encoded data removed]",
      "text/plain": [
       "<Figure size 432x288 with 1 Axes>"
      ]
     },
     "metadata": {
      "needs_background": "light"
     },
     "output_type": "display_data"
    }
   ],
   "source": [
    "for i in range(len(r2_columns)):\n",
    "    ax1 = models_df.plot(kind='scatter', x='range', y=r2_columns[i], color=colors[i])\n",
    "    ax1.set_ylim(-1, 1)"
   ]
  },
  {
   "cell_type": "code",
   "execution_count": 202,
   "metadata": {},
   "outputs": [
    {
     "data": {
      "image/png": "[encoded data removed]",
      "text/plain": [
       "<Figure size 432x288 with 1 Axes>"
      ]
     },
     "metadata": {
      "needs_background": "light"
     },
     "output_type": "display_data"
    }
   ],
   "source": [
    "fig, ax = plt.subplots()\n",
    "for i in range(len(RMSE_columns)):\n",
    "    ax.scatter(models_df['range'], \n",
    "                models_df[RMSE_columns[i]],\n",
    "                label=RMSE_columns[i],\n",
    "                alpha=0.3,\n",
    "                color=colors[i])\n",
    "\n",
    "ax.legend()\n",
    "ax.grid(True)\n",
    "\n",
    "plt.show()"
   ]
  },
  {
   "cell_type": "code",
   "execution_count": 212,
   "metadata": {},
   "outputs": [
    {
     "data": {
      "image/png": "[encoded data removed]",
      "text/plain": [
       "<Figure size 432x288 with 1 Axes>"
      ]
     },
     "metadata": {
      "needs_background": "light"
     },
     "output_type": "display_data"
    },
    {
     "data": {
      "image/png": "[encoded data removed]",
      "text/plain": [
       "<Figure size 432x288 with 1 Axes>"
      ]
     },
     "metadata": {
      "needs_background": "light"
     },
     "output_type": "display_data"
    },
    {
     "data": {
      "image/png": "[encoded data removed]",
      "text/plain": [
       "<Figure size 432x288 with 1 Axes>"
      ]
     },
     "metadata": {
      "needs_background": "light"
     },
     "output_type": "display_data"
    }
   ],
   "source": [
    "for i in range(len(RMSE_columns)):\n",
    "    ax1 = models_df.plot(kind='scatter', x='range', y=RMSE_columns[i], color=colors[i])\n",
    "    ax1.set_ylim(0, 340)"
   ]
  },
  {
   "cell_type": "code",
   "execution_count": null,
   "metadata": {},
   "outputs": [],
   "source": []
  }
 ],
 "metadata": {
  "kernelspec": {
   "display_name": "Python 3",
   "language": "python",
   "name": "python3"
  },
  "language_info": {
   "codemirror_mode": {
    "name": "ipython",
    "version": 3
   },
   "file_extension": ".py",
   "mimetype": "text/x-python",
   "name": "python",
   "nbconvert_exporter": "python",
   "pygments_lexer": "ipython3",
   "version": "3.7.4"
  }
 },
 "nbformat": 4,
 "nbformat_minor": 2
}
