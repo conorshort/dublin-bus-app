{
 "cells": [
  {
   "cell_type": "code",
   "execution_count": 1,
   "metadata": {},
   "outputs": [],
   "source": [
    "#Import package pandas for data analysis\n",
    "import pandas as pd\n",
    "# Import package numpy for numeric computing\n",
    "import numpy as np\n",
    "import seaborn as sns\n",
    "# Import package matplotlib for visualisation/plotting\n",
    "import matplotlib.pyplot as plt\n",
    "import matplotlib.patches as mpatches\n",
    "\n",
    "from patsy import dmatrices\n",
    "from sklearn.linear_model import LinearRegression\n",
    "from sklearn.model_selection import train_test_split\n",
    "from sklearn import metrics\n",
    "from sklearn.model_selection import cross_validate\n",
    "from sklearn.model_selection import cross_val_score\n",
    "from sklearn.metrics import accuracy_score\n",
    "\n",
    "import pymysql\n",
    "\n",
    "import matplotlib.pyplot as plt\n",
    "\n",
    "#For showing plots directly in the notebook run the command below\n",
    "%matplotlib inline\n",
    "\n",
    "# For saving multiple plots into a single pdf file\n",
    "from matplotlib.backends.backend_pdf import PdfPages\n",
    "\n",
    "import scipy.stats as ss\n",
    "\n",
    "# ignore warnings\n",
    "import warnings\n",
    "warnings.filterwarnings('ignore')#Import package pandas for data analysis\n",
    "import pandas as pd\n",
    "# Import package numpy for numeric computing\n",
    "import numpy as np\n",
    "import seaborn as sns\n",
    "# Import package matplotlib for visualisation/plotting\n",
    "import matplotlib.pyplot as plt\n",
    "import matplotlib.patches as mpatches\n",
    "\n",
    "from patsy import dmatrices\n",
    "from sklearn.linear_model import LinearRegression\n",
    "from sklearn.model_selection import train_test_split\n",
    "from sklearn import metrics\n",
    "from sklearn.model_selection import cross_validate\n",
    "from sklearn.model_selection import cross_val_score\n",
    "from sklearn.metrics import accuracy_score\n",
    "\n",
    "import pymysql\n",
    "\n",
    "import matplotlib.pyplot as plt\n",
    "\n",
    "#For showing plots directly in the notebook run the command below\n",
    "%matplotlib inline\n",
    "\n",
    "# For saving multiple plots into a single pdf file\n",
    "from matplotlib.backends.backend_pdf import PdfPages\n",
    "\n",
    "import scipy.stats as ss\n",
    "\n",
    "# ignore warnings\n",
    "import warnings\n",
    "warnings.filterwarnings('ignore')#Import package pandas for data analysis\n",
    "import pandas as pd\n",
    "# Import package numpy for numeric computing\n",
    "import numpy as np\n",
    "import seaborn as sns\n",
    "# Import package matplotlib for visualisation/plotting\n",
    "import matplotlib.pyplot as plt\n",
    "import matplotlib.patches as mpatches\n",
    "\n",
    "from patsy import dmatrices\n",
    "from sklearn.linear_model import LinearRegression\n",
    "from sklearn.model_selection import train_test_split\n",
    "from sklearn import metrics\n",
    "from sklearn.model_selection import cross_validate\n",
    "from sklearn.model_selection import cross_val_score\n",
    "from sklearn.metrics import accuracy_score\n",
    "\n",
    "import pymysql\n",
    "\n",
    "import matplotlib.pyplot as plt\n",
    "\n",
    "#For showing plots directly in the notebook run the command below\n",
    "%matplotlib inline\n",
    "\n",
    "# For saving multiple plots into a single pdf file\n",
    "from matplotlib.backends.backend_pdf import PdfPages\n",
    "\n",
    "import scipy.stats as ss\n",
    "\n",
    "# ignore warnings\n",
    "import warnings\n",
    "warnings.filterwarnings('ignore')"
   ]
  },
  {
   "cell_type": "code",
   "execution_count": 16,
   "metadata": {},
   "outputs": [],
   "source": [
    "#read in csv prepared from previous data cleaning \n",
    "df = pd.read_csv('feat_df.csv')"
   ]
  },
  {
   "cell_type": "code",
   "execution_count": 17,
   "metadata": {},
   "outputs": [
    {
     "output_type": "execute_result",
     "data": {
      "text/plain": "    Unnamed: 0   TRIPID  PROGRNUMBER  DIRECTION  ACTUALTIME_ARR  hour  \\\n0            0  5956265            2          1           36075    10   \n1            1  5956265            3          1           36091    10   \n2            2  5956265            4          1           36125    10   \n3            3  5956265            5          1           36183    10   \n4            4  5956265            6          1           36254    10   \n5            5  5956265            7          1           36315    10   \n6            6  5956265            8          1           36361    10   \n7            7  5956265            9          1           36438    10   \n8            8  5956265           10          1           36480    10   \n9            9  5956265           11          1           36500    10   \n10          10  5956265           12          1           36521    10   \n11          11  5956265           13          1           36572    10   \n12          12  5956265           14          1           36602    10   \n13          13  5956265           15          1           36622    10   \n14          14  5956265           16          1           36663    10   \n15          15  5956265           17          1           36694    10   \n16          16  5956265           18          1           36726    10   \n17          17  5956265           19          1           36763    10   \n18          18  5956265           20          1           36815    10   \n19          19  5956265           21          1           36834    10   \n20          20  5956265           22          1           36890    10   \n21          21  5956265           23          1           36976    10   \n22          22  5956265           24          1           37080    10   \n23          23  5956265           25          1           37192    10   \n24          24  5956265           26          1           37321    10   \n25          25  5956265           27          1           37354    10   \n26          26  5956265           28          1           37399    10   \n27          27  5956265           29          1           37447    10   \n28          28  5956265           30          1           37501    10   \n29          29  5956265           31          1           37538    10   \n30          30  5956265           32          1           37602    10   \n31          31  5956265           33          1           37637    10   \n32          32  5956265           34          1           37673    10   \n33          33  5956265           35          1           37691    10   \n34          34  5956265           36          1           37707    10   \n35          35  5956265           37          1           37757    10   \n36          36  5956265           38          1           37810    10   \n37          37  5956265           39          1           37824    10   \n38          38  5956265           40          1           37843    10   \n39          39  5956265           41          1           37874    10   \n40          40  5956265           42          1           37924    10   \n41          41  5956266            1          2           39636    11   \n42          42  5956266            2          2           39675    11   \n43          43  5956266            3          2           39744    11   \n44          44  5956266            4          2           39782    11   \n45          45  5956266            5          2           39809    11   \n46          46  5956266            6          2           39829    11   \n47          47  5956266            7          2           39877    11   \n48          48  5956266            8          2           39931    11   \n49          49  5956266            9          2           39943    11   \n\n    dayofweek  trip_dep_time  weekday  rain  temp  humidity  wind_speed  \\\n0           0              0        0   0.0   5.3         7          17   \n1           0              0        0   0.0   5.3         7          17   \n2           0              0        0   0.0   5.3         7          17   \n3           0              0        0   0.0   5.3         7          17   \n4           0              0        0   0.0   5.3         7          17   \n5           0              0        0   0.0   5.3         7          17   \n6           0              0        0   0.0   5.3         7          17   \n7           0              0        0   0.0   5.3         7          17   \n8           0              0        0   0.0   5.3         7          17   \n9           0              0        0   0.0   5.3         7          17   \n10          0              0        0   0.0   5.3         7          17   \n11          0              0        0   0.0   5.3         7          17   \n12          0              0        0   0.0   5.3         7          17   \n13          0              0        0   0.0   5.3         7          17   \n14          0              0        0   0.0   5.3         7          17   \n15          0              0        0   0.0   5.3         7          17   \n16          0              0        0   0.0   5.3         7          17   \n17          0              0        0   0.0   5.3         7          17   \n18          0              0        0   0.0   5.3         7          17   \n19          0              0        0   0.0   5.3         7          17   \n20          0              0        0   0.0   5.3         7          17   \n21          0              0        0   0.0   5.3         7          17   \n22          0              0        0   0.0   5.3         7          17   \n23          0              0        0   0.0   5.3         7          17   \n24          0              0        0   0.0   5.3         7          17   \n25          0              0        0   0.0   5.3         7          17   \n26          0              0        0   0.0   5.3         7          17   \n27          0              0        0   0.0   5.3         7          17   \n28          0              0        0   0.0   5.3         7          17   \n29          0              0        0   0.0   5.3         7          17   \n30          0              0        0   0.0   5.3         7          17   \n31          0              0        0   0.0   5.3         7          17   \n32          0              0        0   0.0   5.3         7          17   \n33          0              0        0   0.0   5.3         7          17   \n34          0              0        0   0.0   5.3         7          17   \n35          0              0        0   0.0   5.3         7          17   \n36          0              0        0   0.0   5.3         7          17   \n37          0              0        0   0.0   5.3         7          17   \n38          0              0        0   0.0   5.3         7          17   \n39          0              0        0   0.0   5.3         7          17   \n40          0              0        0   0.0   5.3         7          17   \n41          0          39636        0   0.0   6.3         7          22   \n42          0          39636        0   0.0   6.3         7          22   \n43          0          39636        0   0.0   6.3         7          22   \n44          0          39636        0   0.0   6.3         7          22   \n45          0          39636        0   0.0   6.3         7          22   \n46          0          39636        0   0.0   6.3         7          22   \n47          0          39636        0   0.0   6.3         7          22   \n48          0          39636        0   0.0   6.3         7          22   \n49          0          39636        0   0.0   6.3         7          22   \n\n    wind_dir  sun  visibility  cloud_height  cloud_cover  holiday  \n0        240  0.9       30000           200            4        1  \n1        240  0.9       30000           200            4        1  \n2        240  0.9       30000           200            4        1  \n3        240  0.9       30000           200            4        1  \n4        240  0.9       30000           200            4        1  \n5        240  0.9       30000           200            4        1  \n6        240  0.9       30000           200            4        1  \n7        240  0.9       30000           200            4        1  \n8        240  0.9       30000           200            4        1  \n9        240  0.9       30000           200            4        1  \n10       240  0.9       30000           200            4        1  \n11       240  0.9       30000           200            4        1  \n12       240  0.9       30000           200            4        1  \n13       240  0.9       30000           200            4        1  \n14       240  0.9       30000           200            4        1  \n15       240  0.9       30000           200            4        1  \n16       240  0.9       30000           200            4        1  \n17       240  0.9       30000           200            4        1  \n18       240  0.9       30000           200            4        1  \n19       240  0.9       30000           200            4        1  \n20       240  0.9       30000           200            4        1  \n21       240  0.9       30000           200            4        1  \n22       240  0.9       30000           200            4        1  \n23       240  0.9       30000           200            4        1  \n24       240  0.9       30000           200            4        1  \n25       240  0.9       30000           200            4        1  \n26       240  0.9       30000           200            4        1  \n27       240  0.9       30000           200            4        1  \n28       240  0.9       30000           200            4        1  \n29       240  0.9       30000           200            4        1  \n30       240  0.9       30000           200            4        1  \n31       240  0.9       30000           200            4        1  \n32       240  0.9       30000           200            4        1  \n33       240  0.9       30000           200            4        1  \n34       240  0.9       30000           200            4        1  \n35       240  0.9       30000           200            4        1  \n36       240  0.9       30000           200            4        1  \n37       240  0.9       30000           200            4        1  \n38       240  0.9       30000           200            4        1  \n39       240  0.9       30000           200            4        1  \n40       240  0.9       30000           200            4        1  \n41       250  0.5       30000           200            4        1  \n42       250  0.5       30000           200            4        1  \n43       250  0.5       30000           200            4        1  \n44       250  0.5       30000           200            4        1  \n45       250  0.5       30000           200            4        1  \n46       250  0.5       30000           200            4        1  \n47       250  0.5       30000           200            4        1  \n48       250  0.5       30000           200            4        1  \n49       250  0.5       30000           200            4        1  ",
      "text/html": "<div>\n<style scoped>\n    .dataframe tbody tr th:only-of-type {\n        vertical-align: middle;\n    }\n\n    .dataframe tbody tr th {\n        vertical-align: top;\n    }\n\n    .dataframe thead th {\n        text-align: right;\n    }\n</style>\n<table border=\"1\" class=\"dataframe\">\n  <thead>\n    <tr style=\"text-align: right;\">\n      <th></th>\n      <th>Unnamed: 0</th>\n      <th>TRIPID</th>\n      <th>PROGRNUMBER</th>\n      <th>DIRECTION</th>\n      <th>ACTUALTIME_ARR</th>\n      <th>hour</th>\n      <th>dayofweek</th>\n      <th>trip_dep_time</th>\n      <th>weekday</th>\n      <th>rain</th>\n      <th>temp</th>\n      <th>humidity</th>\n      <th>wind_speed</th>\n      <th>wind_dir</th>\n      <th>sun</th>\n      <th>visibility</th>\n      <th>cloud_height</th>\n      <th>cloud_cover</th>\n      <th>holiday</th>\n    </tr>\n  </thead>\n  <tbody>\n    <tr>\n      <th>0</th>\n      <td>0</td>\n      <td>5956265</td>\n      <td>2</td>\n      <td>1</td>\n      <td>36075</td>\n      <td>10</td>\n      <td>0</td>\n      <td>0</td>\n      <td>0</td>\n      <td>0.0</td>\n      <td>5.3</td>\n      <td>7</td>\n      <td>17</td>\n      <td>240</td>\n      <td>0.9</td>\n      <td>30000</td>\n      <td>200</td>\n      <td>4</td>\n      <td>1</td>\n    </tr>\n    <tr>\n      <th>1</th>\n      <td>1</td>\n      <td>5956265</td>\n      <td>3</td>\n      <td>1</td>\n      <td>36091</td>\n      <td>10</td>\n      <td>0</td>\n      <td>0</td>\n      <td>0</td>\n      <td>0.0</td>\n      <td>5.3</td>\n      <td>7</td>\n      <td>17</td>\n      <td>240</td>\n      <td>0.9</td>\n      <td>30000</td>\n      <td>200</td>\n      <td>4</td>\n      <td>1</td>\n    </tr>\n    <tr>\n      <th>2</th>\n      <td>2</td>\n      <td>5956265</td>\n      <td>4</td>\n      <td>1</td>\n      <td>36125</td>\n      <td>10</td>\n      <td>0</td>\n      <td>0</td>\n      <td>0</td>\n      <td>0.0</td>\n      <td>5.3</td>\n      <td>7</td>\n      <td>17</td>\n      <td>240</td>\n      <td>0.9</td>\n      <td>30000</td>\n      <td>200</td>\n      <td>4</td>\n      <td>1</td>\n    </tr>\n    <tr>\n      <th>3</th>\n      <td>3</td>\n      <td>5956265</td>\n      <td>5</td>\n      <td>1</td>\n      <td>36183</td>\n      <td>10</td>\n      <td>0</td>\n      <td>0</td>\n      <td>0</td>\n      <td>0.0</td>\n      <td>5.3</td>\n      <td>7</td>\n      <td>17</td>\n      <td>240</td>\n      <td>0.9</td>\n      <td>30000</td>\n      <td>200</td>\n      <td>4</td>\n      <td>1</td>\n    </tr>\n    <tr>\n      <th>4</th>\n      <td>4</td>\n      <td>5956265</td>\n      <td>6</td>\n      <td>1</td>\n      <td>36254</td>\n      <td>10</td>\n      <td>0</td>\n      <td>0</td>\n      <td>0</td>\n      <td>0.0</td>\n      <td>5.3</td>\n      <td>7</td>\n      <td>17</td>\n      <td>240</td>\n      <td>0.9</td>\n      <td>30000</td>\n      <td>200</td>\n      <td>4</td>\n      <td>1</td>\n    </tr>\n    <tr>\n      <th>5</th>\n      <td>5</td>\n      <td>5956265</td>\n      <td>7</td>\n      <td>1</td>\n      <td>36315</td>\n      <td>10</td>\n      <td>0</td>\n      <td>0</td>\n      <td>0</td>\n      <td>0.0</td>\n      <td>5.3</td>\n      <td>7</td>\n      <td>17</td>\n      <td>240</td>\n      <td>0.9</td>\n      <td>30000</td>\n      <td>200</td>\n      <td>4</td>\n      <td>1</td>\n    </tr>\n    <tr>\n      <th>6</th>\n      <td>6</td>\n      <td>5956265</td>\n      <td>8</td>\n      <td>1</td>\n      <td>36361</td>\n      <td>10</td>\n      <td>0</td>\n      <td>0</td>\n      <td>0</td>\n      <td>0.0</td>\n      <td>5.3</td>\n      <td>7</td>\n      <td>17</td>\n      <td>240</td>\n      <td>0.9</td>\n      <td>30000</td>\n      <td>200</td>\n      <td>4</td>\n      <td>1</td>\n    </tr>\n    <tr>\n      <th>7</th>\n      <td>7</td>\n      <td>5956265</td>\n      <td>9</td>\n      <td>1</td>\n      <td>36438</td>\n      <td>10</td>\n      <td>0</td>\n      <td>0</td>\n      <td>0</td>\n      <td>0.0</td>\n      <td>5.3</td>\n      <td>7</td>\n      <td>17</td>\n      <td>240</td>\n      <td>0.9</td>\n      <td>30000</td>\n      <td>200</td>\n      <td>4</td>\n      <td>1</td>\n    </tr>\n    <tr>\n      <th>8</th>\n      <td>8</td>\n      <td>5956265</td>\n      <td>10</td>\n      <td>1</td>\n      <td>36480</td>\n      <td>10</td>\n      <td>0</td>\n      <td>0</td>\n      <td>0</td>\n      <td>0.0</td>\n      <td>5.3</td>\n      <td>7</td>\n      <td>17</td>\n      <td>240</td>\n      <td>0.9</td>\n      <td>30000</td>\n      <td>200</td>\n      <td>4</td>\n      <td>1</td>\n    </tr>\n    <tr>\n      <th>9</th>\n      <td>9</td>\n      <td>5956265</td>\n      <td>11</td>\n      <td>1</td>\n      <td>36500</td>\n      <td>10</td>\n      <td>0</td>\n      <td>0</td>\n      <td>0</td>\n      <td>0.0</td>\n      <td>5.3</td>\n      <td>7</td>\n      <td>17</td>\n      <td>240</td>\n      <td>0.9</td>\n      <td>30000</td>\n      <td>200</td>\n      <td>4</td>\n      <td>1</td>\n    </tr>\n    <tr>\n      <th>10</th>\n      <td>10</td>\n      <td>5956265</td>\n      <td>12</td>\n      <td>1</td>\n      <td>36521</td>\n      <td>10</td>\n      <td>0</td>\n      <td>0</td>\n      <td>0</td>\n      <td>0.0</td>\n      <td>5.3</td>\n      <td>7</td>\n      <td>17</td>\n      <td>240</td>\n      <td>0.9</td>\n      <td>30000</td>\n      <td>200</td>\n      <td>4</td>\n      <td>1</td>\n    </tr>\n    <tr>\n      <th>11</th>\n      <td>11</td>\n      <td>5956265</td>\n      <td>13</td>\n      <td>1</td>\n      <td>36572</td>\n      <td>10</td>\n      <td>0</td>\n      <td>0</td>\n      <td>0</td>\n      <td>0.0</td>\n      <td>5.3</td>\n      <td>7</td>\n      <td>17</td>\n      <td>240</td>\n      <td>0.9</td>\n      <td>30000</td>\n      <td>200</td>\n      <td>4</td>\n      <td>1</td>\n    </tr>\n    <tr>\n      <th>12</th>\n      <td>12</td>\n      <td>5956265</td>\n      <td>14</td>\n      <td>1</td>\n      <td>36602</td>\n      <td>10</td>\n      <td>0</td>\n      <td>0</td>\n      <td>0</td>\n      <td>0.0</td>\n      <td>5.3</td>\n      <td>7</td>\n      <td>17</td>\n      <td>240</td>\n      <td>0.9</td>\n      <td>30000</td>\n      <td>200</td>\n      <td>4</td>\n      <td>1</td>\n    </tr>\n    <tr>\n      <th>13</th>\n      <td>13</td>\n      <td>5956265</td>\n      <td>15</td>\n      <td>1</td>\n      <td>36622</td>\n      <td>10</td>\n      <td>0</td>\n      <td>0</td>\n      <td>0</td>\n      <td>0.0</td>\n      <td>5.3</td>\n      <td>7</td>\n      <td>17</td>\n      <td>240</td>\n      <td>0.9</td>\n      <td>30000</td>\n      <td>200</td>\n      <td>4</td>\n      <td>1</td>\n    </tr>\n    <tr>\n      <th>14</th>\n      <td>14</td>\n      <td>5956265</td>\n      <td>16</td>\n      <td>1</td>\n      <td>36663</td>\n      <td>10</td>\n      <td>0</td>\n      <td>0</td>\n      <td>0</td>\n      <td>0.0</td>\n      <td>5.3</td>\n      <td>7</td>\n      <td>17</td>\n      <td>240</td>\n      <td>0.9</td>\n      <td>30000</td>\n      <td>200</td>\n      <td>4</td>\n      <td>1</td>\n    </tr>\n    <tr>\n      <th>15</th>\n      <td>15</td>\n      <td>5956265</td>\n      <td>17</td>\n      <td>1</td>\n      <td>36694</td>\n      <td>10</td>\n      <td>0</td>\n      <td>0</td>\n      <td>0</td>\n      <td>0.0</td>\n      <td>5.3</td>\n      <td>7</td>\n      <td>17</td>\n      <td>240</td>\n      <td>0.9</td>\n      <td>30000</td>\n      <td>200</td>\n      <td>4</td>\n      <td>1</td>\n    </tr>\n    <tr>\n      <th>16</th>\n      <td>16</td>\n      <td>5956265</td>\n      <td>18</td>\n      <td>1</td>\n      <td>36726</td>\n      <td>10</td>\n      <td>0</td>\n      <td>0</td>\n      <td>0</td>\n      <td>0.0</td>\n      <td>5.3</td>\n      <td>7</td>\n      <td>17</td>\n      <td>240</td>\n      <td>0.9</td>\n      <td>30000</td>\n      <td>200</td>\n      <td>4</td>\n      <td>1</td>\n    </tr>\n    <tr>\n      <th>17</th>\n      <td>17</td>\n      <td>5956265</td>\n      <td>19</td>\n      <td>1</td>\n      <td>36763</td>\n      <td>10</td>\n      <td>0</td>\n      <td>0</td>\n      <td>0</td>\n      <td>0.0</td>\n      <td>5.3</td>\n      <td>7</td>\n      <td>17</td>\n      <td>240</td>\n      <td>0.9</td>\n      <td>30000</td>\n      <td>200</td>\n      <td>4</td>\n      <td>1</td>\n    </tr>\n    <tr>\n      <th>18</th>\n      <td>18</td>\n      <td>5956265</td>\n      <td>20</td>\n      <td>1</td>\n      <td>36815</td>\n      <td>10</td>\n      <td>0</td>\n      <td>0</td>\n      <td>0</td>\n      <td>0.0</td>\n      <td>5.3</td>\n      <td>7</td>\n      <td>17</td>\n      <td>240</td>\n      <td>0.9</td>\n      <td>30000</td>\n      <td>200</td>\n      <td>4</td>\n      <td>1</td>\n    </tr>\n    <tr>\n      <th>19</th>\n      <td>19</td>\n      <td>5956265</td>\n      <td>21</td>\n      <td>1</td>\n      <td>36834</td>\n      <td>10</td>\n      <td>0</td>\n      <td>0</td>\n      <td>0</td>\n      <td>0.0</td>\n      <td>5.3</td>\n      <td>7</td>\n      <td>17</td>\n      <td>240</td>\n      <td>0.9</td>\n      <td>30000</td>\n      <td>200</td>\n      <td>4</td>\n      <td>1</td>\n    </tr>\n    <tr>\n      <th>20</th>\n      <td>20</td>\n      <td>5956265</td>\n      <td>22</td>\n      <td>1</td>\n      <td>36890</td>\n      <td>10</td>\n      <td>0</td>\n      <td>0</td>\n      <td>0</td>\n      <td>0.0</td>\n      <td>5.3</td>\n      <td>7</td>\n      <td>17</td>\n      <td>240</td>\n      <td>0.9</td>\n      <td>30000</td>\n      <td>200</td>\n      <td>4</td>\n      <td>1</td>\n    </tr>\n    <tr>\n      <th>21</th>\n      <td>21</td>\n      <td>5956265</td>\n      <td>23</td>\n      <td>1</td>\n      <td>36976</td>\n      <td>10</td>\n      <td>0</td>\n      <td>0</td>\n      <td>0</td>\n      <td>0.0</td>\n      <td>5.3</td>\n      <td>7</td>\n      <td>17</td>\n      <td>240</td>\n      <td>0.9</td>\n      <td>30000</td>\n      <td>200</td>\n      <td>4</td>\n      <td>1</td>\n    </tr>\n    <tr>\n      <th>22</th>\n      <td>22</td>\n      <td>5956265</td>\n      <td>24</td>\n      <td>1</td>\n      <td>37080</td>\n      <td>10</td>\n      <td>0</td>\n      <td>0</td>\n      <td>0</td>\n      <td>0.0</td>\n      <td>5.3</td>\n      <td>7</td>\n      <td>17</td>\n      <td>240</td>\n      <td>0.9</td>\n      <td>30000</td>\n      <td>200</td>\n      <td>4</td>\n      <td>1</td>\n    </tr>\n    <tr>\n      <th>23</th>\n      <td>23</td>\n      <td>5956265</td>\n      <td>25</td>\n      <td>1</td>\n      <td>37192</td>\n      <td>10</td>\n      <td>0</td>\n      <td>0</td>\n      <td>0</td>\n      <td>0.0</td>\n      <td>5.3</td>\n      <td>7</td>\n      <td>17</td>\n      <td>240</td>\n      <td>0.9</td>\n      <td>30000</td>\n      <td>200</td>\n      <td>4</td>\n      <td>1</td>\n    </tr>\n    <tr>\n      <th>24</th>\n      <td>24</td>\n      <td>5956265</td>\n      <td>26</td>\n      <td>1</td>\n      <td>37321</td>\n      <td>10</td>\n      <td>0</td>\n      <td>0</td>\n      <td>0</td>\n      <td>0.0</td>\n      <td>5.3</td>\n      <td>7</td>\n      <td>17</td>\n      <td>240</td>\n      <td>0.9</td>\n      <td>30000</td>\n      <td>200</td>\n      <td>4</td>\n      <td>1</td>\n    </tr>\n    <tr>\n      <th>25</th>\n      <td>25</td>\n      <td>5956265</td>\n      <td>27</td>\n      <td>1</td>\n      <td>37354</td>\n      <td>10</td>\n      <td>0</td>\n      <td>0</td>\n      <td>0</td>\n      <td>0.0</td>\n      <td>5.3</td>\n      <td>7</td>\n      <td>17</td>\n      <td>240</td>\n      <td>0.9</td>\n      <td>30000</td>\n      <td>200</td>\n      <td>4</td>\n      <td>1</td>\n    </tr>\n    <tr>\n      <th>26</th>\n      <td>26</td>\n      <td>5956265</td>\n      <td>28</td>\n      <td>1</td>\n      <td>37399</td>\n      <td>10</td>\n      <td>0</td>\n      <td>0</td>\n      <td>0</td>\n      <td>0.0</td>\n      <td>5.3</td>\n      <td>7</td>\n      <td>17</td>\n      <td>240</td>\n      <td>0.9</td>\n      <td>30000</td>\n      <td>200</td>\n      <td>4</td>\n      <td>1</td>\n    </tr>\n    <tr>\n      <th>27</th>\n      <td>27</td>\n      <td>5956265</td>\n      <td>29</td>\n      <td>1</td>\n      <td>37447</td>\n      <td>10</td>\n      <td>0</td>\n      <td>0</td>\n      <td>0</td>\n      <td>0.0</td>\n      <td>5.3</td>\n      <td>7</td>\n      <td>17</td>\n      <td>240</td>\n      <td>0.9</td>\n      <td>30000</td>\n      <td>200</td>\n      <td>4</td>\n      <td>1</td>\n    </tr>\n    <tr>\n      <th>28</th>\n      <td>28</td>\n      <td>5956265</td>\n      <td>30</td>\n      <td>1</td>\n      <td>37501</td>\n      <td>10</td>\n      <td>0</td>\n      <td>0</td>\n      <td>0</td>\n      <td>0.0</td>\n      <td>5.3</td>\n      <td>7</td>\n      <td>17</td>\n      <td>240</td>\n      <td>0.9</td>\n      <td>30000</td>\n      <td>200</td>\n      <td>4</td>\n      <td>1</td>\n    </tr>\n    <tr>\n      <th>29</th>\n      <td>29</td>\n      <td>5956265</td>\n      <td>31</td>\n      <td>1</td>\n      <td>37538</td>\n      <td>10</td>\n      <td>0</td>\n      <td>0</td>\n      <td>0</td>\n      <td>0.0</td>\n      <td>5.3</td>\n      <td>7</td>\n      <td>17</td>\n      <td>240</td>\n      <td>0.9</td>\n      <td>30000</td>\n      <td>200</td>\n      <td>4</td>\n      <td>1</td>\n    </tr>\n    <tr>\n      <th>30</th>\n      <td>30</td>\n      <td>5956265</td>\n      <td>32</td>\n      <td>1</td>\n      <td>37602</td>\n      <td>10</td>\n      <td>0</td>\n      <td>0</td>\n      <td>0</td>\n      <td>0.0</td>\n      <td>5.3</td>\n      <td>7</td>\n      <td>17</td>\n      <td>240</td>\n      <td>0.9</td>\n      <td>30000</td>\n      <td>200</td>\n      <td>4</td>\n      <td>1</td>\n    </tr>\n    <tr>\n      <th>31</th>\n      <td>31</td>\n      <td>5956265</td>\n      <td>33</td>\n      <td>1</td>\n      <td>37637</td>\n      <td>10</td>\n      <td>0</td>\n      <td>0</td>\n      <td>0</td>\n      <td>0.0</td>\n      <td>5.3</td>\n      <td>7</td>\n      <td>17</td>\n      <td>240</td>\n      <td>0.9</td>\n      <td>30000</td>\n      <td>200</td>\n      <td>4</td>\n      <td>1</td>\n    </tr>\n    <tr>\n      <th>32</th>\n      <td>32</td>\n      <td>5956265</td>\n      <td>34</td>\n      <td>1</td>\n      <td>37673</td>\n      <td>10</td>\n      <td>0</td>\n      <td>0</td>\n      <td>0</td>\n      <td>0.0</td>\n      <td>5.3</td>\n      <td>7</td>\n      <td>17</td>\n      <td>240</td>\n      <td>0.9</td>\n      <td>30000</td>\n      <td>200</td>\n      <td>4</td>\n      <td>1</td>\n    </tr>\n    <tr>\n      <th>33</th>\n      <td>33</td>\n      <td>5956265</td>\n      <td>35</td>\n      <td>1</td>\n      <td>37691</td>\n      <td>10</td>\n      <td>0</td>\n      <td>0</td>\n      <td>0</td>\n      <td>0.0</td>\n      <td>5.3</td>\n      <td>7</td>\n      <td>17</td>\n      <td>240</td>\n      <td>0.9</td>\n      <td>30000</td>\n      <td>200</td>\n      <td>4</td>\n      <td>1</td>\n    </tr>\n    <tr>\n      <th>34</th>\n      <td>34</td>\n      <td>5956265</td>\n      <td>36</td>\n      <td>1</td>\n      <td>37707</td>\n      <td>10</td>\n      <td>0</td>\n      <td>0</td>\n      <td>0</td>\n      <td>0.0</td>\n      <td>5.3</td>\n      <td>7</td>\n      <td>17</td>\n      <td>240</td>\n      <td>0.9</td>\n      <td>30000</td>\n      <td>200</td>\n      <td>4</td>\n      <td>1</td>\n    </tr>\n    <tr>\n      <th>35</th>\n      <td>35</td>\n      <td>5956265</td>\n      <td>37</td>\n      <td>1</td>\n      <td>37757</td>\n      <td>10</td>\n      <td>0</td>\n      <td>0</td>\n      <td>0</td>\n      <td>0.0</td>\n      <td>5.3</td>\n      <td>7</td>\n      <td>17</td>\n      <td>240</td>\n      <td>0.9</td>\n      <td>30000</td>\n      <td>200</td>\n      <td>4</td>\n      <td>1</td>\n    </tr>\n    <tr>\n      <th>36</th>\n      <td>36</td>\n      <td>5956265</td>\n      <td>38</td>\n      <td>1</td>\n      <td>37810</td>\n      <td>10</td>\n      <td>0</td>\n      <td>0</td>\n      <td>0</td>\n      <td>0.0</td>\n      <td>5.3</td>\n      <td>7</td>\n      <td>17</td>\n      <td>240</td>\n      <td>0.9</td>\n      <td>30000</td>\n      <td>200</td>\n      <td>4</td>\n      <td>1</td>\n    </tr>\n    <tr>\n      <th>37</th>\n      <td>37</td>\n      <td>5956265</td>\n      <td>39</td>\n      <td>1</td>\n      <td>37824</td>\n      <td>10</td>\n      <td>0</td>\n      <td>0</td>\n      <td>0</td>\n      <td>0.0</td>\n      <td>5.3</td>\n      <td>7</td>\n      <td>17</td>\n      <td>240</td>\n      <td>0.9</td>\n      <td>30000</td>\n      <td>200</td>\n      <td>4</td>\n      <td>1</td>\n    </tr>\n    <tr>\n      <th>38</th>\n      <td>38</td>\n      <td>5956265</td>\n      <td>40</td>\n      <td>1</td>\n      <td>37843</td>\n      <td>10</td>\n      <td>0</td>\n      <td>0</td>\n      <td>0</td>\n      <td>0.0</td>\n      <td>5.3</td>\n      <td>7</td>\n      <td>17</td>\n      <td>240</td>\n      <td>0.9</td>\n      <td>30000</td>\n      <td>200</td>\n      <td>4</td>\n      <td>1</td>\n    </tr>\n    <tr>\n      <th>39</th>\n      <td>39</td>\n      <td>5956265</td>\n      <td>41</td>\n      <td>1</td>\n      <td>37874</td>\n      <td>10</td>\n      <td>0</td>\n      <td>0</td>\n      <td>0</td>\n      <td>0.0</td>\n      <td>5.3</td>\n      <td>7</td>\n      <td>17</td>\n      <td>240</td>\n      <td>0.9</td>\n      <td>30000</td>\n      <td>200</td>\n      <td>4</td>\n      <td>1</td>\n    </tr>\n    <tr>\n      <th>40</th>\n      <td>40</td>\n      <td>5956265</td>\n      <td>42</td>\n      <td>1</td>\n      <td>37924</td>\n      <td>10</td>\n      <td>0</td>\n      <td>0</td>\n      <td>0</td>\n      <td>0.0</td>\n      <td>5.3</td>\n      <td>7</td>\n      <td>17</td>\n      <td>240</td>\n      <td>0.9</td>\n      <td>30000</td>\n      <td>200</td>\n      <td>4</td>\n      <td>1</td>\n    </tr>\n    <tr>\n      <th>41</th>\n      <td>41</td>\n      <td>5956266</td>\n      <td>1</td>\n      <td>2</td>\n      <td>39636</td>\n      <td>11</td>\n      <td>0</td>\n      <td>39636</td>\n      <td>0</td>\n      <td>0.0</td>\n      <td>6.3</td>\n      <td>7</td>\n      <td>22</td>\n      <td>250</td>\n      <td>0.5</td>\n      <td>30000</td>\n      <td>200</td>\n      <td>4</td>\n      <td>1</td>\n    </tr>\n    <tr>\n      <th>42</th>\n      <td>42</td>\n      <td>5956266</td>\n      <td>2</td>\n      <td>2</td>\n      <td>39675</td>\n      <td>11</td>\n      <td>0</td>\n      <td>39636</td>\n      <td>0</td>\n      <td>0.0</td>\n      <td>6.3</td>\n      <td>7</td>\n      <td>22</td>\n      <td>250</td>\n      <td>0.5</td>\n      <td>30000</td>\n      <td>200</td>\n      <td>4</td>\n      <td>1</td>\n    </tr>\n    <tr>\n      <th>43</th>\n      <td>43</td>\n      <td>5956266</td>\n      <td>3</td>\n      <td>2</td>\n      <td>39744</td>\n      <td>11</td>\n      <td>0</td>\n      <td>39636</td>\n      <td>0</td>\n      <td>0.0</td>\n      <td>6.3</td>\n      <td>7</td>\n      <td>22</td>\n      <td>250</td>\n      <td>0.5</td>\n      <td>30000</td>\n      <td>200</td>\n      <td>4</td>\n      <td>1</td>\n    </tr>\n    <tr>\n      <th>44</th>\n      <td>44</td>\n      <td>5956266</td>\n      <td>4</td>\n      <td>2</td>\n      <td>39782</td>\n      <td>11</td>\n      <td>0</td>\n      <td>39636</td>\n      <td>0</td>\n      <td>0.0</td>\n      <td>6.3</td>\n      <td>7</td>\n      <td>22</td>\n      <td>250</td>\n      <td>0.5</td>\n      <td>30000</td>\n      <td>200</td>\n      <td>4</td>\n      <td>1</td>\n    </tr>\n    <tr>\n      <th>45</th>\n      <td>45</td>\n      <td>5956266</td>\n      <td>5</td>\n      <td>2</td>\n      <td>39809</td>\n      <td>11</td>\n      <td>0</td>\n      <td>39636</td>\n      <td>0</td>\n      <td>0.0</td>\n      <td>6.3</td>\n      <td>7</td>\n      <td>22</td>\n      <td>250</td>\n      <td>0.5</td>\n      <td>30000</td>\n      <td>200</td>\n      <td>4</td>\n      <td>1</td>\n    </tr>\n    <tr>\n      <th>46</th>\n      <td>46</td>\n      <td>5956266</td>\n      <td>6</td>\n      <td>2</td>\n      <td>39829</td>\n      <td>11</td>\n      <td>0</td>\n      <td>39636</td>\n      <td>0</td>\n      <td>0.0</td>\n      <td>6.3</td>\n      <td>7</td>\n      <td>22</td>\n      <td>250</td>\n      <td>0.5</td>\n      <td>30000</td>\n      <td>200</td>\n      <td>4</td>\n      <td>1</td>\n    </tr>\n    <tr>\n      <th>47</th>\n      <td>47</td>\n      <td>5956266</td>\n      <td>7</td>\n      <td>2</td>\n      <td>39877</td>\n      <td>11</td>\n      <td>0</td>\n      <td>39636</td>\n      <td>0</td>\n      <td>0.0</td>\n      <td>6.3</td>\n      <td>7</td>\n      <td>22</td>\n      <td>250</td>\n      <td>0.5</td>\n      <td>30000</td>\n      <td>200</td>\n      <td>4</td>\n      <td>1</td>\n    </tr>\n    <tr>\n      <th>48</th>\n      <td>48</td>\n      <td>5956266</td>\n      <td>8</td>\n      <td>2</td>\n      <td>39931</td>\n      <td>11</td>\n      <td>0</td>\n      <td>39636</td>\n      <td>0</td>\n      <td>0.0</td>\n      <td>6.3</td>\n      <td>7</td>\n      <td>22</td>\n      <td>250</td>\n      <td>0.5</td>\n      <td>30000</td>\n      <td>200</td>\n      <td>4</td>\n      <td>1</td>\n    </tr>\n    <tr>\n      <th>49</th>\n      <td>49</td>\n      <td>5956266</td>\n      <td>9</td>\n      <td>2</td>\n      <td>39943</td>\n      <td>11</td>\n      <td>0</td>\n      <td>39636</td>\n      <td>0</td>\n      <td>0.0</td>\n      <td>6.3</td>\n      <td>7</td>\n      <td>22</td>\n      <td>250</td>\n      <td>0.5</td>\n      <td>30000</td>\n      <td>200</td>\n      <td>4</td>\n      <td>1</td>\n    </tr>\n  </tbody>\n</table>\n</div>"
     },
     "metadata": {},
     "execution_count": 17
    }
   ],
   "source": [
    "df.head(50)"
   ]
  },
  {
   "cell_type": "code",
   "execution_count": 18,
   "metadata": {},
   "outputs": [],
   "source": [
    "#remove first trip - no departure time available for it\n",
    "df = df.iloc[41:]\n"
   ]
  },
  {
   "cell_type": "code",
   "execution_count": 19,
   "metadata": {},
   "outputs": [],
   "source": [
    "#reset index\n",
    "df = df.reset_index()"
   ]
  },
  {
   "cell_type": "code",
   "execution_count": 20,
   "metadata": {},
   "outputs": [
    {
     "output_type": "execute_result",
     "data": {
      "text/plain": "   index  Unnamed: 0   TRIPID  PROGRNUMBER  DIRECTION  ACTUALTIME_ARR  hour  \\\n0     41          41  5956266            1          2           39636    11   \n1     42          42  5956266            2          2           39675    11   \n2     43          43  5956266            3          2           39744    11   \n3     44          44  5956266            4          2           39782    11   \n4     45          45  5956266            5          2           39809    11   \n\n   dayofweek  trip_dep_time  weekday  rain  temp  humidity  wind_speed  \\\n0          0          39636        0   0.0   6.3         7          22   \n1          0          39636        0   0.0   6.3         7          22   \n2          0          39636        0   0.0   6.3         7          22   \n3          0          39636        0   0.0   6.3         7          22   \n4          0          39636        0   0.0   6.3         7          22   \n\n   wind_dir  sun  visibility  cloud_height  cloud_cover  holiday  \n0       250  0.5       30000           200            4        1  \n1       250  0.5       30000           200            4        1  \n2       250  0.5       30000           200            4        1  \n3       250  0.5       30000           200            4        1  \n4       250  0.5       30000           200            4        1  ",
      "text/html": "<div>\n<style scoped>\n    .dataframe tbody tr th:only-of-type {\n        vertical-align: middle;\n    }\n\n    .dataframe tbody tr th {\n        vertical-align: top;\n    }\n\n    .dataframe thead th {\n        text-align: right;\n    }\n</style>\n<table border=\"1\" class=\"dataframe\">\n  <thead>\n    <tr style=\"text-align: right;\">\n      <th></th>\n      <th>index</th>\n      <th>Unnamed: 0</th>\n      <th>TRIPID</th>\n      <th>PROGRNUMBER</th>\n      <th>DIRECTION</th>\n      <th>ACTUALTIME_ARR</th>\n      <th>hour</th>\n      <th>dayofweek</th>\n      <th>trip_dep_time</th>\n      <th>weekday</th>\n      <th>rain</th>\n      <th>temp</th>\n      <th>humidity</th>\n      <th>wind_speed</th>\n      <th>wind_dir</th>\n      <th>sun</th>\n      <th>visibility</th>\n      <th>cloud_height</th>\n      <th>cloud_cover</th>\n      <th>holiday</th>\n    </tr>\n  </thead>\n  <tbody>\n    <tr>\n      <th>0</th>\n      <td>41</td>\n      <td>41</td>\n      <td>5956266</td>\n      <td>1</td>\n      <td>2</td>\n      <td>39636</td>\n      <td>11</td>\n      <td>0</td>\n      <td>39636</td>\n      <td>0</td>\n      <td>0.0</td>\n      <td>6.3</td>\n      <td>7</td>\n      <td>22</td>\n      <td>250</td>\n      <td>0.5</td>\n      <td>30000</td>\n      <td>200</td>\n      <td>4</td>\n      <td>1</td>\n    </tr>\n    <tr>\n      <th>1</th>\n      <td>42</td>\n      <td>42</td>\n      <td>5956266</td>\n      <td>2</td>\n      <td>2</td>\n      <td>39675</td>\n      <td>11</td>\n      <td>0</td>\n      <td>39636</td>\n      <td>0</td>\n      <td>0.0</td>\n      <td>6.3</td>\n      <td>7</td>\n      <td>22</td>\n      <td>250</td>\n      <td>0.5</td>\n      <td>30000</td>\n      <td>200</td>\n      <td>4</td>\n      <td>1</td>\n    </tr>\n    <tr>\n      <th>2</th>\n      <td>43</td>\n      <td>43</td>\n      <td>5956266</td>\n      <td>3</td>\n      <td>2</td>\n      <td>39744</td>\n      <td>11</td>\n      <td>0</td>\n      <td>39636</td>\n      <td>0</td>\n      <td>0.0</td>\n      <td>6.3</td>\n      <td>7</td>\n      <td>22</td>\n      <td>250</td>\n      <td>0.5</td>\n      <td>30000</td>\n      <td>200</td>\n      <td>4</td>\n      <td>1</td>\n    </tr>\n    <tr>\n      <th>3</th>\n      <td>44</td>\n      <td>44</td>\n      <td>5956266</td>\n      <td>4</td>\n      <td>2</td>\n      <td>39782</td>\n      <td>11</td>\n      <td>0</td>\n      <td>39636</td>\n      <td>0</td>\n      <td>0.0</td>\n      <td>6.3</td>\n      <td>7</td>\n      <td>22</td>\n      <td>250</td>\n      <td>0.5</td>\n      <td>30000</td>\n      <td>200</td>\n      <td>4</td>\n      <td>1</td>\n    </tr>\n    <tr>\n      <th>4</th>\n      <td>45</td>\n      <td>45</td>\n      <td>5956266</td>\n      <td>5</td>\n      <td>2</td>\n      <td>39809</td>\n      <td>11</td>\n      <td>0</td>\n      <td>39636</td>\n      <td>0</td>\n      <td>0.0</td>\n      <td>6.3</td>\n      <td>7</td>\n      <td>22</td>\n      <td>250</td>\n      <td>0.5</td>\n      <td>30000</td>\n      <td>200</td>\n      <td>4</td>\n      <td>1</td>\n    </tr>\n  </tbody>\n</table>\n</div>"
     },
     "metadata": {},
     "execution_count": 20
    }
   ],
   "source": [
    "df.head()"
   ]
  },
  {
   "cell_type": "code",
   "execution_count": 21,
   "metadata": {},
   "outputs": [],
   "source": [
    "df = df.drop(['Unnamed: 0', 'index'], axis = 1)"
   ]
  },
  {
   "cell_type": "code",
   "execution_count": 22,
   "metadata": {},
   "outputs": [
    {
     "output_type": "execute_result",
     "data": {
      "text/plain": "    TRIPID  PROGRNUMBER  DIRECTION  ACTUALTIME_ARR  hour  dayofweek  \\\n0  5956266            1          2           39636    11          0   \n1  5956266            2          2           39675    11          0   \n2  5956266            3          2           39744    11          0   \n3  5956266            4          2           39782    11          0   \n4  5956266            5          2           39809    11          0   \n\n   trip_dep_time  weekday  rain  temp  humidity  wind_speed  wind_dir  sun  \\\n0          39636        0   0.0   6.3         7          22       250  0.5   \n1          39636        0   0.0   6.3         7          22       250  0.5   \n2          39636        0   0.0   6.3         7          22       250  0.5   \n3          39636        0   0.0   6.3         7          22       250  0.5   \n4          39636        0   0.0   6.3         7          22       250  0.5   \n\n   visibility  cloud_height  cloud_cover  holiday  \n0       30000           200            4        1  \n1       30000           200            4        1  \n2       30000           200            4        1  \n3       30000           200            4        1  \n4       30000           200            4        1  ",
      "text/html": "<div>\n<style scoped>\n    .dataframe tbody tr th:only-of-type {\n        vertical-align: middle;\n    }\n\n    .dataframe tbody tr th {\n        vertical-align: top;\n    }\n\n    .dataframe thead th {\n        text-align: right;\n    }\n</style>\n<table border=\"1\" class=\"dataframe\">\n  <thead>\n    <tr style=\"text-align: right;\">\n      <th></th>\n      <th>TRIPID</th>\n      <th>PROGRNUMBER</th>\n      <th>DIRECTION</th>\n      <th>ACTUALTIME_ARR</th>\n      <th>hour</th>\n      <th>dayofweek</th>\n      <th>trip_dep_time</th>\n      <th>weekday</th>\n      <th>rain</th>\n      <th>temp</th>\n      <th>humidity</th>\n      <th>wind_speed</th>\n      <th>wind_dir</th>\n      <th>sun</th>\n      <th>visibility</th>\n      <th>cloud_height</th>\n      <th>cloud_cover</th>\n      <th>holiday</th>\n    </tr>\n  </thead>\n  <tbody>\n    <tr>\n      <th>0</th>\n      <td>5956266</td>\n      <td>1</td>\n      <td>2</td>\n      <td>39636</td>\n      <td>11</td>\n      <td>0</td>\n      <td>39636</td>\n      <td>0</td>\n      <td>0.0</td>\n      <td>6.3</td>\n      <td>7</td>\n      <td>22</td>\n      <td>250</td>\n      <td>0.5</td>\n      <td>30000</td>\n      <td>200</td>\n      <td>4</td>\n      <td>1</td>\n    </tr>\n    <tr>\n      <th>1</th>\n      <td>5956266</td>\n      <td>2</td>\n      <td>2</td>\n      <td>39675</td>\n      <td>11</td>\n      <td>0</td>\n      <td>39636</td>\n      <td>0</td>\n      <td>0.0</td>\n      <td>6.3</td>\n      <td>7</td>\n      <td>22</td>\n      <td>250</td>\n      <td>0.5</td>\n      <td>30000</td>\n      <td>200</td>\n      <td>4</td>\n      <td>1</td>\n    </tr>\n    <tr>\n      <th>2</th>\n      <td>5956266</td>\n      <td>3</td>\n      <td>2</td>\n      <td>39744</td>\n      <td>11</td>\n      <td>0</td>\n      <td>39636</td>\n      <td>0</td>\n      <td>0.0</td>\n      <td>6.3</td>\n      <td>7</td>\n      <td>22</td>\n      <td>250</td>\n      <td>0.5</td>\n      <td>30000</td>\n      <td>200</td>\n      <td>4</td>\n      <td>1</td>\n    </tr>\n    <tr>\n      <th>3</th>\n      <td>5956266</td>\n      <td>4</td>\n      <td>2</td>\n      <td>39782</td>\n      <td>11</td>\n      <td>0</td>\n      <td>39636</td>\n      <td>0</td>\n      <td>0.0</td>\n      <td>6.3</td>\n      <td>7</td>\n      <td>22</td>\n      <td>250</td>\n      <td>0.5</td>\n      <td>30000</td>\n      <td>200</td>\n      <td>4</td>\n      <td>1</td>\n    </tr>\n    <tr>\n      <th>4</th>\n      <td>5956266</td>\n      <td>5</td>\n      <td>2</td>\n      <td>39809</td>\n      <td>11</td>\n      <td>0</td>\n      <td>39636</td>\n      <td>0</td>\n      <td>0.0</td>\n      <td>6.3</td>\n      <td>7</td>\n      <td>22</td>\n      <td>250</td>\n      <td>0.5</td>\n      <td>30000</td>\n      <td>200</td>\n      <td>4</td>\n      <td>1</td>\n    </tr>\n  </tbody>\n</table>\n</div>"
     },
     "metadata": {},
     "execution_count": 22
    }
   ],
   "source": [
    "df.head()"
   ]
  },
  {
   "cell_type": "code",
   "execution_count": 23,
   "metadata": {},
   "outputs": [],
   "source": [
    "#write over previous csv with this better one\n",
    "df.to_csv('feat_df.csv')"
   ]
  },
  {
   "cell_type": "code",
   "execution_count": null,
   "metadata": {},
   "outputs": [],
   "source": []
  }
 ],
 "metadata": {
  "language_info": {
   "codemirror_mode": {
    "name": "ipython",
    "version": 3
   },
   "file_extension": ".py",
   "mimetype": "text/x-python",
   "name": "python",
   "nbconvert_exporter": "python",
   "pygments_lexer": "ipython3",
   "version": 3
  },
  "orig_nbformat": 2,
  "kernelspec": {
   "name": "python_defaultSpec_1594132597886",
   "display_name": "Python 3.8.3 64-bit ('dublin-bus': conda)"
  }
 },
 "nbformat": 4,
 "nbformat_minor": 2
}