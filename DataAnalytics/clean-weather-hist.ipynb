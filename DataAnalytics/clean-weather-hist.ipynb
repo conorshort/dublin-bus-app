{
 "cells": [
  {
   "cell_type": "code",
   "execution_count": 7,
   "metadata": {},
   "outputs": [],
   "source": [
    "#Import the required packages\n",
    "#Import package pandas for data analysis\n",
    "import pandas as pd\n",
    "\n",
    "# Import package numpy for numeric computing\n",
    "import numpy as np\n",
    "\n",
    "# Import package matplotlib for visualisation/plotting\n",
    "import matplotlib.pyplot as plt\n",
    "\n",
    "#For showing plots directly in the notebook run the command below\n",
    "%matplotlib inline\n",
    "\n",
    "# For saving multiple plots into a single pdf file\n",
    "from matplotlib.backends.backend_pdf import PdfPages\n",
    "\n",
    "from sklearn.model_selection import train_test_split"
   ]
  },
  {
   "cell_type": "code",
   "execution_count": 32,
   "metadata": {},
   "outputs": [
    {
     "output_type": "execute_result",
     "data": {
      "text/plain": "                 date  ind  rain  ind.1  temp  ind.2  wetb  dewpt vappr rhum  \\\n0   01-jan-1990 00:00    2   0.1      0   9.0      0   8.1    7.1  10.1   88   \n1   01-jan-1990 01:00    2   0.0      0   8.9      0   8.0    7.0    10   88   \n2   01-jan-1990 02:00    2   0.0      0   8.8      0   7.9    6.9   9.9   88   \n3   01-jan-1990 03:00    2   0.0      0   9.0      0   8.1    7.1  10.1   88   \n4   01-jan-1990 04:00    0   0.6      0   9.0      0   8.4    7.8  10.5   92   \n5   01-jan-1990 05:00    0   0.6      0   8.5      0   7.8    7.1    10   90   \n6   01-jan-1990 06:00    0   0.0      0   7.9      0   7.2    6.4   9.6   90   \n7   01-jan-1990 07:00    0   0.0      0   7.7      0   7.0    6.2   9.5   90   \n8   01-jan-1990 08:00    0   0.0      0   8.2      0   6.9    5.3   8.9   82   \n9   01-jan-1990 09:00    0   0.0      0   8.2      0   7.1    5.8   9.2   85   \n10  01-jan-1990 10:00    0   0.0      0   8.0      0   6.8    5.3   8.9   83   \n11  01-jan-1990 11:00    0   0.0      0   7.9      0   6.7    5.2   8.8   83   \n12  01-jan-1990 12:00    0   0.0      0   8.0      0   6.7    5.1   8.8   82   \n13  01-jan-1990 13:00    0   0.0      0   8.8      0   6.3    3.0   7.5   67   \n14  01-jan-1990 14:00    0   0.0      0   9.7      0   6.8    3.0   7.6   63   \n15  01-jan-1990 15:00    0   0.0      0   8.6      0   6.7    4.3   8.3   74   \n16  01-jan-1990 16:00    0   0.0      0   8.7      0   6.4    3.3   7.8   69   \n17  01-jan-1990 17:00    0   0.0      0   8.2      0   6.4    4.0   8.2   75   \n18  01-jan-1990 18:00    0   0.0      0   6.4      0   5.2    3.5   7.9   82   \n19  01-jan-1990 19:00    0   0.0      0   6.3      0   5.0    3.2   7.7   80   \n20  01-jan-1990 20:00    0   0.0      0   6.3      0   4.8    2.7   7.4   78   \n21  01-jan-1990 21:00    0   0.0      0   5.1      0   4.1    2.6   7.4   84   \n22  01-jan-1990 22:00    0   0.0      0   5.0      0   4.0    2.5   7.3   84   \n23  01-jan-1990 23:00    0   0.0      0   5.0      0   4.0    2.5   7.3   84   \n24  02-jan-1990 00:00    0   0.0      0   5.6      0   4.8    3.7     8   88   \n25  02-jan-1990 01:00    3   0.0      0   5.8      0   5.3    4.7   8.5   92   \n26  02-jan-1990 02:00    3   0.0      0   5.7      0   4.8    3.6   7.9   86   \n27  02-jan-1990 03:00    3   0.0      0   6.6      0   5.2    3.3   7.7   79   \n28  02-jan-1990 04:00    2   0.0      0   8.8      0   7.6    6.2   9.5   84   \n29  02-jan-1990 05:00    0   0.1      0   8.9      0   7.2    5.1   8.8   77   \n\n    ...  ind.3  wdsp  ind.4  wddir  ww   w  sun    vis  clht  clamt  \n0   ...      2    10      2    140  50  52  0.0   7000     7      8  \n1   ...      2    12      2    140  50  52  0.0   7000     7      8  \n2   ...      2    14      2    150  20  52  0.0   5000     7      8  \n3   ...      2    17      2    160  50  52  0.0   6000     7      8  \n4   ...      2    15      2    160  60  65  0.0   9000     5      8  \n5   ...      2     3      2    190  21  62  0.0  20000    48      7  \n6   ...      2     1      2    150   1  65  0.0  25000    60      7  \n7   ...      2     2      2    210   2  11  0.0  25000    50      7  \n8   ...      2     5      2    220   2  11  0.0  25000    50      7  \n9   ...      2     3      2    210   2  11  0.0  30000    60      7  \n10  ...      2     3      2    180   2  11  0.0  30000    90      7  \n11  ...      2     3      2    210   2  11  0.0  30000   100      7  \n12  ...      2     3      2    220   2  11  0.0  25000   100      7  \n13  ...      2     3      2    200   2  11  0.0  25000   100      7  \n14  ...      2     2      2    190   2  11  0.2  18000   200      6  \n15  ...      2     2      2    190   2  11  0.0  18000   200      7  \n16  ...      2     3      2    210   2  11  0.1   8000   200      7  \n17  ...      2     2      2    210   4  22  0.0   4000   200      7  \n18  ...      2     1      2    180   4  22  0.0   4000   200      5  \n19  ...      2     2      2    180   4  11  0.0   3200   999      1  \n20  ...      2     1      2    180   4   0  0.0   2400   999      1  \n21  ...      2     1      2    170   4  10  0.0   3000   999      1  \n22  ...      2     2      2    140   4   0  0.0   2500   999      1  \n23  ...      2     3      2    140   4   0  0.0   6000   999      1  \n24  ...      2     6      2    140   2  11  0.0  25000   200      5  \n25  ...      2     5      2    140   2  11  0.0  35000   999      2  \n26  ...      2     7      2    140   2  11  0.0  35000   200      4  \n27  ...      2     7      2    150   2  11  0.0  35000   110      7  \n28  ...      2    18      2    150  60  22  0.0  35000    23      8  \n29  ...      2    20      2    140  60  62  0.0  20000    20      8  \n\n[30 rows x 21 columns]",
      "text/html": "<div>\n<style scoped>\n    .dataframe tbody tr th:only-of-type {\n        vertical-align: middle;\n    }\n\n    .dataframe tbody tr th {\n        vertical-align: top;\n    }\n\n    .dataframe thead th {\n        text-align: right;\n    }\n</style>\n<table border=\"1\" class=\"dataframe\">\n  <thead>\n    <tr style=\"text-align: right;\">\n      <th></th>\n      <th>date</th>\n      <th>ind</th>\n      <th>rain</th>\n      <th>ind.1</th>\n      <th>temp</th>\n      <th>ind.2</th>\n      <th>wetb</th>\n      <th>dewpt</th>\n      <th>vappr</th>\n      <th>rhum</th>\n      <th>...</th>\n      <th>ind.3</th>\n      <th>wdsp</th>\n      <th>ind.4</th>\n      <th>wddir</th>\n      <th>ww</th>\n      <th>w</th>\n      <th>sun</th>\n      <th>vis</th>\n      <th>clht</th>\n      <th>clamt</th>\n    </tr>\n  </thead>\n  <tbody>\n    <tr>\n      <th>0</th>\n      <td>01-jan-1990 00:00</td>\n      <td>2</td>\n      <td>0.1</td>\n      <td>0</td>\n      <td>9.0</td>\n      <td>0</td>\n      <td>8.1</td>\n      <td>7.1</td>\n      <td>10.1</td>\n      <td>88</td>\n      <td>...</td>\n      <td>2</td>\n      <td>10</td>\n      <td>2</td>\n      <td>140</td>\n      <td>50</td>\n      <td>52</td>\n      <td>0.0</td>\n      <td>7000</td>\n      <td>7</td>\n      <td>8</td>\n    </tr>\n    <tr>\n      <th>1</th>\n      <td>01-jan-1990 01:00</td>\n      <td>2</td>\n      <td>0.0</td>\n      <td>0</td>\n      <td>8.9</td>\n      <td>0</td>\n      <td>8.0</td>\n      <td>7.0</td>\n      <td>10</td>\n      <td>88</td>\n      <td>...</td>\n      <td>2</td>\n      <td>12</td>\n      <td>2</td>\n      <td>140</td>\n      <td>50</td>\n      <td>52</td>\n      <td>0.0</td>\n      <td>7000</td>\n      <td>7</td>\n      <td>8</td>\n    </tr>\n    <tr>\n      <th>2</th>\n      <td>01-jan-1990 02:00</td>\n      <td>2</td>\n      <td>0.0</td>\n      <td>0</td>\n      <td>8.8</td>\n      <td>0</td>\n      <td>7.9</td>\n      <td>6.9</td>\n      <td>9.9</td>\n      <td>88</td>\n      <td>...</td>\n      <td>2</td>\n      <td>14</td>\n      <td>2</td>\n      <td>150</td>\n      <td>20</td>\n      <td>52</td>\n      <td>0.0</td>\n      <td>5000</td>\n      <td>7</td>\n      <td>8</td>\n    </tr>\n    <tr>\n      <th>3</th>\n      <td>01-jan-1990 03:00</td>\n      <td>2</td>\n      <td>0.0</td>\n      <td>0</td>\n      <td>9.0</td>\n      <td>0</td>\n      <td>8.1</td>\n      <td>7.1</td>\n      <td>10.1</td>\n      <td>88</td>\n      <td>...</td>\n      <td>2</td>\n      <td>17</td>\n      <td>2</td>\n      <td>160</td>\n      <td>50</td>\n      <td>52</td>\n      <td>0.0</td>\n      <td>6000</td>\n      <td>7</td>\n      <td>8</td>\n    </tr>\n    <tr>\n      <th>4</th>\n      <td>01-jan-1990 04:00</td>\n      <td>0</td>\n      <td>0.6</td>\n      <td>0</td>\n      <td>9.0</td>\n      <td>0</td>\n      <td>8.4</td>\n      <td>7.8</td>\n      <td>10.5</td>\n      <td>92</td>\n      <td>...</td>\n      <td>2</td>\n      <td>15</td>\n      <td>2</td>\n      <td>160</td>\n      <td>60</td>\n      <td>65</td>\n      <td>0.0</td>\n      <td>9000</td>\n      <td>5</td>\n      <td>8</td>\n    </tr>\n    <tr>\n      <th>5</th>\n      <td>01-jan-1990 05:00</td>\n      <td>0</td>\n      <td>0.6</td>\n      <td>0</td>\n      <td>8.5</td>\n      <td>0</td>\n      <td>7.8</td>\n      <td>7.1</td>\n      <td>10</td>\n      <td>90</td>\n      <td>...</td>\n      <td>2</td>\n      <td>3</td>\n      <td>2</td>\n      <td>190</td>\n      <td>21</td>\n      <td>62</td>\n      <td>0.0</td>\n      <td>20000</td>\n      <td>48</td>\n      <td>7</td>\n    </tr>\n    <tr>\n      <th>6</th>\n      <td>01-jan-1990 06:00</td>\n      <td>0</td>\n      <td>0.0</td>\n      <td>0</td>\n      <td>7.9</td>\n      <td>0</td>\n      <td>7.2</td>\n      <td>6.4</td>\n      <td>9.6</td>\n      <td>90</td>\n      <td>...</td>\n      <td>2</td>\n      <td>1</td>\n      <td>2</td>\n      <td>150</td>\n      <td>1</td>\n      <td>65</td>\n      <td>0.0</td>\n      <td>25000</td>\n      <td>60</td>\n      <td>7</td>\n    </tr>\n    <tr>\n      <th>7</th>\n      <td>01-jan-1990 07:00</td>\n      <td>0</td>\n      <td>0.0</td>\n      <td>0</td>\n      <td>7.7</td>\n      <td>0</td>\n      <td>7.0</td>\n      <td>6.2</td>\n      <td>9.5</td>\n      <td>90</td>\n      <td>...</td>\n      <td>2</td>\n      <td>2</td>\n      <td>2</td>\n      <td>210</td>\n      <td>2</td>\n      <td>11</td>\n      <td>0.0</td>\n      <td>25000</td>\n      <td>50</td>\n      <td>7</td>\n    </tr>\n    <tr>\n      <th>8</th>\n      <td>01-jan-1990 08:00</td>\n      <td>0</td>\n      <td>0.0</td>\n      <td>0</td>\n      <td>8.2</td>\n      <td>0</td>\n      <td>6.9</td>\n      <td>5.3</td>\n      <td>8.9</td>\n      <td>82</td>\n      <td>...</td>\n      <td>2</td>\n      <td>5</td>\n      <td>2</td>\n      <td>220</td>\n      <td>2</td>\n      <td>11</td>\n      <td>0.0</td>\n      <td>25000</td>\n      <td>50</td>\n      <td>7</td>\n    </tr>\n    <tr>\n      <th>9</th>\n      <td>01-jan-1990 09:00</td>\n      <td>0</td>\n      <td>0.0</td>\n      <td>0</td>\n      <td>8.2</td>\n      <td>0</td>\n      <td>7.1</td>\n      <td>5.8</td>\n      <td>9.2</td>\n      <td>85</td>\n      <td>...</td>\n      <td>2</td>\n      <td>3</td>\n      <td>2</td>\n      <td>210</td>\n      <td>2</td>\n      <td>11</td>\n      <td>0.0</td>\n      <td>30000</td>\n      <td>60</td>\n      <td>7</td>\n    </tr>\n    <tr>\n      <th>10</th>\n      <td>01-jan-1990 10:00</td>\n      <td>0</td>\n      <td>0.0</td>\n      <td>0</td>\n      <td>8.0</td>\n      <td>0</td>\n      <td>6.8</td>\n      <td>5.3</td>\n      <td>8.9</td>\n      <td>83</td>\n      <td>...</td>\n      <td>2</td>\n      <td>3</td>\n      <td>2</td>\n      <td>180</td>\n      <td>2</td>\n      <td>11</td>\n      <td>0.0</td>\n      <td>30000</td>\n      <td>90</td>\n      <td>7</td>\n    </tr>\n    <tr>\n      <th>11</th>\n      <td>01-jan-1990 11:00</td>\n      <td>0</td>\n      <td>0.0</td>\n      <td>0</td>\n      <td>7.9</td>\n      <td>0</td>\n      <td>6.7</td>\n      <td>5.2</td>\n      <td>8.8</td>\n      <td>83</td>\n      <td>...</td>\n      <td>2</td>\n      <td>3</td>\n      <td>2</td>\n      <td>210</td>\n      <td>2</td>\n      <td>11</td>\n      <td>0.0</td>\n      <td>30000</td>\n      <td>100</td>\n      <td>7</td>\n    </tr>\n    <tr>\n      <th>12</th>\n      <td>01-jan-1990 12:00</td>\n      <td>0</td>\n      <td>0.0</td>\n      <td>0</td>\n      <td>8.0</td>\n      <td>0</td>\n      <td>6.7</td>\n      <td>5.1</td>\n      <td>8.8</td>\n      <td>82</td>\n      <td>...</td>\n      <td>2</td>\n      <td>3</td>\n      <td>2</td>\n      <td>220</td>\n      <td>2</td>\n      <td>11</td>\n      <td>0.0</td>\n      <td>25000</td>\n      <td>100</td>\n      <td>7</td>\n    </tr>\n    <tr>\n      <th>13</th>\n      <td>01-jan-1990 13:00</td>\n      <td>0</td>\n      <td>0.0</td>\n      <td>0</td>\n      <td>8.8</td>\n      <td>0</td>\n      <td>6.3</td>\n      <td>3.0</td>\n      <td>7.5</td>\n      <td>67</td>\n      <td>...</td>\n      <td>2</td>\n      <td>3</td>\n      <td>2</td>\n      <td>200</td>\n      <td>2</td>\n      <td>11</td>\n      <td>0.0</td>\n      <td>25000</td>\n      <td>100</td>\n      <td>7</td>\n    </tr>\n    <tr>\n      <th>14</th>\n      <td>01-jan-1990 14:00</td>\n      <td>0</td>\n      <td>0.0</td>\n      <td>0</td>\n      <td>9.7</td>\n      <td>0</td>\n      <td>6.8</td>\n      <td>3.0</td>\n      <td>7.6</td>\n      <td>63</td>\n      <td>...</td>\n      <td>2</td>\n      <td>2</td>\n      <td>2</td>\n      <td>190</td>\n      <td>2</td>\n      <td>11</td>\n      <td>0.2</td>\n      <td>18000</td>\n      <td>200</td>\n      <td>6</td>\n    </tr>\n    <tr>\n      <th>15</th>\n      <td>01-jan-1990 15:00</td>\n      <td>0</td>\n      <td>0.0</td>\n      <td>0</td>\n      <td>8.6</td>\n      <td>0</td>\n      <td>6.7</td>\n      <td>4.3</td>\n      <td>8.3</td>\n      <td>74</td>\n      <td>...</td>\n      <td>2</td>\n      <td>2</td>\n      <td>2</td>\n      <td>190</td>\n      <td>2</td>\n      <td>11</td>\n      <td>0.0</td>\n      <td>18000</td>\n      <td>200</td>\n      <td>7</td>\n    </tr>\n    <tr>\n      <th>16</th>\n      <td>01-jan-1990 16:00</td>\n      <td>0</td>\n      <td>0.0</td>\n      <td>0</td>\n      <td>8.7</td>\n      <td>0</td>\n      <td>6.4</td>\n      <td>3.3</td>\n      <td>7.8</td>\n      <td>69</td>\n      <td>...</td>\n      <td>2</td>\n      <td>3</td>\n      <td>2</td>\n      <td>210</td>\n      <td>2</td>\n      <td>11</td>\n      <td>0.1</td>\n      <td>8000</td>\n      <td>200</td>\n      <td>7</td>\n    </tr>\n    <tr>\n      <th>17</th>\n      <td>01-jan-1990 17:00</td>\n      <td>0</td>\n      <td>0.0</td>\n      <td>0</td>\n      <td>8.2</td>\n      <td>0</td>\n      <td>6.4</td>\n      <td>4.0</td>\n      <td>8.2</td>\n      <td>75</td>\n      <td>...</td>\n      <td>2</td>\n      <td>2</td>\n      <td>2</td>\n      <td>210</td>\n      <td>4</td>\n      <td>22</td>\n      <td>0.0</td>\n      <td>4000</td>\n      <td>200</td>\n      <td>7</td>\n    </tr>\n    <tr>\n      <th>18</th>\n      <td>01-jan-1990 18:00</td>\n      <td>0</td>\n      <td>0.0</td>\n      <td>0</td>\n      <td>6.4</td>\n      <td>0</td>\n      <td>5.2</td>\n      <td>3.5</td>\n      <td>7.9</td>\n      <td>82</td>\n      <td>...</td>\n      <td>2</td>\n      <td>1</td>\n      <td>2</td>\n      <td>180</td>\n      <td>4</td>\n      <td>22</td>\n      <td>0.0</td>\n      <td>4000</td>\n      <td>200</td>\n      <td>5</td>\n    </tr>\n    <tr>\n      <th>19</th>\n      <td>01-jan-1990 19:00</td>\n      <td>0</td>\n      <td>0.0</td>\n      <td>0</td>\n      <td>6.3</td>\n      <td>0</td>\n      <td>5.0</td>\n      <td>3.2</td>\n      <td>7.7</td>\n      <td>80</td>\n      <td>...</td>\n      <td>2</td>\n      <td>2</td>\n      <td>2</td>\n      <td>180</td>\n      <td>4</td>\n      <td>11</td>\n      <td>0.0</td>\n      <td>3200</td>\n      <td>999</td>\n      <td>1</td>\n    </tr>\n    <tr>\n      <th>20</th>\n      <td>01-jan-1990 20:00</td>\n      <td>0</td>\n      <td>0.0</td>\n      <td>0</td>\n      <td>6.3</td>\n      <td>0</td>\n      <td>4.8</td>\n      <td>2.7</td>\n      <td>7.4</td>\n      <td>78</td>\n      <td>...</td>\n      <td>2</td>\n      <td>1</td>\n      <td>2</td>\n      <td>180</td>\n      <td>4</td>\n      <td>0</td>\n      <td>0.0</td>\n      <td>2400</td>\n      <td>999</td>\n      <td>1</td>\n    </tr>\n    <tr>\n      <th>21</th>\n      <td>01-jan-1990 21:00</td>\n      <td>0</td>\n      <td>0.0</td>\n      <td>0</td>\n      <td>5.1</td>\n      <td>0</td>\n      <td>4.1</td>\n      <td>2.6</td>\n      <td>7.4</td>\n      <td>84</td>\n      <td>...</td>\n      <td>2</td>\n      <td>1</td>\n      <td>2</td>\n      <td>170</td>\n      <td>4</td>\n      <td>10</td>\n      <td>0.0</td>\n      <td>3000</td>\n      <td>999</td>\n      <td>1</td>\n    </tr>\n    <tr>\n      <th>22</th>\n      <td>01-jan-1990 22:00</td>\n      <td>0</td>\n      <td>0.0</td>\n      <td>0</td>\n      <td>5.0</td>\n      <td>0</td>\n      <td>4.0</td>\n      <td>2.5</td>\n      <td>7.3</td>\n      <td>84</td>\n      <td>...</td>\n      <td>2</td>\n      <td>2</td>\n      <td>2</td>\n      <td>140</td>\n      <td>4</td>\n      <td>0</td>\n      <td>0.0</td>\n      <td>2500</td>\n      <td>999</td>\n      <td>1</td>\n    </tr>\n    <tr>\n      <th>23</th>\n      <td>01-jan-1990 23:00</td>\n      <td>0</td>\n      <td>0.0</td>\n      <td>0</td>\n      <td>5.0</td>\n      <td>0</td>\n      <td>4.0</td>\n      <td>2.5</td>\n      <td>7.3</td>\n      <td>84</td>\n      <td>...</td>\n      <td>2</td>\n      <td>3</td>\n      <td>2</td>\n      <td>140</td>\n      <td>4</td>\n      <td>0</td>\n      <td>0.0</td>\n      <td>6000</td>\n      <td>999</td>\n      <td>1</td>\n    </tr>\n    <tr>\n      <th>24</th>\n      <td>02-jan-1990 00:00</td>\n      <td>0</td>\n      <td>0.0</td>\n      <td>0</td>\n      <td>5.6</td>\n      <td>0</td>\n      <td>4.8</td>\n      <td>3.7</td>\n      <td>8</td>\n      <td>88</td>\n      <td>...</td>\n      <td>2</td>\n      <td>6</td>\n      <td>2</td>\n      <td>140</td>\n      <td>2</td>\n      <td>11</td>\n      <td>0.0</td>\n      <td>25000</td>\n      <td>200</td>\n      <td>5</td>\n    </tr>\n    <tr>\n      <th>25</th>\n      <td>02-jan-1990 01:00</td>\n      <td>3</td>\n      <td>0.0</td>\n      <td>0</td>\n      <td>5.8</td>\n      <td>0</td>\n      <td>5.3</td>\n      <td>4.7</td>\n      <td>8.5</td>\n      <td>92</td>\n      <td>...</td>\n      <td>2</td>\n      <td>5</td>\n      <td>2</td>\n      <td>140</td>\n      <td>2</td>\n      <td>11</td>\n      <td>0.0</td>\n      <td>35000</td>\n      <td>999</td>\n      <td>2</td>\n    </tr>\n    <tr>\n      <th>26</th>\n      <td>02-jan-1990 02:00</td>\n      <td>3</td>\n      <td>0.0</td>\n      <td>0</td>\n      <td>5.7</td>\n      <td>0</td>\n      <td>4.8</td>\n      <td>3.6</td>\n      <td>7.9</td>\n      <td>86</td>\n      <td>...</td>\n      <td>2</td>\n      <td>7</td>\n      <td>2</td>\n      <td>140</td>\n      <td>2</td>\n      <td>11</td>\n      <td>0.0</td>\n      <td>35000</td>\n      <td>200</td>\n      <td>4</td>\n    </tr>\n    <tr>\n      <th>27</th>\n      <td>02-jan-1990 03:00</td>\n      <td>3</td>\n      <td>0.0</td>\n      <td>0</td>\n      <td>6.6</td>\n      <td>0</td>\n      <td>5.2</td>\n      <td>3.3</td>\n      <td>7.7</td>\n      <td>79</td>\n      <td>...</td>\n      <td>2</td>\n      <td>7</td>\n      <td>2</td>\n      <td>150</td>\n      <td>2</td>\n      <td>11</td>\n      <td>0.0</td>\n      <td>35000</td>\n      <td>110</td>\n      <td>7</td>\n    </tr>\n    <tr>\n      <th>28</th>\n      <td>02-jan-1990 04:00</td>\n      <td>2</td>\n      <td>0.0</td>\n      <td>0</td>\n      <td>8.8</td>\n      <td>0</td>\n      <td>7.6</td>\n      <td>6.2</td>\n      <td>9.5</td>\n      <td>84</td>\n      <td>...</td>\n      <td>2</td>\n      <td>18</td>\n      <td>2</td>\n      <td>150</td>\n      <td>60</td>\n      <td>22</td>\n      <td>0.0</td>\n      <td>35000</td>\n      <td>23</td>\n      <td>8</td>\n    </tr>\n    <tr>\n      <th>29</th>\n      <td>02-jan-1990 05:00</td>\n      <td>0</td>\n      <td>0.1</td>\n      <td>0</td>\n      <td>8.9</td>\n      <td>0</td>\n      <td>7.2</td>\n      <td>5.1</td>\n      <td>8.8</td>\n      <td>77</td>\n      <td>...</td>\n      <td>2</td>\n      <td>20</td>\n      <td>2</td>\n      <td>140</td>\n      <td>60</td>\n      <td>62</td>\n      <td>0.0</td>\n      <td>20000</td>\n      <td>20</td>\n      <td>8</td>\n    </tr>\n  </tbody>\n</table>\n<p>30 rows × 21 columns</p>\n</div>"
     },
     "metadata": {},
     "execution_count": 32
    }
   ],
   "source": [
    "# Reading from a csv file, into a data frame\n",
    "# Can set parameters to remove white space from the beginning and end of column names\n",
    "# Read more about .read_csv() here: https://pandas.pydata.org/pandas-docs/stable/reference/api/pandas.read_csv.html\n",
    "df = pd.read_csv('/Users/danobeirne/Documents/UCD/dublin-bus-app/DataAnalytics/historical-weather-data.csv', keep_default_na=True, delimiter=',')\n",
    "# Show data frame first few rows\n",
    "df.head(30)"
   ]
  },
  {
   "cell_type": "code",
   "execution_count": 33,
   "metadata": {},
   "outputs": [
    {
     "output_type": "execute_result",
     "data": {
      "text/plain": "date      object\nind        int64\nrain     float64\nind.1      int64\ntemp     float64\nind.2      int64\nwetb     float64\ndewpt    float64\nvappr     object\nrhum      object\nmsl      float64\nind.3      int64\nwdsp       int64\nind.4      int64\nwddir     object\nww         int64\nw          int64\nsun      float64\nvis        int64\nclht       int64\nclamt      int64\ndtype: object"
     },
     "metadata": {},
     "execution_count": 33
    }
   ],
   "source": [
    "df.dtypes"
   ]
  },
  {
   "cell_type": "code",
   "execution_count": 34,
   "metadata": {},
   "outputs": [],
   "source": [
    "#start by fixing date datatype and drop non-2018 years can be dropped\n",
    "df['date'] = pd.to_datetime(df.date)\n",
    "df_n = df[df['date'].dt.year == 2018]"
   ]
  },
  {
   "cell_type": "code",
   "execution_count": 35,
   "metadata": {},
   "outputs": [
    {
     "output_type": "execute_result",
     "data": {
      "text/plain": "                      date  ind  rain  ind.1  temp  ind.2  wetb  dewpt vappr  \\\n245448 2018-01-01 00:00:00    2   0.0      0   4.5      0   3.3    1.5   6.8   \n245449 2018-01-01 01:00:00    2   0.0      0   4.4      0   3.4    1.8     7   \n245450 2018-01-01 02:00:00    2   0.0      0   4.6      0   3.5    1.8     7   \n245451 2018-01-01 03:00:00    2   0.0      0   4.6      0   3.6    2.1   7.1   \n245452 2018-01-01 04:00:00    0   0.0      0   5.1      0   4.0    2.3   7.2   \n\n       rhum  ...  ind.3  wdsp  ind.4  wddir  ww   w  sun    vis  clht  clamt  \n245448   81  ...      2    23      2    240  80  81  0.0  16000   168      7  \n245449   84  ...      2    25      2    240  80  82  0.0  20000   250      5  \n245450   82  ...      2    23      2    240  25  81  0.0  20000   999      3  \n245451   84  ...      2    24      2    240  25  81  0.0  30000   999      4  \n245452   83  ...      2    21      2    240   2  11  0.0  25000   999      4  \n\n[5 rows x 21 columns]",
      "text/html": "<div>\n<style scoped>\n    .dataframe tbody tr th:only-of-type {\n        vertical-align: middle;\n    }\n\n    .dataframe tbody tr th {\n        vertical-align: top;\n    }\n\n    .dataframe thead th {\n        text-align: right;\n    }\n</style>\n<table border=\"1\" class=\"dataframe\">\n  <thead>\n    <tr style=\"text-align: right;\">\n      <th></th>\n      <th>date</th>\n      <th>ind</th>\n      <th>rain</th>\n      <th>ind.1</th>\n      <th>temp</th>\n      <th>ind.2</th>\n      <th>wetb</th>\n      <th>dewpt</th>\n      <th>vappr</th>\n      <th>rhum</th>\n      <th>...</th>\n      <th>ind.3</th>\n      <th>wdsp</th>\n      <th>ind.4</th>\n      <th>wddir</th>\n      <th>ww</th>\n      <th>w</th>\n      <th>sun</th>\n      <th>vis</th>\n      <th>clht</th>\n      <th>clamt</th>\n    </tr>\n  </thead>\n  <tbody>\n    <tr>\n      <th>245448</th>\n      <td>2018-01-01 00:00:00</td>\n      <td>2</td>\n      <td>0.0</td>\n      <td>0</td>\n      <td>4.5</td>\n      <td>0</td>\n      <td>3.3</td>\n      <td>1.5</td>\n      <td>6.8</td>\n      <td>81</td>\n      <td>...</td>\n      <td>2</td>\n      <td>23</td>\n      <td>2</td>\n      <td>240</td>\n      <td>80</td>\n      <td>81</td>\n      <td>0.0</td>\n      <td>16000</td>\n      <td>168</td>\n      <td>7</td>\n    </tr>\n    <tr>\n      <th>245449</th>\n      <td>2018-01-01 01:00:00</td>\n      <td>2</td>\n      <td>0.0</td>\n      <td>0</td>\n      <td>4.4</td>\n      <td>0</td>\n      <td>3.4</td>\n      <td>1.8</td>\n      <td>7</td>\n      <td>84</td>\n      <td>...</td>\n      <td>2</td>\n      <td>25</td>\n      <td>2</td>\n      <td>240</td>\n      <td>80</td>\n      <td>82</td>\n      <td>0.0</td>\n      <td>20000</td>\n      <td>250</td>\n      <td>5</td>\n    </tr>\n    <tr>\n      <th>245450</th>\n      <td>2018-01-01 02:00:00</td>\n      <td>2</td>\n      <td>0.0</td>\n      <td>0</td>\n      <td>4.6</td>\n      <td>0</td>\n      <td>3.5</td>\n      <td>1.8</td>\n      <td>7</td>\n      <td>82</td>\n      <td>...</td>\n      <td>2</td>\n      <td>23</td>\n      <td>2</td>\n      <td>240</td>\n      <td>25</td>\n      <td>81</td>\n      <td>0.0</td>\n      <td>20000</td>\n      <td>999</td>\n      <td>3</td>\n    </tr>\n    <tr>\n      <th>245451</th>\n      <td>2018-01-01 03:00:00</td>\n      <td>2</td>\n      <td>0.0</td>\n      <td>0</td>\n      <td>4.6</td>\n      <td>0</td>\n      <td>3.6</td>\n      <td>2.1</td>\n      <td>7.1</td>\n      <td>84</td>\n      <td>...</td>\n      <td>2</td>\n      <td>24</td>\n      <td>2</td>\n      <td>240</td>\n      <td>25</td>\n      <td>81</td>\n      <td>0.0</td>\n      <td>30000</td>\n      <td>999</td>\n      <td>4</td>\n    </tr>\n    <tr>\n      <th>245452</th>\n      <td>2018-01-01 04:00:00</td>\n      <td>0</td>\n      <td>0.0</td>\n      <td>0</td>\n      <td>5.1</td>\n      <td>0</td>\n      <td>4.0</td>\n      <td>2.3</td>\n      <td>7.2</td>\n      <td>83</td>\n      <td>...</td>\n      <td>2</td>\n      <td>21</td>\n      <td>2</td>\n      <td>240</td>\n      <td>2</td>\n      <td>11</td>\n      <td>0.0</td>\n      <td>25000</td>\n      <td>999</td>\n      <td>4</td>\n    </tr>\n  </tbody>\n</table>\n<p>5 rows × 21 columns</p>\n</div>"
     },
     "metadata": {},
     "execution_count": 35
    }
   ],
   "source": [
    "df_n.head()"
   ]
  },
  {
   "cell_type": "code",
   "execution_count": 36,
   "metadata": {},
   "outputs": [
    {
     "output_type": "execute_result",
     "data": {
      "text/plain": "Index(['date', 'ind', 'rain', 'ind.1', 'temp', 'ind.2', 'wetb', 'dewpt',\n       'vappr', 'rhum', 'msl', 'ind.3', 'wdsp', 'ind.4', 'wddir', 'ww', 'w',\n       'sun', 'vis', 'clht', 'clamt'],\n      dtype='object')"
     },
     "metadata": {},
     "execution_count": 36
    }
   ],
   "source": [
    "#Next see what columns are unnecessary and drop them \n",
    "df_n.columns"
   ]
  },
  {
   "cell_type": "code",
   "execution_count": 37,
   "metadata": {},
   "outputs": [],
   "source": [
    "#drop the columns that won't be of any use\n",
    "df_n = df_n.drop(['ind', 'ind.1', 'ind.2', 'wetb', 'dewpt', 'msl', 'ww', 'w', 'ind.4'], axis=1)"
   ]
  },
  {
   "cell_type": "code",
   "execution_count": 38,
   "metadata": {},
   "outputs": [
    {
     "output_type": "execute_result",
     "data": {
      "text/plain": "Index(['date', 'rain', 'temp', 'vappr', 'rhum', 'ind.3', 'wdsp', 'wddir',\n       'sun', 'vis', 'clht', 'clamt'],\n      dtype='object')"
     },
     "metadata": {},
     "execution_count": 38
    }
   ],
   "source": [
    "df_n.columns"
   ]
  },
  {
   "cell_type": "code",
   "execution_count": 44,
   "metadata": {},
   "outputs": [],
   "source": [
    "df_n = df_n.drop(['ind.3'], axis=1)"
   ]
  },
  {
   "cell_type": "code",
   "execution_count": 46,
   "metadata": {},
   "outputs": [],
   "source": [
    "#name the columns more udnertandable things\n",
    "df_n.rename(columns = {'rhum':'humidity', 'vappr':'pressure','clamt':'cloud_cover', 'clht':'cloud_height', 'date':'datetime', 'vis':'visibility', 'wddir':'wind_dir', 'wdsp':'wind_speed'}, inplace = True) "
   ]
  },
  {
   "cell_type": "code",
   "execution_count": 47,
   "metadata": {},
   "outputs": [
    {
     "output_type": "execute_result",
     "data": {
      "text/plain": "Index(['datetime', 'rain', 'temp', 'pressure', 'humidity', 'wind_speed',\n       'wind_dir', 'sun', 'visibility', 'cloud_height', 'cloud_cover'],\n      dtype='object')"
     },
     "metadata": {},
     "execution_count": 47
    }
   ],
   "source": [
    "df_n.columns"
   ]
  },
  {
   "cell_type": "code",
   "execution_count": 50,
   "metadata": {},
   "outputs": [
    {
     "output_type": "execute_result",
     "data": {
      "text/plain": "                  datetime  rain  temp pressure humidity  wind_speed wind_dir  \\\n245448 2018-01-01 00:00:00   0.0   4.5      6.8       81          23      240   \n245449 2018-01-01 01:00:00   0.0   4.4        7       84          25      240   \n245450 2018-01-01 02:00:00   0.0   4.6        7       82          23      240   \n245451 2018-01-01 03:00:00   0.0   4.6      7.1       84          24      240   \n245452 2018-01-01 04:00:00   0.0   5.1      7.2       83          21      240   \n\n        sun  visibility  cloud_height  cloud_cover  \n245448  0.0       16000           168            7  \n245449  0.0       20000           250            5  \n245450  0.0       20000           999            3  \n245451  0.0       30000           999            4  \n245452  0.0       25000           999            4  ",
      "text/html": "<div>\n<style scoped>\n    .dataframe tbody tr th:only-of-type {\n        vertical-align: middle;\n    }\n\n    .dataframe tbody tr th {\n        vertical-align: top;\n    }\n\n    .dataframe thead th {\n        text-align: right;\n    }\n</style>\n<table border=\"1\" class=\"dataframe\">\n  <thead>\n    <tr style=\"text-align: right;\">\n      <th></th>\n      <th>datetime</th>\n      <th>rain</th>\n      <th>temp</th>\n      <th>pressure</th>\n      <th>humidity</th>\n      <th>wind_speed</th>\n      <th>wind_dir</th>\n      <th>sun</th>\n      <th>visibility</th>\n      <th>cloud_height</th>\n      <th>cloud_cover</th>\n    </tr>\n  </thead>\n  <tbody>\n    <tr>\n      <th>245448</th>\n      <td>2018-01-01 00:00:00</td>\n      <td>0.0</td>\n      <td>4.5</td>\n      <td>6.8</td>\n      <td>81</td>\n      <td>23</td>\n      <td>240</td>\n      <td>0.0</td>\n      <td>16000</td>\n      <td>168</td>\n      <td>7</td>\n    </tr>\n    <tr>\n      <th>245449</th>\n      <td>2018-01-01 01:00:00</td>\n      <td>0.0</td>\n      <td>4.4</td>\n      <td>7</td>\n      <td>84</td>\n      <td>25</td>\n      <td>240</td>\n      <td>0.0</td>\n      <td>20000</td>\n      <td>250</td>\n      <td>5</td>\n    </tr>\n    <tr>\n      <th>245450</th>\n      <td>2018-01-01 02:00:00</td>\n      <td>0.0</td>\n      <td>4.6</td>\n      <td>7</td>\n      <td>82</td>\n      <td>23</td>\n      <td>240</td>\n      <td>0.0</td>\n      <td>20000</td>\n      <td>999</td>\n      <td>3</td>\n    </tr>\n    <tr>\n      <th>245451</th>\n      <td>2018-01-01 03:00:00</td>\n      <td>0.0</td>\n      <td>4.6</td>\n      <td>7.1</td>\n      <td>84</td>\n      <td>24</td>\n      <td>240</td>\n      <td>0.0</td>\n      <td>30000</td>\n      <td>999</td>\n      <td>4</td>\n    </tr>\n    <tr>\n      <th>245452</th>\n      <td>2018-01-01 04:00:00</td>\n      <td>0.0</td>\n      <td>5.1</td>\n      <td>7.2</td>\n      <td>83</td>\n      <td>21</td>\n      <td>240</td>\n      <td>0.0</td>\n      <td>25000</td>\n      <td>999</td>\n      <td>4</td>\n    </tr>\n  </tbody>\n</table>\n</div>"
     },
     "metadata": {},
     "execution_count": 50
    }
   ],
   "source": [
    "df_n.head()"
   ]
  },
  {
   "cell_type": "code",
   "execution_count": 49,
   "metadata": {},
   "outputs": [
    {
     "output_type": "execute_result",
     "data": {
      "text/plain": "datetime        datetime64[ns]\nrain                   float64\ntemp                   float64\npressure                object\nhumidity                object\nwind_speed               int64\nwind_dir                object\nsun                    float64\nvisibility               int64\ncloud_height             int64\ncloud_cover              int64\ndtype: object"
     },
     "metadata": {},
     "execution_count": 49
    }
   ],
   "source": [
    "df_n.dtypes"
   ]
  },
  {
   "cell_type": "code",
   "execution_count": 53,
   "metadata": {},
   "outputs": [],
   "source": [
    "#fix orther dtypes\n",
    "df_n['pressure'] = df_n['pressure'].astype('float64')\n",
    "df_n['humidity'] = df_n['pressure'].astype('int64')"
   ]
  },
  {
   "cell_type": "code",
   "execution_count": 59,
   "metadata": {},
   "outputs": [],
   "source": [
    "numeric_columns = df_n.select_dtypes(['int64', 'float64']).columns\n",
    "columns = list(df_n)"
   ]
  },
  {
   "cell_type": "code",
   "execution_count": 68,
   "metadata": {
    "tags": []
   },
   "outputs": [
    {
     "output_type": "stream",
     "name": "stdout",
     "text": "Max  datetime : 2018-12-31 23:00:00\nMin  datetime : 2018-01-01 00:00:00\nRange:  datetime : 364 days 23:00:00\nMax  rain : 7.7\nMin  rain : 0.0\nRange:  rain : 7.7\nMax  temp : 26.3\nMin  temp : -4.8\nRange:  temp : 31.1\nMax  pressure : 21.7\nMin  pressure : 3.1\nRange:  pressure : 18.599999999999998\nMax  humidity : 21\nMin  humidity : 3\nRange:  humidity : 18\nMax  wind_speed : 34\nMin  wind_speed : 1\nRange:  wind_speed : 33\nMax  wind_dir : 360\nMin  wind_dir : 10\nRange:  wind_dir : 350\nMax  sun : 1.0\nMin  sun : 0.0\nRange:  sun : 1.0\nMax  visibility : 70000\nMin  visibility : 100\nRange:  visibility : 69900\nMax  cloud_height : 999\nMin  cloud_height : 1\nRange:  cloud_height : 998\nMax  cloud_cover : 8\nMin  cloud_cover : 0\nRange:  cloud_cover : 8\n"
    }
   ],
   "source": [
    "#have a look at max and min values\n",
    "for col in columns:\n",
    "    print(\"Max \", col, \":\", df_n[col].max())\n",
    "    print(\"Min \", col, \":\", df_n[col].min())\n",
    "    print(\"Range: \", col, \":\", df_n[col].max() - df_n[col].min())"
   ]
  },
  {
   "cell_type": "code",
   "execution_count": 67,
   "metadata": {},
   "outputs": [
    {
     "output_type": "execute_result",
     "data": {
      "text/plain": "              rain         temp     pressure     humidity   wind_speed  \\\ncount  8760.000000  8760.000000  8760.000000  8760.000000  8760.000000   \nmean      0.079429     9.953356    10.149498     9.700457     9.988128   \nstd       0.361811     5.504088     3.238347     3.246926     5.256138   \nmin       0.000000    -4.800000     3.100000     3.000000     1.000000   \n25%       0.000000     6.000000     7.700000     7.000000     6.000000   \n50%       0.000000     9.600000     9.700000     9.000000     9.000000   \n75%       0.000000    13.900000    12.200000    12.000000    13.000000   \nmax       7.700000    26.300000    21.700000    21.000000    34.000000   \n\n               sun    visibility  cloud_height  cloud_cover  \ncount  8760.000000   8760.000000   8760.000000  8760.000000  \nmean      0.176027  28390.468037    307.813014     5.517352  \nstd       0.333543  14046.468858    412.192618     2.333908  \nmin       0.000000    100.000000      1.000000     0.000000  \n25%       0.000000  20000.000000     24.000000     4.000000  \n50%       0.000000  30000.000000     50.000000     7.000000  \n75%       0.100000  40000.000000    999.000000     7.000000  \nmax       1.000000  70000.000000    999.000000     8.000000  ",
      "text/html": "<div>\n<style scoped>\n    .dataframe tbody tr th:only-of-type {\n        vertical-align: middle;\n    }\n\n    .dataframe tbody tr th {\n        vertical-align: top;\n    }\n\n    .dataframe thead th {\n        text-align: right;\n    }\n</style>\n<table border=\"1\" class=\"dataframe\">\n  <thead>\n    <tr style=\"text-align: right;\">\n      <th></th>\n      <th>rain</th>\n      <th>temp</th>\n      <th>pressure</th>\n      <th>humidity</th>\n      <th>wind_speed</th>\n      <th>sun</th>\n      <th>visibility</th>\n      <th>cloud_height</th>\n      <th>cloud_cover</th>\n    </tr>\n  </thead>\n  <tbody>\n    <tr>\n      <th>count</th>\n      <td>8760.000000</td>\n      <td>8760.000000</td>\n      <td>8760.000000</td>\n      <td>8760.000000</td>\n      <td>8760.000000</td>\n      <td>8760.000000</td>\n      <td>8760.000000</td>\n      <td>8760.000000</td>\n      <td>8760.000000</td>\n    </tr>\n    <tr>\n      <th>mean</th>\n      <td>0.079429</td>\n      <td>9.953356</td>\n      <td>10.149498</td>\n      <td>9.700457</td>\n      <td>9.988128</td>\n      <td>0.176027</td>\n      <td>28390.468037</td>\n      <td>307.813014</td>\n      <td>5.517352</td>\n    </tr>\n    <tr>\n      <th>std</th>\n      <td>0.361811</td>\n      <td>5.504088</td>\n      <td>3.238347</td>\n      <td>3.246926</td>\n      <td>5.256138</td>\n      <td>0.333543</td>\n      <td>14046.468858</td>\n      <td>412.192618</td>\n      <td>2.333908</td>\n    </tr>\n    <tr>\n      <th>min</th>\n      <td>0.000000</td>\n      <td>-4.800000</td>\n      <td>3.100000</td>\n      <td>3.000000</td>\n      <td>1.000000</td>\n      <td>0.000000</td>\n      <td>100.000000</td>\n      <td>1.000000</td>\n      <td>0.000000</td>\n    </tr>\n    <tr>\n      <th>25%</th>\n      <td>0.000000</td>\n      <td>6.000000</td>\n      <td>7.700000</td>\n      <td>7.000000</td>\n      <td>6.000000</td>\n      <td>0.000000</td>\n      <td>20000.000000</td>\n      <td>24.000000</td>\n      <td>4.000000</td>\n    </tr>\n    <tr>\n      <th>50%</th>\n      <td>0.000000</td>\n      <td>9.600000</td>\n      <td>9.700000</td>\n      <td>9.000000</td>\n      <td>9.000000</td>\n      <td>0.000000</td>\n      <td>30000.000000</td>\n      <td>50.000000</td>\n      <td>7.000000</td>\n    </tr>\n    <tr>\n      <th>75%</th>\n      <td>0.000000</td>\n      <td>13.900000</td>\n      <td>12.200000</td>\n      <td>12.000000</td>\n      <td>13.000000</td>\n      <td>0.100000</td>\n      <td>40000.000000</td>\n      <td>999.000000</td>\n      <td>7.000000</td>\n    </tr>\n    <tr>\n      <th>max</th>\n      <td>7.700000</td>\n      <td>26.300000</td>\n      <td>21.700000</td>\n      <td>21.000000</td>\n      <td>34.000000</td>\n      <td>1.000000</td>\n      <td>70000.000000</td>\n      <td>999.000000</td>\n      <td>8.000000</td>\n    </tr>\n  </tbody>\n</table>\n</div>"
     },
     "metadata": {},
     "execution_count": 67
    }
   ],
   "source": [
    "# have a look at the shape of the df\n",
    "df_n.describe()"
   ]
  },
  {
   "cell_type": "markdown",
   "metadata": {},
   "source": [
    "# Data Quality Report\n",
    "Overall the data is of excelklent quality - there are almost no anomolies, the ranges eem appropriate, the max and min values seem appropriate.\n",
    "Going forward the only thing to watch for is the variance in the range of the different features - perhaps and standardisation of the values would be appropriate.\n",
    "Deleted columns are columns that are irrelevant information"
   ]
  },
  {
   "cell_type": "code",
   "execution_count": 73,
   "metadata": {},
   "outputs": [],
   "source": [
    "df_n.to_csv('/Users/danobeirne/Documents/UCD/dublin-bus-app/DataAnalytics/weather-data-cleaned.csv')"
   ]
  },
  {
   "cell_type": "code",
   "execution_count": null,
   "metadata": {},
   "outputs": [],
   "source": []
  }
 ],
 "metadata": {
  "language_info": {
   "codemirror_mode": {
    "name": "ipython",
    "version": 3
   },
   "file_extension": ".py",
   "mimetype": "text/x-python",
   "name": "python",
   "nbconvert_exporter": "python",
   "pygments_lexer": "ipython3",
   "version": "3.8.3-final"
  },
  "orig_nbformat": 2,
  "kernelspec": {
   "name": "python38364bitdublinbuscondabec972e068524f409200095ec019eac2",
   "display_name": "Python 3.8.3 64-bit ('dublin-bus': conda)"
  }
 },
 "nbformat": 4,
 "nbformat_minor": 2
}