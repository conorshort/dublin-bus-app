{
 "cells": [
  {
   "cell_type": "markdown",
   "metadata": {},
   "source": [
    "## Import the required packages"
   ]
  },
  {
   "cell_type": "code",
   "execution_count": 90,
   "metadata": {},
   "outputs": [],
   "source": [
    "#Import package pandas for data analysis\n",
    "import pandas as pd\n",
    "# Import package numpy for numeric computing\n",
    "import numpy as np\n",
    "import seaborn as sns\n",
    "# Import package matplotlib for visualisation/plotting\n",
    "import matplotlib.pyplot as plt\n",
    "import matplotlib.patches as mpatches\n",
    "\n",
    "from patsy import dmatrices\n",
    "from sklearn.linear_model import LinearRegression\n",
    "from sklearn.model_selection import train_test_split\n",
    "from sklearn import metrics\n",
    "from sklearn.model_selection import cross_validate\n",
    "from sklearn.model_selection import cross_val_score\n",
    "from sklearn.metrics import accuracy_score\n",
    "\n",
    "import pymysql\n",
    "\n",
    "import matplotlib.pyplot as plt\n",
    "\n",
    "#For showing plots directly in the notebook run the command below\n",
    "%matplotlib inline\n",
    "\n",
    "# For saving multiple plots into a single pdf file\n",
    "from matplotlib.backends.backend_pdf import PdfPages\n",
    "\n",
    "import scipy.stats as ss\n",
    "\n",
    "# ignore warnings\n",
    "import warnings\n",
    "warnings.filterwarnings('ignore')"
   ]
  },
  {
   "cell_type": "markdown",
   "metadata": {},
   "source": [
    "## Connect to mysql"
   ]
  },
  {
   "cell_type": "code",
   "execution_count": 3,
   "metadata": {},
   "outputs": [],
   "source": [
    "from sshtunnel import SSHTunnelForwarder\n",
    "import pymysql\n",
    "import pandas as pd\n",
    "\n",
    "server = SSHTunnelForwarder(\n",
    "ssh_address=('ipa-008.ucd.ie', 22),\n",
    "ssh_username=\"wingki\",\n",
    "ssh_password=\"6!#5/6_Dublinbus\",\n",
    "remote_bind_address=(\"localhost\", 3306))\n",
    "\n",
    "server.start()\n",
    "\n",
    "con = pymysql.connect(user='root',passwd='Dublinbus_6!#5/6',db='dublinbus',host='localhost',port=server.local_bind_port)"
   ]
  },
  {
   "cell_type": "markdown",
   "metadata": {},
   "source": [
    "## Clean route data"
   ]
  },
  {
   "cell_type": "code",
   "execution_count": 4,
   "metadata": {},
   "outputs": [],
   "source": [
    "# Reading from mysql, into a data frame\n",
    "\n",
    "# Read more about .read_csv() here: https://pandas.pydata.org/pandas-docs/stable/reference/api/pandas.read_csv.html\n",
    "\n",
    "#read data from route table\n",
    "routeData = pd.read_sql_query(\"SELECT * FROM dublinbus.route_1;\", con)"
   ]
  },
  {
   "cell_type": "code",
   "execution_count": 5,
   "metadata": {
    "scrolled": false
   },
   "outputs": [
    {
     "data": {
      "text/html": [
       "<div>\n",
       "<style scoped>\n",
       "    .dataframe tbody tr th:only-of-type {\n",
       "        vertical-align: middle;\n",
       "    }\n",
       "\n",
       "    .dataframe tbody tr th {\n",
       "        vertical-align: top;\n",
       "    }\n",
       "\n",
       "    .dataframe thead th {\n",
       "        text-align: right;\n",
       "    }\n",
       "</style>\n",
       "<table border=\"1\" class=\"dataframe\">\n",
       "  <thead>\n",
       "    <tr style=\"text-align: right;\">\n",
       "      <th></th>\n",
       "      <th>DAYOFSERVICE</th>\n",
       "      <th>TRIPID</th>\n",
       "      <th>LINEID</th>\n",
       "      <th>PROGRNUMBER</th>\n",
       "      <th>STOPPOINTID</th>\n",
       "      <th>DIRECTION</th>\n",
       "      <th>ACTUALTIME_DEP</th>\n",
       "      <th>ACTUALTIME_ARR</th>\n",
       "    </tr>\n",
       "  </thead>\n",
       "  <tbody>\n",
       "    <tr>\n",
       "      <th>0</th>\n",
       "      <td>07-FEB-18 00:00:00</td>\n",
       "      <td>6253554</td>\n",
       "      <td>1</td>\n",
       "      <td>1</td>\n",
       "      <td>381</td>\n",
       "      <td>2</td>\n",
       "      <td>63629</td>\n",
       "      <td>63629</td>\n",
       "    </tr>\n",
       "    <tr>\n",
       "      <th>1</th>\n",
       "      <td>07-FEB-18 00:00:00</td>\n",
       "      <td>6253554</td>\n",
       "      <td>1</td>\n",
       "      <td>2</td>\n",
       "      <td>382</td>\n",
       "      <td>2</td>\n",
       "      <td>63690</td>\n",
       "      <td>63675</td>\n",
       "    </tr>\n",
       "    <tr>\n",
       "      <th>2</th>\n",
       "      <td>07-FEB-18 00:00:00</td>\n",
       "      <td>6253554</td>\n",
       "      <td>1</td>\n",
       "      <td>3</td>\n",
       "      <td>4451</td>\n",
       "      <td>2</td>\n",
       "      <td>63739</td>\n",
       "      <td>63715</td>\n",
       "    </tr>\n",
       "    <tr>\n",
       "      <th>3</th>\n",
       "      <td>07-FEB-18 00:00:00</td>\n",
       "      <td>6253554</td>\n",
       "      <td>1</td>\n",
       "      <td>4</td>\n",
       "      <td>383</td>\n",
       "      <td>2</td>\n",
       "      <td>63788</td>\n",
       "      <td>63774</td>\n",
       "    </tr>\n",
       "    <tr>\n",
       "      <th>4</th>\n",
       "      <td>07-FEB-18 00:00:00</td>\n",
       "      <td>6253554</td>\n",
       "      <td>1</td>\n",
       "      <td>5</td>\n",
       "      <td>384</td>\n",
       "      <td>2</td>\n",
       "      <td>63824</td>\n",
       "      <td>63824</td>\n",
       "    </tr>\n",
       "    <tr>\n",
       "      <th>5</th>\n",
       "      <td>07-FEB-18 00:00:00</td>\n",
       "      <td>6253554</td>\n",
       "      <td>1</td>\n",
       "      <td>6</td>\n",
       "      <td>385</td>\n",
       "      <td>2</td>\n",
       "      <td>63897</td>\n",
       "      <td>63869</td>\n",
       "    </tr>\n",
       "    <tr>\n",
       "      <th>6</th>\n",
       "      <td>07-FEB-18 00:00:00</td>\n",
       "      <td>6253554</td>\n",
       "      <td>1</td>\n",
       "      <td>8</td>\n",
       "      <td>388</td>\n",
       "      <td>2</td>\n",
       "      <td>64084</td>\n",
       "      <td>64084</td>\n",
       "    </tr>\n",
       "    <tr>\n",
       "      <th>7</th>\n",
       "      <td>07-FEB-18 00:00:00</td>\n",
       "      <td>6253554</td>\n",
       "      <td>1</td>\n",
       "      <td>9</td>\n",
       "      <td>389</td>\n",
       "      <td>2</td>\n",
       "      <td>64097</td>\n",
       "      <td>64097</td>\n",
       "    </tr>\n",
       "    <tr>\n",
       "      <th>8</th>\n",
       "      <td>07-FEB-18 00:00:00</td>\n",
       "      <td>6253554</td>\n",
       "      <td>1</td>\n",
       "      <td>10</td>\n",
       "      <td>393</td>\n",
       "      <td>2</td>\n",
       "      <td>64283</td>\n",
       "      <td>64283</td>\n",
       "    </tr>\n",
       "    <tr>\n",
       "      <th>9</th>\n",
       "      <td>07-FEB-18 00:00:00</td>\n",
       "      <td>6253554</td>\n",
       "      <td>1</td>\n",
       "      <td>11</td>\n",
       "      <td>371</td>\n",
       "      <td>2</td>\n",
       "      <td>64344</td>\n",
       "      <td>64314</td>\n",
       "    </tr>\n",
       "  </tbody>\n",
       "</table>\n",
       "</div>"
      ],
      "text/plain": [
       "         DAYOFSERVICE   TRIPID LINEID  PROGRNUMBER STOPPOINTID DIRECTION  \\\n",
       "0  07-FEB-18 00:00:00  6253554      1            1         381        2    \n",
       "1  07-FEB-18 00:00:00  6253554      1            2         382        2    \n",
       "2  07-FEB-18 00:00:00  6253554      1            3        4451        2    \n",
       "3  07-FEB-18 00:00:00  6253554      1            4         383        2    \n",
       "4  07-FEB-18 00:00:00  6253554      1            5         384        2    \n",
       "5  07-FEB-18 00:00:00  6253554      1            6         385        2    \n",
       "6  07-FEB-18 00:00:00  6253554      1            8         388        2    \n",
       "7  07-FEB-18 00:00:00  6253554      1            9         389        2    \n",
       "8  07-FEB-18 00:00:00  6253554      1           10         393        2    \n",
       "9  07-FEB-18 00:00:00  6253554      1           11         371        2    \n",
       "\n",
       "   ACTUALTIME_DEP  ACTUALTIME_ARR  \n",
       "0           63629           63629  \n",
       "1           63690           63675  \n",
       "2           63739           63715  \n",
       "3           63788           63774  \n",
       "4           63824           63824  \n",
       "5           63897           63869  \n",
       "6           64084           64084  \n",
       "7           64097           64097  \n",
       "8           64283           64283  \n",
       "9           64344           64314  "
      ]
     },
     "execution_count": 5,
     "metadata": {},
     "output_type": "execute_result"
    }
   ],
   "source": [
    "# Show first few rows\n",
    "routeData.head(10)"
   ]
  },
  {
   "cell_type": "code",
   "execution_count": 6,
   "metadata": {
    "scrolled": true
   },
   "outputs": [],
   "source": [
    "#start by fixing date datatype \n",
    "routeData['DAYOFSERVICE'] = pd.to_datetime(routeData.DAYOFSERVICE)"
   ]
  },
  {
   "cell_type": "code",
   "execution_count": 7,
   "metadata": {},
   "outputs": [
    {
     "data": {
      "text/html": [
       "<div>\n",
       "<style scoped>\n",
       "    .dataframe tbody tr th:only-of-type {\n",
       "        vertical-align: middle;\n",
       "    }\n",
       "\n",
       "    .dataframe tbody tr th {\n",
       "        vertical-align: top;\n",
       "    }\n",
       "\n",
       "    .dataframe thead th {\n",
       "        text-align: right;\n",
       "    }\n",
       "</style>\n",
       "<table border=\"1\" class=\"dataframe\">\n",
       "  <thead>\n",
       "    <tr style=\"text-align: right;\">\n",
       "      <th></th>\n",
       "      <th>DAYOFSERVICE</th>\n",
       "      <th>TRIPID</th>\n",
       "      <th>LINEID</th>\n",
       "      <th>PROGRNUMBER</th>\n",
       "      <th>STOPPOINTID</th>\n",
       "      <th>DIRECTION</th>\n",
       "      <th>ACTUALTIME_DEP</th>\n",
       "      <th>ACTUALTIME_ARR</th>\n",
       "    </tr>\n",
       "  </thead>\n",
       "  <tbody>\n",
       "    <tr>\n",
       "      <th>0</th>\n",
       "      <td>2018-02-07</td>\n",
       "      <td>6253554</td>\n",
       "      <td>1</td>\n",
       "      <td>1</td>\n",
       "      <td>381</td>\n",
       "      <td>2</td>\n",
       "      <td>63629</td>\n",
       "      <td>63629</td>\n",
       "    </tr>\n",
       "    <tr>\n",
       "      <th>1</th>\n",
       "      <td>2018-02-07</td>\n",
       "      <td>6253554</td>\n",
       "      <td>1</td>\n",
       "      <td>2</td>\n",
       "      <td>382</td>\n",
       "      <td>2</td>\n",
       "      <td>63690</td>\n",
       "      <td>63675</td>\n",
       "    </tr>\n",
       "    <tr>\n",
       "      <th>2</th>\n",
       "      <td>2018-02-07</td>\n",
       "      <td>6253554</td>\n",
       "      <td>1</td>\n",
       "      <td>3</td>\n",
       "      <td>4451</td>\n",
       "      <td>2</td>\n",
       "      <td>63739</td>\n",
       "      <td>63715</td>\n",
       "    </tr>\n",
       "    <tr>\n",
       "      <th>3</th>\n",
       "      <td>2018-02-07</td>\n",
       "      <td>6253554</td>\n",
       "      <td>1</td>\n",
       "      <td>4</td>\n",
       "      <td>383</td>\n",
       "      <td>2</td>\n",
       "      <td>63788</td>\n",
       "      <td>63774</td>\n",
       "    </tr>\n",
       "    <tr>\n",
       "      <th>4</th>\n",
       "      <td>2018-02-07</td>\n",
       "      <td>6253554</td>\n",
       "      <td>1</td>\n",
       "      <td>5</td>\n",
       "      <td>384</td>\n",
       "      <td>2</td>\n",
       "      <td>63824</td>\n",
       "      <td>63824</td>\n",
       "    </tr>\n",
       "    <tr>\n",
       "      <th>5</th>\n",
       "      <td>2018-02-07</td>\n",
       "      <td>6253554</td>\n",
       "      <td>1</td>\n",
       "      <td>6</td>\n",
       "      <td>385</td>\n",
       "      <td>2</td>\n",
       "      <td>63897</td>\n",
       "      <td>63869</td>\n",
       "    </tr>\n",
       "    <tr>\n",
       "      <th>6</th>\n",
       "      <td>2018-02-07</td>\n",
       "      <td>6253554</td>\n",
       "      <td>1</td>\n",
       "      <td>8</td>\n",
       "      <td>388</td>\n",
       "      <td>2</td>\n",
       "      <td>64084</td>\n",
       "      <td>64084</td>\n",
       "    </tr>\n",
       "    <tr>\n",
       "      <th>7</th>\n",
       "      <td>2018-02-07</td>\n",
       "      <td>6253554</td>\n",
       "      <td>1</td>\n",
       "      <td>9</td>\n",
       "      <td>389</td>\n",
       "      <td>2</td>\n",
       "      <td>64097</td>\n",
       "      <td>64097</td>\n",
       "    </tr>\n",
       "    <tr>\n",
       "      <th>8</th>\n",
       "      <td>2018-02-07</td>\n",
       "      <td>6253554</td>\n",
       "      <td>1</td>\n",
       "      <td>10</td>\n",
       "      <td>393</td>\n",
       "      <td>2</td>\n",
       "      <td>64283</td>\n",
       "      <td>64283</td>\n",
       "    </tr>\n",
       "    <tr>\n",
       "      <th>9</th>\n",
       "      <td>2018-02-07</td>\n",
       "      <td>6253554</td>\n",
       "      <td>1</td>\n",
       "      <td>11</td>\n",
       "      <td>371</td>\n",
       "      <td>2</td>\n",
       "      <td>64344</td>\n",
       "      <td>64314</td>\n",
       "    </tr>\n",
       "  </tbody>\n",
       "</table>\n",
       "</div>"
      ],
      "text/plain": [
       "  DAYOFSERVICE   TRIPID LINEID  PROGRNUMBER STOPPOINTID DIRECTION  \\\n",
       "0   2018-02-07  6253554      1            1         381        2    \n",
       "1   2018-02-07  6253554      1            2         382        2    \n",
       "2   2018-02-07  6253554      1            3        4451        2    \n",
       "3   2018-02-07  6253554      1            4         383        2    \n",
       "4   2018-02-07  6253554      1            5         384        2    \n",
       "5   2018-02-07  6253554      1            6         385        2    \n",
       "6   2018-02-07  6253554      1            8         388        2    \n",
       "7   2018-02-07  6253554      1            9         389        2    \n",
       "8   2018-02-07  6253554      1           10         393        2    \n",
       "9   2018-02-07  6253554      1           11         371        2    \n",
       "\n",
       "   ACTUALTIME_DEP  ACTUALTIME_ARR  \n",
       "0           63629           63629  \n",
       "1           63690           63675  \n",
       "2           63739           63715  \n",
       "3           63788           63774  \n",
       "4           63824           63824  \n",
       "5           63897           63869  \n",
       "6           64084           64084  \n",
       "7           64097           64097  \n",
       "8           64283           64283  \n",
       "9           64344           64314  "
      ]
     },
     "execution_count": 7,
     "metadata": {},
     "output_type": "execute_result"
    }
   ],
   "source": [
    "routeData.head(10)"
   ]
  },
  {
   "cell_type": "code",
   "execution_count": 8,
   "metadata": {},
   "outputs": [
    {
     "data": {
      "text/plain": [
       "Index(['DAYOFSERVICE', 'TRIPID', 'LINEID', 'PROGRNUMBER', 'STOPPOINTID',\n",
       "       'DIRECTION', 'ACTUALTIME_DEP', 'ACTUALTIME_ARR'],\n",
       "      dtype='object')"
      ]
     },
     "execution_count": 8,
     "metadata": {},
     "output_type": "execute_result"
    }
   ],
   "source": [
    "#Next see what columns are unnecessary and drop them \n",
    "routeData.columns"
   ]
  },
  {
   "cell_type": "code",
   "execution_count": 9,
   "metadata": {},
   "outputs": [],
   "source": [
    "#drop columns that won't be used\n",
    "routeData.drop(['LINEID'], axis = 1, inplace=True) \n",
    "routeData.drop(['TRIPID'], axis = 1, inplace=True) "
   ]
  },
  {
   "cell_type": "code",
   "execution_count": 10,
   "metadata": {
    "scrolled": false
   },
   "outputs": [
    {
     "data": {
      "text/plain": [
       "Index(['DAYOFSERVICE', 'PROGRNUMBER', 'STOPPOINTID', 'DIRECTION',\n",
       "       'ACTUALTIME_DEP', 'ACTUALTIME_ARR'],\n",
       "      dtype='object')"
      ]
     },
     "execution_count": 10,
     "metadata": {},
     "output_type": "execute_result"
    }
   ],
   "source": [
    "routeData.columns"
   ]
  },
  {
   "cell_type": "code",
   "execution_count": 11,
   "metadata": {},
   "outputs": [],
   "source": [
    "#create a new hour column by converting the actual deperature time to hour\n",
    "routeData['hour'] = pd.to_datetime(routeData['ACTUALTIME_DEP'], unit='s').dt.hour"
   ]
  },
  {
   "cell_type": "code",
   "execution_count": 12,
   "metadata": {},
   "outputs": [],
   "source": [
    "# Create new column dayofweek based on the DAYOFSERVICE\n",
    "# if it is a weekday, value=0; if it is a weekend, value=1\n",
    "conditions = [\n",
    "    (routeData['DAYOFSERVICE'].dt.dayofweek == 5),(routeData['DAYOFSERVICE'].dt.dayofweek == 6)\n",
    "    ]\n",
    "choices = [1,1]\n",
    "routeData['dayofweek'] = np.select(conditions, choices, default=0)"
   ]
  },
  {
   "cell_type": "code",
   "execution_count": 13,
   "metadata": {},
   "outputs": [
    {
     "data": {
      "text/html": [
       "<div>\n",
       "<style scoped>\n",
       "    .dataframe tbody tr th:only-of-type {\n",
       "        vertical-align: middle;\n",
       "    }\n",
       "\n",
       "    .dataframe tbody tr th {\n",
       "        vertical-align: top;\n",
       "    }\n",
       "\n",
       "    .dataframe thead th {\n",
       "        text-align: right;\n",
       "    }\n",
       "</style>\n",
       "<table border=\"1\" class=\"dataframe\">\n",
       "  <thead>\n",
       "    <tr style=\"text-align: right;\">\n",
       "      <th></th>\n",
       "      <th>DAYOFSERVICE</th>\n",
       "      <th>PROGRNUMBER</th>\n",
       "      <th>STOPPOINTID</th>\n",
       "      <th>DIRECTION</th>\n",
       "      <th>ACTUALTIME_DEP</th>\n",
       "      <th>ACTUALTIME_ARR</th>\n",
       "      <th>hour</th>\n",
       "      <th>dayofweek</th>\n",
       "    </tr>\n",
       "  </thead>\n",
       "  <tbody>\n",
       "    <tr>\n",
       "      <th>0</th>\n",
       "      <td>2018-02-07</td>\n",
       "      <td>1</td>\n",
       "      <td>381</td>\n",
       "      <td>2</td>\n",
       "      <td>63629</td>\n",
       "      <td>63629</td>\n",
       "      <td>17</td>\n",
       "      <td>0</td>\n",
       "    </tr>\n",
       "    <tr>\n",
       "      <th>1</th>\n",
       "      <td>2018-02-07</td>\n",
       "      <td>2</td>\n",
       "      <td>382</td>\n",
       "      <td>2</td>\n",
       "      <td>63690</td>\n",
       "      <td>63675</td>\n",
       "      <td>17</td>\n",
       "      <td>0</td>\n",
       "    </tr>\n",
       "    <tr>\n",
       "      <th>2</th>\n",
       "      <td>2018-02-07</td>\n",
       "      <td>3</td>\n",
       "      <td>4451</td>\n",
       "      <td>2</td>\n",
       "      <td>63739</td>\n",
       "      <td>63715</td>\n",
       "      <td>17</td>\n",
       "      <td>0</td>\n",
       "    </tr>\n",
       "    <tr>\n",
       "      <th>3</th>\n",
       "      <td>2018-02-07</td>\n",
       "      <td>4</td>\n",
       "      <td>383</td>\n",
       "      <td>2</td>\n",
       "      <td>63788</td>\n",
       "      <td>63774</td>\n",
       "      <td>17</td>\n",
       "      <td>0</td>\n",
       "    </tr>\n",
       "    <tr>\n",
       "      <th>4</th>\n",
       "      <td>2018-02-07</td>\n",
       "      <td>5</td>\n",
       "      <td>384</td>\n",
       "      <td>2</td>\n",
       "      <td>63824</td>\n",
       "      <td>63824</td>\n",
       "      <td>17</td>\n",
       "      <td>0</td>\n",
       "    </tr>\n",
       "  </tbody>\n",
       "</table>\n",
       "</div>"
      ],
      "text/plain": [
       "  DAYOFSERVICE  PROGRNUMBER STOPPOINTID DIRECTION  ACTUALTIME_DEP  \\\n",
       "0   2018-02-07            1         381        2            63629   \n",
       "1   2018-02-07            2         382        2            63690   \n",
       "2   2018-02-07            3        4451        2            63739   \n",
       "3   2018-02-07            4         383        2            63788   \n",
       "4   2018-02-07            5         384        2            63824   \n",
       "\n",
       "   ACTUALTIME_ARR  hour  dayofweek  \n",
       "0           63629    17          0  \n",
       "1           63675    17          0  \n",
       "2           63715    17          0  \n",
       "3           63774    17          0  \n",
       "4           63824    17          0  "
      ]
     },
     "execution_count": 13,
     "metadata": {},
     "output_type": "execute_result"
    }
   ],
   "source": [
    "routeData.head() "
   ]
  },
  {
   "cell_type": "code",
   "execution_count": 14,
   "metadata": {
    "scrolled": false
   },
   "outputs": [
    {
     "data": {
      "text/plain": [
       "DAYOFSERVICE      datetime64[ns]\n",
       "PROGRNUMBER                int64\n",
       "STOPPOINTID               object\n",
       "DIRECTION                 object\n",
       "ACTUALTIME_DEP             int64\n",
       "ACTUALTIME_ARR             int64\n",
       "hour                       int64\n",
       "dayofweek                  int64\n",
       "dtype: object"
      ]
     },
     "execution_count": 14,
     "metadata": {},
     "output_type": "execute_result"
    }
   ],
   "source": [
    "routeData.dtypes"
   ]
  },
  {
   "cell_type": "code",
   "execution_count": 15,
   "metadata": {},
   "outputs": [],
   "source": [
    "#fix orther dtypes\n",
    "routeData['DIRECTION'] = routeData['DIRECTION'].astype('int64')"
   ]
  },
  {
   "cell_type": "code",
   "execution_count": 16,
   "metadata": {},
   "outputs": [],
   "source": [
    "numeric_columns = routeData.select_dtypes(['int64']).columns\n",
    "columns = list(routeData)"
   ]
  },
  {
   "cell_type": "code",
   "execution_count": 17,
   "metadata": {},
   "outputs": [
    {
     "name": "stdout",
     "output_type": "stream",
     "text": [
      "Max  PROGRNUMBER : 43\n",
      "Min  PROGRNUMBER : 1\n",
      "Max  DIRECTION : 2\n",
      "Min  DIRECTION : 1\n",
      "Max  ACTUALTIME_DEP : 87714\n",
      "Min  ACTUALTIME_DEP : 22841\n",
      "Max  ACTUALTIME_ARR : 87714\n",
      "Min  ACTUALTIME_ARR : 22841\n",
      "Max  hour : 23\n",
      "Min  hour : 0\n",
      "Max  dayofweek : 1\n",
      "Min  dayofweek : 0\n"
     ]
    }
   ],
   "source": [
    "#have a look at max and min values to check if have any iregualr values\n",
    "for col in numeric_columns:\n",
    "    print(\"Max \", col, \":\", routeData[col].max())\n",
    "    print(\"Min \", col, \":\", routeData[col].min())"
   ]
  },
  {
   "cell_type": "code",
   "execution_count": null,
   "metadata": {},
   "outputs": [],
   "source": []
  },
  {
   "cell_type": "markdown",
   "metadata": {},
   "source": [
    "## Clean weather table"
   ]
  },
  {
   "cell_type": "code",
   "execution_count": 18,
   "metadata": {},
   "outputs": [],
   "source": [
    "#read data from weather.csv\n",
    "weatherData = pd.read_csv('weather-data-cleaned.csv', keep_default_na=True, delimiter=',')"
   ]
  },
  {
   "cell_type": "code",
   "execution_count": 19,
   "metadata": {
    "scrolled": true
   },
   "outputs": [
    {
     "data": {
      "text/html": [
       "<div>\n",
       "<style scoped>\n",
       "    .dataframe tbody tr th:only-of-type {\n",
       "        vertical-align: middle;\n",
       "    }\n",
       "\n",
       "    .dataframe tbody tr th {\n",
       "        vertical-align: top;\n",
       "    }\n",
       "\n",
       "    .dataframe thead th {\n",
       "        text-align: right;\n",
       "    }\n",
       "</style>\n",
       "<table border=\"1\" class=\"dataframe\">\n",
       "  <thead>\n",
       "    <tr style=\"text-align: right;\">\n",
       "      <th></th>\n",
       "      <th>Unnamed: 0</th>\n",
       "      <th>datetime</th>\n",
       "      <th>rain</th>\n",
       "      <th>temp</th>\n",
       "      <th>pressure</th>\n",
       "      <th>humidity</th>\n",
       "      <th>wind_speed</th>\n",
       "      <th>wind_dir</th>\n",
       "      <th>sun</th>\n",
       "      <th>visibility</th>\n",
       "      <th>cloud_height</th>\n",
       "      <th>cloud_cover</th>\n",
       "    </tr>\n",
       "  </thead>\n",
       "  <tbody>\n",
       "    <tr>\n",
       "      <th>0</th>\n",
       "      <td>245448</td>\n",
       "      <td>2018-01-01 00:00:00</td>\n",
       "      <td>0.0</td>\n",
       "      <td>4.5</td>\n",
       "      <td>6.8</td>\n",
       "      <td>6</td>\n",
       "      <td>23</td>\n",
       "      <td>240</td>\n",
       "      <td>0.0</td>\n",
       "      <td>16000</td>\n",
       "      <td>168</td>\n",
       "      <td>7</td>\n",
       "    </tr>\n",
       "    <tr>\n",
       "      <th>1</th>\n",
       "      <td>245449</td>\n",
       "      <td>2018-01-01 01:00:00</td>\n",
       "      <td>0.0</td>\n",
       "      <td>4.4</td>\n",
       "      <td>7.0</td>\n",
       "      <td>7</td>\n",
       "      <td>25</td>\n",
       "      <td>240</td>\n",
       "      <td>0.0</td>\n",
       "      <td>20000</td>\n",
       "      <td>250</td>\n",
       "      <td>5</td>\n",
       "    </tr>\n",
       "    <tr>\n",
       "      <th>2</th>\n",
       "      <td>245450</td>\n",
       "      <td>2018-01-01 02:00:00</td>\n",
       "      <td>0.0</td>\n",
       "      <td>4.6</td>\n",
       "      <td>7.0</td>\n",
       "      <td>7</td>\n",
       "      <td>23</td>\n",
       "      <td>240</td>\n",
       "      <td>0.0</td>\n",
       "      <td>20000</td>\n",
       "      <td>999</td>\n",
       "      <td>3</td>\n",
       "    </tr>\n",
       "    <tr>\n",
       "      <th>3</th>\n",
       "      <td>245451</td>\n",
       "      <td>2018-01-01 03:00:00</td>\n",
       "      <td>0.0</td>\n",
       "      <td>4.6</td>\n",
       "      <td>7.1</td>\n",
       "      <td>7</td>\n",
       "      <td>24</td>\n",
       "      <td>240</td>\n",
       "      <td>0.0</td>\n",
       "      <td>30000</td>\n",
       "      <td>999</td>\n",
       "      <td>4</td>\n",
       "    </tr>\n",
       "    <tr>\n",
       "      <th>4</th>\n",
       "      <td>245452</td>\n",
       "      <td>2018-01-01 04:00:00</td>\n",
       "      <td>0.0</td>\n",
       "      <td>5.1</td>\n",
       "      <td>7.2</td>\n",
       "      <td>7</td>\n",
       "      <td>21</td>\n",
       "      <td>240</td>\n",
       "      <td>0.0</td>\n",
       "      <td>25000</td>\n",
       "      <td>999</td>\n",
       "      <td>4</td>\n",
       "    </tr>\n",
       "    <tr>\n",
       "      <th>5</th>\n",
       "      <td>245453</td>\n",
       "      <td>2018-01-01 05:00:00</td>\n",
       "      <td>0.0</td>\n",
       "      <td>5.0</td>\n",
       "      <td>6.9</td>\n",
       "      <td>6</td>\n",
       "      <td>21</td>\n",
       "      <td>240</td>\n",
       "      <td>0.0</td>\n",
       "      <td>25000</td>\n",
       "      <td>230</td>\n",
       "      <td>6</td>\n",
       "    </tr>\n",
       "    <tr>\n",
       "      <th>6</th>\n",
       "      <td>245454</td>\n",
       "      <td>2018-01-01 06:00:00</td>\n",
       "      <td>0.0</td>\n",
       "      <td>4.8</td>\n",
       "      <td>7.1</td>\n",
       "      <td>7</td>\n",
       "      <td>15</td>\n",
       "      <td>230</td>\n",
       "      <td>0.0</td>\n",
       "      <td>30000</td>\n",
       "      <td>180</td>\n",
       "      <td>7</td>\n",
       "    </tr>\n",
       "    <tr>\n",
       "      <th>7</th>\n",
       "      <td>245455</td>\n",
       "      <td>2018-01-01 07:00:00</td>\n",
       "      <td>0.0</td>\n",
       "      <td>4.3</td>\n",
       "      <td>7.1</td>\n",
       "      <td>7</td>\n",
       "      <td>12</td>\n",
       "      <td>230</td>\n",
       "      <td>0.0</td>\n",
       "      <td>30000</td>\n",
       "      <td>160</td>\n",
       "      <td>7</td>\n",
       "    </tr>\n",
       "    <tr>\n",
       "      <th>8</th>\n",
       "      <td>245456</td>\n",
       "      <td>2018-01-01 08:00:00</td>\n",
       "      <td>0.0</td>\n",
       "      <td>4.0</td>\n",
       "      <td>7.0</td>\n",
       "      <td>7</td>\n",
       "      <td>12</td>\n",
       "      <td>230</td>\n",
       "      <td>0.0</td>\n",
       "      <td>30000</td>\n",
       "      <td>170</td>\n",
       "      <td>7</td>\n",
       "    </tr>\n",
       "    <tr>\n",
       "      <th>9</th>\n",
       "      <td>245457</td>\n",
       "      <td>2018-01-01 09:00:00</td>\n",
       "      <td>0.0</td>\n",
       "      <td>4.6</td>\n",
       "      <td>7.1</td>\n",
       "      <td>7</td>\n",
       "      <td>14</td>\n",
       "      <td>240</td>\n",
       "      <td>0.2</td>\n",
       "      <td>30000</td>\n",
       "      <td>999</td>\n",
       "      <td>3</td>\n",
       "    </tr>\n",
       "  </tbody>\n",
       "</table>\n",
       "</div>"
      ],
      "text/plain": [
       "   Unnamed: 0             datetime  rain  temp  pressure  humidity  \\\n",
       "0      245448  2018-01-01 00:00:00   0.0   4.5       6.8         6   \n",
       "1      245449  2018-01-01 01:00:00   0.0   4.4       7.0         7   \n",
       "2      245450  2018-01-01 02:00:00   0.0   4.6       7.0         7   \n",
       "3      245451  2018-01-01 03:00:00   0.0   4.6       7.1         7   \n",
       "4      245452  2018-01-01 04:00:00   0.0   5.1       7.2         7   \n",
       "5      245453  2018-01-01 05:00:00   0.0   5.0       6.9         6   \n",
       "6      245454  2018-01-01 06:00:00   0.0   4.8       7.1         7   \n",
       "7      245455  2018-01-01 07:00:00   0.0   4.3       7.1         7   \n",
       "8      245456  2018-01-01 08:00:00   0.0   4.0       7.0         7   \n",
       "9      245457  2018-01-01 09:00:00   0.0   4.6       7.1         7   \n",
       "\n",
       "   wind_speed  wind_dir  sun  visibility  cloud_height  cloud_cover  \n",
       "0          23       240  0.0       16000           168            7  \n",
       "1          25       240  0.0       20000           250            5  \n",
       "2          23       240  0.0       20000           999            3  \n",
       "3          24       240  0.0       30000           999            4  \n",
       "4          21       240  0.0       25000           999            4  \n",
       "5          21       240  0.0       25000           230            6  \n",
       "6          15       230  0.0       30000           180            7  \n",
       "7          12       230  0.0       30000           160            7  \n",
       "8          12       230  0.0       30000           170            7  \n",
       "9          14       240  0.2       30000           999            3  "
      ]
     },
     "execution_count": 19,
     "metadata": {},
     "output_type": "execute_result"
    }
   ],
   "source": [
    "# Show first few rows\n",
    "weatherData.head(10)"
   ]
  },
  {
   "cell_type": "code",
   "execution_count": 20,
   "metadata": {},
   "outputs": [],
   "source": [
    "#drop no use column Unnamed: 0\n",
    "weatherData.drop(['Unnamed: 0'], axis = 1, inplace=True) "
   ]
  },
  {
   "cell_type": "markdown",
   "metadata": {},
   "source": [
    "The data is already cleaned we just need to seperate and rename datetime for future joining "
   ]
  },
  {
   "cell_type": "code",
   "execution_count": 21,
   "metadata": {
    "scrolled": false
   },
   "outputs": [
    {
     "data": {
      "text/html": [
       "<div>\n",
       "<style scoped>\n",
       "    .dataframe tbody tr th:only-of-type {\n",
       "        vertical-align: middle;\n",
       "    }\n",
       "\n",
       "    .dataframe tbody tr th {\n",
       "        vertical-align: top;\n",
       "    }\n",
       "\n",
       "    .dataframe thead th {\n",
       "        text-align: right;\n",
       "    }\n",
       "</style>\n",
       "<table border=\"1\" class=\"dataframe\">\n",
       "  <thead>\n",
       "    <tr style=\"text-align: right;\">\n",
       "      <th></th>\n",
       "      <th>datetime</th>\n",
       "      <th>rain</th>\n",
       "      <th>temp</th>\n",
       "      <th>pressure</th>\n",
       "      <th>humidity</th>\n",
       "      <th>wind_speed</th>\n",
       "      <th>wind_dir</th>\n",
       "      <th>sun</th>\n",
       "      <th>visibility</th>\n",
       "      <th>cloud_height</th>\n",
       "      <th>cloud_cover</th>\n",
       "      <th>hour</th>\n",
       "    </tr>\n",
       "  </thead>\n",
       "  <tbody>\n",
       "    <tr>\n",
       "      <th>0</th>\n",
       "      <td>2018-01-01 00:00:00</td>\n",
       "      <td>0.0</td>\n",
       "      <td>4.5</td>\n",
       "      <td>6.8</td>\n",
       "      <td>6</td>\n",
       "      <td>23</td>\n",
       "      <td>240</td>\n",
       "      <td>0.0</td>\n",
       "      <td>16000</td>\n",
       "      <td>168</td>\n",
       "      <td>7</td>\n",
       "      <td>0</td>\n",
       "    </tr>\n",
       "    <tr>\n",
       "      <th>1</th>\n",
       "      <td>2018-01-01 01:00:00</td>\n",
       "      <td>0.0</td>\n",
       "      <td>4.4</td>\n",
       "      <td>7.0</td>\n",
       "      <td>7</td>\n",
       "      <td>25</td>\n",
       "      <td>240</td>\n",
       "      <td>0.0</td>\n",
       "      <td>20000</td>\n",
       "      <td>250</td>\n",
       "      <td>5</td>\n",
       "      <td>1</td>\n",
       "    </tr>\n",
       "    <tr>\n",
       "      <th>2</th>\n",
       "      <td>2018-01-01 02:00:00</td>\n",
       "      <td>0.0</td>\n",
       "      <td>4.6</td>\n",
       "      <td>7.0</td>\n",
       "      <td>7</td>\n",
       "      <td>23</td>\n",
       "      <td>240</td>\n",
       "      <td>0.0</td>\n",
       "      <td>20000</td>\n",
       "      <td>999</td>\n",
       "      <td>3</td>\n",
       "      <td>2</td>\n",
       "    </tr>\n",
       "    <tr>\n",
       "      <th>3</th>\n",
       "      <td>2018-01-01 03:00:00</td>\n",
       "      <td>0.0</td>\n",
       "      <td>4.6</td>\n",
       "      <td>7.1</td>\n",
       "      <td>7</td>\n",
       "      <td>24</td>\n",
       "      <td>240</td>\n",
       "      <td>0.0</td>\n",
       "      <td>30000</td>\n",
       "      <td>999</td>\n",
       "      <td>4</td>\n",
       "      <td>3</td>\n",
       "    </tr>\n",
       "    <tr>\n",
       "      <th>4</th>\n",
       "      <td>2018-01-01 04:00:00</td>\n",
       "      <td>0.0</td>\n",
       "      <td>5.1</td>\n",
       "      <td>7.2</td>\n",
       "      <td>7</td>\n",
       "      <td>21</td>\n",
       "      <td>240</td>\n",
       "      <td>0.0</td>\n",
       "      <td>25000</td>\n",
       "      <td>999</td>\n",
       "      <td>4</td>\n",
       "      <td>4</td>\n",
       "    </tr>\n",
       "  </tbody>\n",
       "</table>\n",
       "</div>"
      ],
      "text/plain": [
       "              datetime  rain  temp  pressure  humidity  wind_speed  wind_dir  \\\n",
       "0  2018-01-01 00:00:00   0.0   4.5       6.8         6          23       240   \n",
       "1  2018-01-01 01:00:00   0.0   4.4       7.0         7          25       240   \n",
       "2  2018-01-01 02:00:00   0.0   4.6       7.0         7          23       240   \n",
       "3  2018-01-01 03:00:00   0.0   4.6       7.1         7          24       240   \n",
       "4  2018-01-01 04:00:00   0.0   5.1       7.2         7          21       240   \n",
       "\n",
       "   sun  visibility  cloud_height  cloud_cover  hour  \n",
       "0  0.0       16000           168            7     0  \n",
       "1  0.0       20000           250            5     1  \n",
       "2  0.0       20000           999            3     2  \n",
       "3  0.0       30000           999            4     3  \n",
       "4  0.0       25000           999            4     4  "
      ]
     },
     "execution_count": 21,
     "metadata": {},
     "output_type": "execute_result"
    }
   ],
   "source": [
    "#pandas datetimeindex docs: https://pandas.pydata.org/pandas-docs/stable/generated/pandas.DatetimeIndex.html\n",
    "#efficient way to extract hour from datetime\n",
    "weatherData['hour'] = pd.DatetimeIndex(weatherData['datetime']).hour\n",
    "weatherData.head()"
   ]
  },
  {
   "cell_type": "code",
   "execution_count": 22,
   "metadata": {},
   "outputs": [],
   "source": [
    "#only keep date\n",
    "weatherData['datetime'] = pd.to_datetime(weatherData['datetime']).dt.date"
   ]
  },
  {
   "cell_type": "code",
   "execution_count": 23,
   "metadata": {},
   "outputs": [],
   "source": [
    "#rename the datetime column after extracting date to make it more convenient for future joining\n",
    "weatherData.rename(columns = {'datetime':'DAYOFSERVICE'}, inplace = True)"
   ]
  },
  {
   "cell_type": "code",
   "execution_count": 24,
   "metadata": {
    "scrolled": true
   },
   "outputs": [
    {
     "data": {
      "text/html": [
       "<div>\n",
       "<style scoped>\n",
       "    .dataframe tbody tr th:only-of-type {\n",
       "        vertical-align: middle;\n",
       "    }\n",
       "\n",
       "    .dataframe tbody tr th {\n",
       "        vertical-align: top;\n",
       "    }\n",
       "\n",
       "    .dataframe thead th {\n",
       "        text-align: right;\n",
       "    }\n",
       "</style>\n",
       "<table border=\"1\" class=\"dataframe\">\n",
       "  <thead>\n",
       "    <tr style=\"text-align: right;\">\n",
       "      <th></th>\n",
       "      <th>DAYOFSERVICE</th>\n",
       "      <th>rain</th>\n",
       "      <th>temp</th>\n",
       "      <th>pressure</th>\n",
       "      <th>humidity</th>\n",
       "      <th>wind_speed</th>\n",
       "      <th>wind_dir</th>\n",
       "      <th>sun</th>\n",
       "      <th>visibility</th>\n",
       "      <th>cloud_height</th>\n",
       "      <th>cloud_cover</th>\n",
       "      <th>hour</th>\n",
       "    </tr>\n",
       "  </thead>\n",
       "  <tbody>\n",
       "    <tr>\n",
       "      <th>0</th>\n",
       "      <td>2018-01-01</td>\n",
       "      <td>0.0</td>\n",
       "      <td>4.5</td>\n",
       "      <td>6.8</td>\n",
       "      <td>6</td>\n",
       "      <td>23</td>\n",
       "      <td>240</td>\n",
       "      <td>0.0</td>\n",
       "      <td>16000</td>\n",
       "      <td>168</td>\n",
       "      <td>7</td>\n",
       "      <td>0</td>\n",
       "    </tr>\n",
       "    <tr>\n",
       "      <th>1</th>\n",
       "      <td>2018-01-01</td>\n",
       "      <td>0.0</td>\n",
       "      <td>4.4</td>\n",
       "      <td>7.0</td>\n",
       "      <td>7</td>\n",
       "      <td>25</td>\n",
       "      <td>240</td>\n",
       "      <td>0.0</td>\n",
       "      <td>20000</td>\n",
       "      <td>250</td>\n",
       "      <td>5</td>\n",
       "      <td>1</td>\n",
       "    </tr>\n",
       "    <tr>\n",
       "      <th>2</th>\n",
       "      <td>2018-01-01</td>\n",
       "      <td>0.0</td>\n",
       "      <td>4.6</td>\n",
       "      <td>7.0</td>\n",
       "      <td>7</td>\n",
       "      <td>23</td>\n",
       "      <td>240</td>\n",
       "      <td>0.0</td>\n",
       "      <td>20000</td>\n",
       "      <td>999</td>\n",
       "      <td>3</td>\n",
       "      <td>2</td>\n",
       "    </tr>\n",
       "    <tr>\n",
       "      <th>3</th>\n",
       "      <td>2018-01-01</td>\n",
       "      <td>0.0</td>\n",
       "      <td>4.6</td>\n",
       "      <td>7.1</td>\n",
       "      <td>7</td>\n",
       "      <td>24</td>\n",
       "      <td>240</td>\n",
       "      <td>0.0</td>\n",
       "      <td>30000</td>\n",
       "      <td>999</td>\n",
       "      <td>4</td>\n",
       "      <td>3</td>\n",
       "    </tr>\n",
       "    <tr>\n",
       "      <th>4</th>\n",
       "      <td>2018-01-01</td>\n",
       "      <td>0.0</td>\n",
       "      <td>5.1</td>\n",
       "      <td>7.2</td>\n",
       "      <td>7</td>\n",
       "      <td>21</td>\n",
       "      <td>240</td>\n",
       "      <td>0.0</td>\n",
       "      <td>25000</td>\n",
       "      <td>999</td>\n",
       "      <td>4</td>\n",
       "      <td>4</td>\n",
       "    </tr>\n",
       "  </tbody>\n",
       "</table>\n",
       "</div>"
      ],
      "text/plain": [
       "  DAYOFSERVICE  rain  temp  pressure  humidity  wind_speed  wind_dir  sun  \\\n",
       "0   2018-01-01   0.0   4.5       6.8         6          23       240  0.0   \n",
       "1   2018-01-01   0.0   4.4       7.0         7          25       240  0.0   \n",
       "2   2018-01-01   0.0   4.6       7.0         7          23       240  0.0   \n",
       "3   2018-01-01   0.0   4.6       7.1         7          24       240  0.0   \n",
       "4   2018-01-01   0.0   5.1       7.2         7          21       240  0.0   \n",
       "\n",
       "   visibility  cloud_height  cloud_cover  hour  \n",
       "0       16000           168            7     0  \n",
       "1       20000           250            5     1  \n",
       "2       20000           999            3     2  \n",
       "3       30000           999            4     3  \n",
       "4       25000           999            4     4  "
      ]
     },
     "execution_count": 24,
     "metadata": {},
     "output_type": "execute_result"
    }
   ],
   "source": [
    "weatherData.head()"
   ]
  },
  {
   "cell_type": "code",
   "execution_count": 25,
   "metadata": {
    "scrolled": true
   },
   "outputs": [
    {
     "data": {
      "text/plain": [
       "DAYOFSERVICE     object\n",
       "rain            float64\n",
       "temp            float64\n",
       "pressure        float64\n",
       "humidity          int64\n",
       "wind_speed        int64\n",
       "wind_dir          int64\n",
       "sun             float64\n",
       "visibility        int64\n",
       "cloud_height      int64\n",
       "cloud_cover       int64\n",
       "hour              int64\n",
       "dtype: object"
      ]
     },
     "execution_count": 25,
     "metadata": {},
     "output_type": "execute_result"
    }
   ],
   "source": [
    "weatherData.dtypes"
   ]
  },
  {
   "cell_type": "code",
   "execution_count": 26,
   "metadata": {},
   "outputs": [],
   "source": [
    "#convert 'DAYOFSERVICE' to datetime data type\n",
    "weatherData['DAYOFSERVICE'] = pd.to_datetime(weatherData.DAYOFSERVICE)"
   ]
  },
  {
   "cell_type": "code",
   "execution_count": 27,
   "metadata": {},
   "outputs": [
    {
     "data": {
      "text/plain": [
       "DAYOFSERVICE    datetime64[ns]\n",
       "rain                   float64\n",
       "temp                   float64\n",
       "pressure               float64\n",
       "humidity                 int64\n",
       "wind_speed               int64\n",
       "wind_dir                 int64\n",
       "sun                    float64\n",
       "visibility               int64\n",
       "cloud_height             int64\n",
       "cloud_cover              int64\n",
       "hour                     int64\n",
       "dtype: object"
      ]
     },
     "execution_count": 27,
     "metadata": {},
     "output_type": "execute_result"
    }
   ],
   "source": [
    "weatherData.dtypes"
   ]
  },
  {
   "cell_type": "code",
   "execution_count": null,
   "metadata": {},
   "outputs": [],
   "source": []
  },
  {
   "cell_type": "markdown",
   "metadata": {},
   "source": [
    "## Combine route data and weather data"
   ]
  },
  {
   "cell_type": "code",
   "execution_count": 28,
   "metadata": {},
   "outputs": [],
   "source": [
    "df=pd.merge(routeData, weatherData, how='inner', left_on=['DAYOFSERVICE', 'hour'], right_on=['DAYOFSERVICE','hour'])"
   ]
  },
  {
   "cell_type": "code",
   "execution_count": 29,
   "metadata": {
    "scrolled": true
   },
   "outputs": [
    {
     "data": {
      "text/html": [
       "<div>\n",
       "<style scoped>\n",
       "    .dataframe tbody tr th:only-of-type {\n",
       "        vertical-align: middle;\n",
       "    }\n",
       "\n",
       "    .dataframe tbody tr th {\n",
       "        vertical-align: top;\n",
       "    }\n",
       "\n",
       "    .dataframe thead th {\n",
       "        text-align: right;\n",
       "    }\n",
       "</style>\n",
       "<table border=\"1\" class=\"dataframe\">\n",
       "  <thead>\n",
       "    <tr style=\"text-align: right;\">\n",
       "      <th></th>\n",
       "      <th>DAYOFSERVICE</th>\n",
       "      <th>PROGRNUMBER</th>\n",
       "      <th>STOPPOINTID</th>\n",
       "      <th>DIRECTION</th>\n",
       "      <th>ACTUALTIME_DEP</th>\n",
       "      <th>ACTUALTIME_ARR</th>\n",
       "      <th>hour</th>\n",
       "      <th>dayofweek</th>\n",
       "      <th>rain</th>\n",
       "      <th>temp</th>\n",
       "      <th>pressure</th>\n",
       "      <th>humidity</th>\n",
       "      <th>wind_speed</th>\n",
       "      <th>wind_dir</th>\n",
       "      <th>sun</th>\n",
       "      <th>visibility</th>\n",
       "      <th>cloud_height</th>\n",
       "      <th>cloud_cover</th>\n",
       "    </tr>\n",
       "  </thead>\n",
       "  <tbody>\n",
       "    <tr>\n",
       "      <th>0</th>\n",
       "      <td>2018-02-07</td>\n",
       "      <td>1</td>\n",
       "      <td>381</td>\n",
       "      <td>2</td>\n",
       "      <td>63629</td>\n",
       "      <td>63629</td>\n",
       "      <td>17</td>\n",
       "      <td>0</td>\n",
       "      <td>0.2</td>\n",
       "      <td>2.9</td>\n",
       "      <td>6.7</td>\n",
       "      <td>6</td>\n",
       "      <td>9</td>\n",
       "      <td>210</td>\n",
       "      <td>0.0</td>\n",
       "      <td>25000</td>\n",
       "      <td>40</td>\n",
       "      <td>7</td>\n",
       "    </tr>\n",
       "    <tr>\n",
       "      <th>1</th>\n",
       "      <td>2018-02-07</td>\n",
       "      <td>2</td>\n",
       "      <td>382</td>\n",
       "      <td>2</td>\n",
       "      <td>63690</td>\n",
       "      <td>63675</td>\n",
       "      <td>17</td>\n",
       "      <td>0</td>\n",
       "      <td>0.2</td>\n",
       "      <td>2.9</td>\n",
       "      <td>6.7</td>\n",
       "      <td>6</td>\n",
       "      <td>9</td>\n",
       "      <td>210</td>\n",
       "      <td>0.0</td>\n",
       "      <td>25000</td>\n",
       "      <td>40</td>\n",
       "      <td>7</td>\n",
       "    </tr>\n",
       "    <tr>\n",
       "      <th>2</th>\n",
       "      <td>2018-02-07</td>\n",
       "      <td>3</td>\n",
       "      <td>4451</td>\n",
       "      <td>2</td>\n",
       "      <td>63739</td>\n",
       "      <td>63715</td>\n",
       "      <td>17</td>\n",
       "      <td>0</td>\n",
       "      <td>0.2</td>\n",
       "      <td>2.9</td>\n",
       "      <td>6.7</td>\n",
       "      <td>6</td>\n",
       "      <td>9</td>\n",
       "      <td>210</td>\n",
       "      <td>0.0</td>\n",
       "      <td>25000</td>\n",
       "      <td>40</td>\n",
       "      <td>7</td>\n",
       "    </tr>\n",
       "    <tr>\n",
       "      <th>3</th>\n",
       "      <td>2018-02-07</td>\n",
       "      <td>4</td>\n",
       "      <td>383</td>\n",
       "      <td>2</td>\n",
       "      <td>63788</td>\n",
       "      <td>63774</td>\n",
       "      <td>17</td>\n",
       "      <td>0</td>\n",
       "      <td>0.2</td>\n",
       "      <td>2.9</td>\n",
       "      <td>6.7</td>\n",
       "      <td>6</td>\n",
       "      <td>9</td>\n",
       "      <td>210</td>\n",
       "      <td>0.0</td>\n",
       "      <td>25000</td>\n",
       "      <td>40</td>\n",
       "      <td>7</td>\n",
       "    </tr>\n",
       "    <tr>\n",
       "      <th>4</th>\n",
       "      <td>2018-02-07</td>\n",
       "      <td>5</td>\n",
       "      <td>384</td>\n",
       "      <td>2</td>\n",
       "      <td>63824</td>\n",
       "      <td>63824</td>\n",
       "      <td>17</td>\n",
       "      <td>0</td>\n",
       "      <td>0.2</td>\n",
       "      <td>2.9</td>\n",
       "      <td>6.7</td>\n",
       "      <td>6</td>\n",
       "      <td>9</td>\n",
       "      <td>210</td>\n",
       "      <td>0.0</td>\n",
       "      <td>25000</td>\n",
       "      <td>40</td>\n",
       "      <td>7</td>\n",
       "    </tr>\n",
       "    <tr>\n",
       "      <th>5</th>\n",
       "      <td>2018-02-07</td>\n",
       "      <td>6</td>\n",
       "      <td>385</td>\n",
       "      <td>2</td>\n",
       "      <td>63897</td>\n",
       "      <td>63869</td>\n",
       "      <td>17</td>\n",
       "      <td>0</td>\n",
       "      <td>0.2</td>\n",
       "      <td>2.9</td>\n",
       "      <td>6.7</td>\n",
       "      <td>6</td>\n",
       "      <td>9</td>\n",
       "      <td>210</td>\n",
       "      <td>0.0</td>\n",
       "      <td>25000</td>\n",
       "      <td>40</td>\n",
       "      <td>7</td>\n",
       "    </tr>\n",
       "    <tr>\n",
       "      <th>6</th>\n",
       "      <td>2018-02-07</td>\n",
       "      <td>8</td>\n",
       "      <td>388</td>\n",
       "      <td>2</td>\n",
       "      <td>64084</td>\n",
       "      <td>64084</td>\n",
       "      <td>17</td>\n",
       "      <td>0</td>\n",
       "      <td>0.2</td>\n",
       "      <td>2.9</td>\n",
       "      <td>6.7</td>\n",
       "      <td>6</td>\n",
       "      <td>9</td>\n",
       "      <td>210</td>\n",
       "      <td>0.0</td>\n",
       "      <td>25000</td>\n",
       "      <td>40</td>\n",
       "      <td>7</td>\n",
       "    </tr>\n",
       "    <tr>\n",
       "      <th>7</th>\n",
       "      <td>2018-02-07</td>\n",
       "      <td>9</td>\n",
       "      <td>389</td>\n",
       "      <td>2</td>\n",
       "      <td>64097</td>\n",
       "      <td>64097</td>\n",
       "      <td>17</td>\n",
       "      <td>0</td>\n",
       "      <td>0.2</td>\n",
       "      <td>2.9</td>\n",
       "      <td>6.7</td>\n",
       "      <td>6</td>\n",
       "      <td>9</td>\n",
       "      <td>210</td>\n",
       "      <td>0.0</td>\n",
       "      <td>25000</td>\n",
       "      <td>40</td>\n",
       "      <td>7</td>\n",
       "    </tr>\n",
       "    <tr>\n",
       "      <th>8</th>\n",
       "      <td>2018-02-07</td>\n",
       "      <td>10</td>\n",
       "      <td>393</td>\n",
       "      <td>2</td>\n",
       "      <td>64283</td>\n",
       "      <td>64283</td>\n",
       "      <td>17</td>\n",
       "      <td>0</td>\n",
       "      <td>0.2</td>\n",
       "      <td>2.9</td>\n",
       "      <td>6.7</td>\n",
       "      <td>6</td>\n",
       "      <td>9</td>\n",
       "      <td>210</td>\n",
       "      <td>0.0</td>\n",
       "      <td>25000</td>\n",
       "      <td>40</td>\n",
       "      <td>7</td>\n",
       "    </tr>\n",
       "    <tr>\n",
       "      <th>9</th>\n",
       "      <td>2018-02-07</td>\n",
       "      <td>11</td>\n",
       "      <td>371</td>\n",
       "      <td>2</td>\n",
       "      <td>64344</td>\n",
       "      <td>64314</td>\n",
       "      <td>17</td>\n",
       "      <td>0</td>\n",
       "      <td>0.2</td>\n",
       "      <td>2.9</td>\n",
       "      <td>6.7</td>\n",
       "      <td>6</td>\n",
       "      <td>9</td>\n",
       "      <td>210</td>\n",
       "      <td>0.0</td>\n",
       "      <td>25000</td>\n",
       "      <td>40</td>\n",
       "      <td>7</td>\n",
       "    </tr>\n",
       "  </tbody>\n",
       "</table>\n",
       "</div>"
      ],
      "text/plain": [
       "  DAYOFSERVICE  PROGRNUMBER STOPPOINTID  DIRECTION  ACTUALTIME_DEP  \\\n",
       "0   2018-02-07            1         381          2           63629   \n",
       "1   2018-02-07            2         382          2           63690   \n",
       "2   2018-02-07            3        4451          2           63739   \n",
       "3   2018-02-07            4         383          2           63788   \n",
       "4   2018-02-07            5         384          2           63824   \n",
       "5   2018-02-07            6         385          2           63897   \n",
       "6   2018-02-07            8         388          2           64084   \n",
       "7   2018-02-07            9         389          2           64097   \n",
       "8   2018-02-07           10         393          2           64283   \n",
       "9   2018-02-07           11         371          2           64344   \n",
       "\n",
       "   ACTUALTIME_ARR  hour  dayofweek  rain  temp  pressure  humidity  \\\n",
       "0           63629    17          0   0.2   2.9       6.7         6   \n",
       "1           63675    17          0   0.2   2.9       6.7         6   \n",
       "2           63715    17          0   0.2   2.9       6.7         6   \n",
       "3           63774    17          0   0.2   2.9       6.7         6   \n",
       "4           63824    17          0   0.2   2.9       6.7         6   \n",
       "5           63869    17          0   0.2   2.9       6.7         6   \n",
       "6           64084    17          0   0.2   2.9       6.7         6   \n",
       "7           64097    17          0   0.2   2.9       6.7         6   \n",
       "8           64283    17          0   0.2   2.9       6.7         6   \n",
       "9           64314    17          0   0.2   2.9       6.7         6   \n",
       "\n",
       "   wind_speed  wind_dir  sun  visibility  cloud_height  cloud_cover  \n",
       "0           9       210  0.0       25000            40            7  \n",
       "1           9       210  0.0       25000            40            7  \n",
       "2           9       210  0.0       25000            40            7  \n",
       "3           9       210  0.0       25000            40            7  \n",
       "4           9       210  0.0       25000            40            7  \n",
       "5           9       210  0.0       25000            40            7  \n",
       "6           9       210  0.0       25000            40            7  \n",
       "7           9       210  0.0       25000            40            7  \n",
       "8           9       210  0.0       25000            40            7  \n",
       "9           9       210  0.0       25000            40            7  "
      ]
     },
     "execution_count": 29,
     "metadata": {},
     "output_type": "execute_result"
    }
   ],
   "source": [
    "# Show first few rows\n",
    "df.head(10)"
   ]
  },
  {
   "cell_type": "code",
   "execution_count": 30,
   "metadata": {
    "scrolled": false
   },
   "outputs": [
    {
     "data": {
      "text/plain": [
       "DAYOFSERVICE      datetime64[ns]\n",
       "PROGRNUMBER                int64\n",
       "STOPPOINTID               object\n",
       "DIRECTION                  int64\n",
       "ACTUALTIME_DEP             int64\n",
       "ACTUALTIME_ARR             int64\n",
       "hour                       int64\n",
       "dayofweek                  int64\n",
       "rain                     float64\n",
       "temp                     float64\n",
       "pressure                 float64\n",
       "humidity                   int64\n",
       "wind_speed                 int64\n",
       "wind_dir                   int64\n",
       "sun                      float64\n",
       "visibility                 int64\n",
       "cloud_height               int64\n",
       "cloud_cover                int64\n",
       "dtype: object"
      ]
     },
     "execution_count": 30,
     "metadata": {},
     "output_type": "execute_result"
    }
   ],
   "source": [
    "df.dtypes"
   ]
  },
  {
   "cell_type": "markdown",
   "metadata": {},
   "source": [
    "## Clean holiday data"
   ]
  },
  {
   "cell_type": "code",
   "execution_count": 31,
   "metadata": {},
   "outputs": [],
   "source": [
    "#read data from holiday.csv\n",
    "#reference: https://www.generalblue.com/calendar/ireland/ireland-holidays-2018/\n",
    "holidayData = pd.read_csv('ireland-holidays-2018-list-classic-en-ie.csv', keep_default_na=True, delimiter=',')"
   ]
  },
  {
   "cell_type": "code",
   "execution_count": 32,
   "metadata": {},
   "outputs": [
    {
     "data": {
      "text/html": [
       "<div>\n",
       "<style scoped>\n",
       "    .dataframe tbody tr th:only-of-type {\n",
       "        vertical-align: middle;\n",
       "    }\n",
       "\n",
       "    .dataframe tbody tr th {\n",
       "        vertical-align: top;\n",
       "    }\n",
       "\n",
       "    .dataframe thead th {\n",
       "        text-align: right;\n",
       "    }\n",
       "</style>\n",
       "<table border=\"1\" class=\"dataframe\">\n",
       "  <thead>\n",
       "    <tr style=\"text-align: right;\">\n",
       "      <th></th>\n",
       "      <th>date</th>\n",
       "      <th>nameOfHoliday</th>\n",
       "    </tr>\n",
       "  </thead>\n",
       "  <tbody>\n",
       "    <tr>\n",
       "      <th>0</th>\n",
       "      <td>January 1, 2018</td>\n",
       "      <td>New Year's Day</td>\n",
       "    </tr>\n",
       "    <tr>\n",
       "      <th>1</th>\n",
       "      <td>March 11, 2018</td>\n",
       "      <td>Mother's Day</td>\n",
       "    </tr>\n",
       "    <tr>\n",
       "      <th>2</th>\n",
       "      <td>March 17, 2018</td>\n",
       "      <td>St. Patrick’s Day</td>\n",
       "    </tr>\n",
       "    <tr>\n",
       "      <th>3</th>\n",
       "      <td>March 19, 2018</td>\n",
       "      <td>St. Patrick’s Day (substitute day)</td>\n",
       "    </tr>\n",
       "    <tr>\n",
       "      <th>4</th>\n",
       "      <td>March 30, 2018</td>\n",
       "      <td>Good Friday</td>\n",
       "    </tr>\n",
       "    <tr>\n",
       "      <th>...</th>\n",
       "      <td>...</td>\n",
       "      <td>...</td>\n",
       "    </tr>\n",
       "    <tr>\n",
       "      <th>152</th>\n",
       "      <td>NaN</td>\n",
       "      <td>NaN</td>\n",
       "    </tr>\n",
       "    <tr>\n",
       "      <th>153</th>\n",
       "      <td>NaN</td>\n",
       "      <td>NaN</td>\n",
       "    </tr>\n",
       "    <tr>\n",
       "      <th>154</th>\n",
       "      <td>NaN</td>\n",
       "      <td>NaN</td>\n",
       "    </tr>\n",
       "    <tr>\n",
       "      <th>155</th>\n",
       "      <td>NaN</td>\n",
       "      <td>NaN</td>\n",
       "    </tr>\n",
       "    <tr>\n",
       "      <th>156</th>\n",
       "      <td>NaN</td>\n",
       "      <td>NaN</td>\n",
       "    </tr>\n",
       "  </tbody>\n",
       "</table>\n",
       "<p>157 rows × 2 columns</p>\n",
       "</div>"
      ],
      "text/plain": [
       "                date                       nameOfHoliday\n",
       "0    January 1, 2018                      New Year's Day\n",
       "1     March 11, 2018                        Mother's Day\n",
       "2     March 17, 2018                   St. Patrick’s Day\n",
       "3     March 19, 2018  St. Patrick’s Day (substitute day)\n",
       "4     March 30, 2018                         Good Friday\n",
       "..               ...                                 ...\n",
       "152              NaN                                 NaN\n",
       "153              NaN                                 NaN\n",
       "154              NaN                                 NaN\n",
       "155              NaN                                 NaN\n",
       "156              NaN                                 NaN\n",
       "\n",
       "[157 rows x 2 columns]"
      ]
     },
     "execution_count": 32,
     "metadata": {},
     "output_type": "execute_result"
    }
   ],
   "source": [
    "#Show rows\n",
    "holidayData"
   ]
  },
  {
   "cell_type": "code",
   "execution_count": 33,
   "metadata": {
    "scrolled": true
   },
   "outputs": [],
   "source": [
    "#drop all rows that have any NaN values\n",
    "holidayData.dropna(inplace=True) "
   ]
  },
  {
   "cell_type": "code",
   "execution_count": 34,
   "metadata": {},
   "outputs": [
    {
     "data": {
      "text/plain": [
       "date             object\n",
       "nameOfHoliday    object\n",
       "dtype: object"
      ]
     },
     "execution_count": 34,
     "metadata": {},
     "output_type": "execute_result"
    }
   ],
   "source": [
    "holidayData.dtypes"
   ]
  },
  {
   "cell_type": "code",
   "execution_count": 35,
   "metadata": {},
   "outputs": [],
   "source": [
    "#start by fixing date datatype \n",
    "holidayData['date'] = pd.to_datetime(holidayData.date)"
   ]
  },
  {
   "cell_type": "code",
   "execution_count": 36,
   "metadata": {
    "scrolled": true
   },
   "outputs": [
    {
     "data": {
      "text/html": [
       "<div>\n",
       "<style scoped>\n",
       "    .dataframe tbody tr th:only-of-type {\n",
       "        vertical-align: middle;\n",
       "    }\n",
       "\n",
       "    .dataframe tbody tr th {\n",
       "        vertical-align: top;\n",
       "    }\n",
       "\n",
       "    .dataframe thead th {\n",
       "        text-align: right;\n",
       "    }\n",
       "</style>\n",
       "<table border=\"1\" class=\"dataframe\">\n",
       "  <thead>\n",
       "    <tr style=\"text-align: right;\">\n",
       "      <th></th>\n",
       "      <th>date</th>\n",
       "      <th>nameOfHoliday</th>\n",
       "    </tr>\n",
       "  </thead>\n",
       "  <tbody>\n",
       "    <tr>\n",
       "      <th>0</th>\n",
       "      <td>2018-01-01</td>\n",
       "      <td>New Year's Day</td>\n",
       "    </tr>\n",
       "    <tr>\n",
       "      <th>1</th>\n",
       "      <td>2018-03-11</td>\n",
       "      <td>Mother's Day</td>\n",
       "    </tr>\n",
       "    <tr>\n",
       "      <th>2</th>\n",
       "      <td>2018-03-17</td>\n",
       "      <td>St. Patrick’s Day</td>\n",
       "    </tr>\n",
       "    <tr>\n",
       "      <th>3</th>\n",
       "      <td>2018-03-19</td>\n",
       "      <td>St. Patrick’s Day (substitute day)</td>\n",
       "    </tr>\n",
       "    <tr>\n",
       "      <th>4</th>\n",
       "      <td>2018-03-30</td>\n",
       "      <td>Good Friday</td>\n",
       "    </tr>\n",
       "    <tr>\n",
       "      <th>5</th>\n",
       "      <td>2018-04-01</td>\n",
       "      <td>Easter Sunday</td>\n",
       "    </tr>\n",
       "    <tr>\n",
       "      <th>6</th>\n",
       "      <td>2018-04-02</td>\n",
       "      <td>Easter Monday</td>\n",
       "    </tr>\n",
       "    <tr>\n",
       "      <th>7</th>\n",
       "      <td>2018-05-07</td>\n",
       "      <td>May Day</td>\n",
       "    </tr>\n",
       "    <tr>\n",
       "      <th>8</th>\n",
       "      <td>2018-06-04</td>\n",
       "      <td>First Monday in June</td>\n",
       "    </tr>\n",
       "    <tr>\n",
       "      <th>9</th>\n",
       "      <td>2018-08-06</td>\n",
       "      <td>First Monday in August</td>\n",
       "    </tr>\n",
       "    <tr>\n",
       "      <th>10</th>\n",
       "      <td>2018-10-29</td>\n",
       "      <td>October Bank Holiday</td>\n",
       "    </tr>\n",
       "    <tr>\n",
       "      <th>11</th>\n",
       "      <td>2018-12-25</td>\n",
       "      <td>Christmas Day</td>\n",
       "    </tr>\n",
       "    <tr>\n",
       "      <th>12</th>\n",
       "      <td>2018-12-26</td>\n",
       "      <td>St. Stephen's Day</td>\n",
       "    </tr>\n",
       "    <tr>\n",
       "      <th>13</th>\n",
       "      <td>2018-12-27</td>\n",
       "      <td>Christmas Bank Holiday</td>\n",
       "    </tr>\n",
       "  </tbody>\n",
       "</table>\n",
       "</div>"
      ],
      "text/plain": [
       "         date                       nameOfHoliday\n",
       "0  2018-01-01                      New Year's Day\n",
       "1  2018-03-11                        Mother's Day\n",
       "2  2018-03-17                   St. Patrick’s Day\n",
       "3  2018-03-19  St. Patrick’s Day (substitute day)\n",
       "4  2018-03-30                         Good Friday\n",
       "5  2018-04-01                       Easter Sunday\n",
       "6  2018-04-02                       Easter Monday\n",
       "7  2018-05-07                             May Day\n",
       "8  2018-06-04                First Monday in June\n",
       "9  2018-08-06              First Monday in August\n",
       "10 2018-10-29                October Bank Holiday\n",
       "11 2018-12-25                       Christmas Day\n",
       "12 2018-12-26                   St. Stephen's Day\n",
       "13 2018-12-27              Christmas Bank Holiday"
      ]
     },
     "execution_count": 36,
     "metadata": {},
     "output_type": "execute_result"
    }
   ],
   "source": [
    "holidayData.head(20)"
   ]
  },
  {
   "cell_type": "code",
   "execution_count": 37,
   "metadata": {},
   "outputs": [],
   "source": [
    "#Create a daily datetime index using the start and end times from a period with yearly frequency\n",
    "#reference: https://stackoverflow.com/questions/20602947/append-column-to-pandas-dataframe\n",
    "year = '2018'\n",
    "df1 = pd.DataFrame({\n",
    "    'Date': pd.date_range(\n",
    "        start = pd.Timestamp(year),                        \n",
    "        end = pd.Timestamp(year) + pd.offsets.YearEnd(0),  \n",
    "        freq = 'D'\n",
    "    )\n",
    "})"
   ]
  },
  {
   "cell_type": "code",
   "execution_count": 38,
   "metadata": {},
   "outputs": [
    {
     "data": {
      "text/html": [
       "<div>\n",
       "<style scoped>\n",
       "    .dataframe tbody tr th:only-of-type {\n",
       "        vertical-align: middle;\n",
       "    }\n",
       "\n",
       "    .dataframe tbody tr th {\n",
       "        vertical-align: top;\n",
       "    }\n",
       "\n",
       "    .dataframe thead th {\n",
       "        text-align: right;\n",
       "    }\n",
       "</style>\n",
       "<table border=\"1\" class=\"dataframe\">\n",
       "  <thead>\n",
       "    <tr style=\"text-align: right;\">\n",
       "      <th></th>\n",
       "      <th>Date</th>\n",
       "    </tr>\n",
       "  </thead>\n",
       "  <tbody>\n",
       "    <tr>\n",
       "      <th>0</th>\n",
       "      <td>2018-01-01</td>\n",
       "    </tr>\n",
       "    <tr>\n",
       "      <th>1</th>\n",
       "      <td>2018-01-02</td>\n",
       "    </tr>\n",
       "    <tr>\n",
       "      <th>2</th>\n",
       "      <td>2018-01-03</td>\n",
       "    </tr>\n",
       "    <tr>\n",
       "      <th>3</th>\n",
       "      <td>2018-01-04</td>\n",
       "    </tr>\n",
       "    <tr>\n",
       "      <th>4</th>\n",
       "      <td>2018-01-05</td>\n",
       "    </tr>\n",
       "    <tr>\n",
       "      <th>5</th>\n",
       "      <td>2018-01-06</td>\n",
       "    </tr>\n",
       "    <tr>\n",
       "      <th>6</th>\n",
       "      <td>2018-01-07</td>\n",
       "    </tr>\n",
       "    <tr>\n",
       "      <th>7</th>\n",
       "      <td>2018-01-08</td>\n",
       "    </tr>\n",
       "    <tr>\n",
       "      <th>8</th>\n",
       "      <td>2018-01-09</td>\n",
       "    </tr>\n",
       "    <tr>\n",
       "      <th>9</th>\n",
       "      <td>2018-01-10</td>\n",
       "    </tr>\n",
       "  </tbody>\n",
       "</table>\n",
       "</div>"
      ],
      "text/plain": [
       "        Date\n",
       "0 2018-01-01\n",
       "1 2018-01-02\n",
       "2 2018-01-03\n",
       "3 2018-01-04\n",
       "4 2018-01-05\n",
       "5 2018-01-06\n",
       "6 2018-01-07\n",
       "7 2018-01-08\n",
       "8 2018-01-09\n",
       "9 2018-01-10"
      ]
     },
     "execution_count": 38,
     "metadata": {},
     "output_type": "execute_result"
    }
   ],
   "source": [
    "df1.head(10)"
   ]
  },
  {
   "cell_type": "code",
   "execution_count": 39,
   "metadata": {
    "scrolled": true
   },
   "outputs": [],
   "source": [
    "# join the Date to holidayData\n",
    "holidayData=df1.join(holidayData)"
   ]
  },
  {
   "cell_type": "code",
   "execution_count": 40,
   "metadata": {},
   "outputs": [],
   "source": [
    "# create a new column \"holiday in holidayData\" and set default cell value to be 0, indicating not a holiday\n",
    "# set the dates of summer holiday to 2\n",
    "start_date='2018-06-21'\n",
    "end_date='2018-09-23'\n",
    "conditions = [\n",
    "    (holidayData['Date'] >= start_date) & (holidayData['Date'] <= end_date)\n",
    "    ]\n",
    "choices = [2]\n",
    "holidayData['holiday'] = np.select(conditions, choices,default=0)"
   ]
  },
  {
   "cell_type": "code",
   "execution_count": 41,
   "metadata": {},
   "outputs": [],
   "source": [
    "# flip those dates with bank holiday to 1 in \"holiday\" column\n",
    "holidayData.loc[holidayData['Date']=='2018-01-01', 'holiday'] = 1\n",
    "holidayData.loc[holidayData['Date']=='2018-03-11', 'holiday'] = 1\n",
    "holidayData.loc[holidayData['Date']=='2018-03-17', 'holiday'] = 1\n",
    "holidayData.loc[holidayData['Date']=='2018-03-19', 'holiday'] = 1\n",
    "holidayData.loc[holidayData['Date']=='2018-03-30', 'holiday'] = 1\n",
    "holidayData.loc[holidayData['Date']=='2018-04-01', 'holiday'] = 1\n",
    "holidayData.loc[holidayData['Date']=='2018-04-02', 'holiday'] = 1\n",
    "holidayData.loc[holidayData['Date']=='2018-05-07', 'holiday'] = 1\n",
    "holidayData.loc[holidayData['Date']=='2018-06-04', 'holiday'] = 1\n",
    "holidayData.loc[holidayData['Date']=='2018-08-06', 'holiday'] = 1\n",
    "holidayData.loc[holidayData['Date']=='2018-10-29', 'holiday'] = 1\n",
    "holidayData.loc[holidayData['Date']=='2018-12-25', 'holiday'] = 1\n",
    "holidayData.loc[holidayData['Date']=='2018-12-26', 'holiday'] = 1\n",
    "holidayData.loc[holidayData['Date']=='2018-12-27', 'holiday'] = 1"
   ]
  },
  {
   "cell_type": "code",
   "execution_count": 42,
   "metadata": {
    "scrolled": true
   },
   "outputs": [
    {
     "data": {
      "text/html": [
       "<div>\n",
       "<style scoped>\n",
       "    .dataframe tbody tr th:only-of-type {\n",
       "        vertical-align: middle;\n",
       "    }\n",
       "\n",
       "    .dataframe tbody tr th {\n",
       "        vertical-align: top;\n",
       "    }\n",
       "\n",
       "    .dataframe thead th {\n",
       "        text-align: right;\n",
       "    }\n",
       "</style>\n",
       "<table border=\"1\" class=\"dataframe\">\n",
       "  <thead>\n",
       "    <tr style=\"text-align: right;\">\n",
       "      <th></th>\n",
       "      <th>Date</th>\n",
       "      <th>date</th>\n",
       "      <th>nameOfHoliday</th>\n",
       "      <th>holiday</th>\n",
       "    </tr>\n",
       "  </thead>\n",
       "  <tbody>\n",
       "    <tr>\n",
       "      <th>0</th>\n",
       "      <td>2018-01-01</td>\n",
       "      <td>2018-01-01</td>\n",
       "      <td>New Year's Day</td>\n",
       "      <td>1</td>\n",
       "    </tr>\n",
       "    <tr>\n",
       "      <th>69</th>\n",
       "      <td>2018-03-11</td>\n",
       "      <td>NaT</td>\n",
       "      <td>NaN</td>\n",
       "      <td>1</td>\n",
       "    </tr>\n",
       "    <tr>\n",
       "      <th>75</th>\n",
       "      <td>2018-03-17</td>\n",
       "      <td>NaT</td>\n",
       "      <td>NaN</td>\n",
       "      <td>1</td>\n",
       "    </tr>\n",
       "    <tr>\n",
       "      <th>77</th>\n",
       "      <td>2018-03-19</td>\n",
       "      <td>NaT</td>\n",
       "      <td>NaN</td>\n",
       "      <td>1</td>\n",
       "    </tr>\n",
       "    <tr>\n",
       "      <th>88</th>\n",
       "      <td>2018-03-30</td>\n",
       "      <td>NaT</td>\n",
       "      <td>NaN</td>\n",
       "      <td>1</td>\n",
       "    </tr>\n",
       "    <tr>\n",
       "      <th>90</th>\n",
       "      <td>2018-04-01</td>\n",
       "      <td>NaT</td>\n",
       "      <td>NaN</td>\n",
       "      <td>1</td>\n",
       "    </tr>\n",
       "    <tr>\n",
       "      <th>91</th>\n",
       "      <td>2018-04-02</td>\n",
       "      <td>NaT</td>\n",
       "      <td>NaN</td>\n",
       "      <td>1</td>\n",
       "    </tr>\n",
       "    <tr>\n",
       "      <th>126</th>\n",
       "      <td>2018-05-07</td>\n",
       "      <td>NaT</td>\n",
       "      <td>NaN</td>\n",
       "      <td>1</td>\n",
       "    </tr>\n",
       "    <tr>\n",
       "      <th>154</th>\n",
       "      <td>2018-06-04</td>\n",
       "      <td>NaT</td>\n",
       "      <td>NaN</td>\n",
       "      <td>1</td>\n",
       "    </tr>\n",
       "    <tr>\n",
       "      <th>217</th>\n",
       "      <td>2018-08-06</td>\n",
       "      <td>NaT</td>\n",
       "      <td>NaN</td>\n",
       "      <td>1</td>\n",
       "    </tr>\n",
       "    <tr>\n",
       "      <th>301</th>\n",
       "      <td>2018-10-29</td>\n",
       "      <td>NaT</td>\n",
       "      <td>NaN</td>\n",
       "      <td>1</td>\n",
       "    </tr>\n",
       "    <tr>\n",
       "      <th>358</th>\n",
       "      <td>2018-12-25</td>\n",
       "      <td>NaT</td>\n",
       "      <td>NaN</td>\n",
       "      <td>1</td>\n",
       "    </tr>\n",
       "    <tr>\n",
       "      <th>359</th>\n",
       "      <td>2018-12-26</td>\n",
       "      <td>NaT</td>\n",
       "      <td>NaN</td>\n",
       "      <td>1</td>\n",
       "    </tr>\n",
       "    <tr>\n",
       "      <th>360</th>\n",
       "      <td>2018-12-27</td>\n",
       "      <td>NaT</td>\n",
       "      <td>NaN</td>\n",
       "      <td>1</td>\n",
       "    </tr>\n",
       "  </tbody>\n",
       "</table>\n",
       "</div>"
      ],
      "text/plain": [
       "          Date       date   nameOfHoliday  holiday\n",
       "0   2018-01-01 2018-01-01  New Year's Day        1\n",
       "69  2018-03-11        NaT             NaN        1\n",
       "75  2018-03-17        NaT             NaN        1\n",
       "77  2018-03-19        NaT             NaN        1\n",
       "88  2018-03-30        NaT             NaN        1\n",
       "90  2018-04-01        NaT             NaN        1\n",
       "91  2018-04-02        NaT             NaN        1\n",
       "126 2018-05-07        NaT             NaN        1\n",
       "154 2018-06-04        NaT             NaN        1\n",
       "217 2018-08-06        NaT             NaN        1\n",
       "301 2018-10-29        NaT             NaN        1\n",
       "358 2018-12-25        NaT             NaN        1\n",
       "359 2018-12-26        NaT             NaN        1\n",
       "360 2018-12-27        NaT             NaN        1"
      ]
     },
     "execution_count": 42,
     "metadata": {},
     "output_type": "execute_result"
    }
   ],
   "source": [
    "#check again if flip based on the right bank holidays\n",
    "holidayData[holidayData['holiday']==1]"
   ]
  },
  {
   "cell_type": "code",
   "execution_count": 43,
   "metadata": {
    "scrolled": true
   },
   "outputs": [
    {
     "data": {
      "text/html": [
       "<div>\n",
       "<style scoped>\n",
       "    .dataframe tbody tr th:only-of-type {\n",
       "        vertical-align: middle;\n",
       "    }\n",
       "\n",
       "    .dataframe tbody tr th {\n",
       "        vertical-align: top;\n",
       "    }\n",
       "\n",
       "    .dataframe thead th {\n",
       "        text-align: right;\n",
       "    }\n",
       "</style>\n",
       "<table border=\"1\" class=\"dataframe\">\n",
       "  <thead>\n",
       "    <tr style=\"text-align: right;\">\n",
       "      <th></th>\n",
       "      <th>Date</th>\n",
       "      <th>date</th>\n",
       "      <th>nameOfHoliday</th>\n",
       "      <th>holiday</th>\n",
       "    </tr>\n",
       "  </thead>\n",
       "  <tbody>\n",
       "    <tr>\n",
       "      <th>0</th>\n",
       "      <td>2018-01-01</td>\n",
       "      <td>2018-01-01</td>\n",
       "      <td>New Year's Day</td>\n",
       "      <td>1</td>\n",
       "    </tr>\n",
       "    <tr>\n",
       "      <th>1</th>\n",
       "      <td>2018-01-02</td>\n",
       "      <td>2018-03-11</td>\n",
       "      <td>Mother's Day</td>\n",
       "      <td>0</td>\n",
       "    </tr>\n",
       "    <tr>\n",
       "      <th>2</th>\n",
       "      <td>2018-01-03</td>\n",
       "      <td>2018-03-17</td>\n",
       "      <td>St. Patrick’s Day</td>\n",
       "      <td>0</td>\n",
       "    </tr>\n",
       "    <tr>\n",
       "      <th>3</th>\n",
       "      <td>2018-01-04</td>\n",
       "      <td>2018-03-19</td>\n",
       "      <td>St. Patrick’s Day (substitute day)</td>\n",
       "      <td>0</td>\n",
       "    </tr>\n",
       "    <tr>\n",
       "      <th>4</th>\n",
       "      <td>2018-01-05</td>\n",
       "      <td>2018-03-30</td>\n",
       "      <td>Good Friday</td>\n",
       "      <td>0</td>\n",
       "    </tr>\n",
       "    <tr>\n",
       "      <th>5</th>\n",
       "      <td>2018-01-06</td>\n",
       "      <td>2018-04-01</td>\n",
       "      <td>Easter Sunday</td>\n",
       "      <td>0</td>\n",
       "    </tr>\n",
       "    <tr>\n",
       "      <th>6</th>\n",
       "      <td>2018-01-07</td>\n",
       "      <td>2018-04-02</td>\n",
       "      <td>Easter Monday</td>\n",
       "      <td>0</td>\n",
       "    </tr>\n",
       "    <tr>\n",
       "      <th>7</th>\n",
       "      <td>2018-01-08</td>\n",
       "      <td>2018-05-07</td>\n",
       "      <td>May Day</td>\n",
       "      <td>0</td>\n",
       "    </tr>\n",
       "    <tr>\n",
       "      <th>8</th>\n",
       "      <td>2018-01-09</td>\n",
       "      <td>2018-06-04</td>\n",
       "      <td>First Monday in June</td>\n",
       "      <td>0</td>\n",
       "    </tr>\n",
       "    <tr>\n",
       "      <th>9</th>\n",
       "      <td>2018-01-10</td>\n",
       "      <td>2018-08-06</td>\n",
       "      <td>First Monday in August</td>\n",
       "      <td>0</td>\n",
       "    </tr>\n",
       "  </tbody>\n",
       "</table>\n",
       "</div>"
      ],
      "text/plain": [
       "        Date       date                       nameOfHoliday  holiday\n",
       "0 2018-01-01 2018-01-01                      New Year's Day        1\n",
       "1 2018-01-02 2018-03-11                        Mother's Day        0\n",
       "2 2018-01-03 2018-03-17                   St. Patrick’s Day        0\n",
       "3 2018-01-04 2018-03-19  St. Patrick’s Day (substitute day)        0\n",
       "4 2018-01-05 2018-03-30                         Good Friday        0\n",
       "5 2018-01-06 2018-04-01                       Easter Sunday        0\n",
       "6 2018-01-07 2018-04-02                       Easter Monday        0\n",
       "7 2018-01-08 2018-05-07                             May Day        0\n",
       "8 2018-01-09 2018-06-04                First Monday in June        0\n",
       "9 2018-01-10 2018-08-06              First Monday in August        0"
      ]
     },
     "execution_count": 43,
     "metadata": {},
     "output_type": "execute_result"
    }
   ],
   "source": [
    "holidayData.head(10)"
   ]
  },
  {
   "cell_type": "code",
   "execution_count": 44,
   "metadata": {},
   "outputs": [],
   "source": [
    "# for row_index in range(len(holidayData[\"Date\"])): #for each row index of length of column \"Date\"\n",
    "    \n",
    "#     column_index_Date=holidayData.columns.get_loc(\"Date\") #get column index of \"Date\"\n",
    "#     cell=holidayData.iat[row_index, column_index_Date] #get content of the cell based on row and column index\n",
    "#     column_index_holiday=holidayData.columns.get_loc(\"holiday\")\n",
    "#     column_index_date=holidayData.columns.get_loc(\"date\")\n",
    "\n",
    "#     #change the cell value of holiday to 1 if match the Date match date(holiday)\n",
    "#     for row_index1 in range(len(holidayData[\"date\"])):\n",
    "#         if cell == holidayData.iat[row_index1, column_index_date]:\n",
    "#             holidayData.iloc[[row_index], [column_index_holiday]]=1\n",
    "    "
   ]
  },
  {
   "cell_type": "code",
   "execution_count": 45,
   "metadata": {},
   "outputs": [],
   "source": [
    "#drop nameOfHoliday and date that won't be used\n",
    "holidayData.drop(['nameOfHoliday'], axis = 1, inplace=True) \n",
    "holidayData.drop(['date'], axis = 1, inplace=True) "
   ]
  },
  {
   "cell_type": "code",
   "execution_count": 46,
   "metadata": {},
   "outputs": [],
   "source": [
    "#rename the date column to make it more convenient for future joining\n",
    "holidayData.rename(columns = {'Date':'DAYOFSERVICE'}, inplace = True)"
   ]
  },
  {
   "cell_type": "code",
   "execution_count": 47,
   "metadata": {},
   "outputs": [
    {
     "data": {
      "text/html": [
       "<div>\n",
       "<style scoped>\n",
       "    .dataframe tbody tr th:only-of-type {\n",
       "        vertical-align: middle;\n",
       "    }\n",
       "\n",
       "    .dataframe tbody tr th {\n",
       "        vertical-align: top;\n",
       "    }\n",
       "\n",
       "    .dataframe thead th {\n",
       "        text-align: right;\n",
       "    }\n",
       "</style>\n",
       "<table border=\"1\" class=\"dataframe\">\n",
       "  <thead>\n",
       "    <tr style=\"text-align: right;\">\n",
       "      <th></th>\n",
       "      <th>DAYOFSERVICE</th>\n",
       "      <th>holiday</th>\n",
       "    </tr>\n",
       "  </thead>\n",
       "  <tbody>\n",
       "    <tr>\n",
       "      <th>0</th>\n",
       "      <td>2018-01-01</td>\n",
       "      <td>1</td>\n",
       "    </tr>\n",
       "    <tr>\n",
       "      <th>1</th>\n",
       "      <td>2018-01-02</td>\n",
       "      <td>0</td>\n",
       "    </tr>\n",
       "    <tr>\n",
       "      <th>2</th>\n",
       "      <td>2018-01-03</td>\n",
       "      <td>0</td>\n",
       "    </tr>\n",
       "    <tr>\n",
       "      <th>3</th>\n",
       "      <td>2018-01-04</td>\n",
       "      <td>0</td>\n",
       "    </tr>\n",
       "    <tr>\n",
       "      <th>4</th>\n",
       "      <td>2018-01-05</td>\n",
       "      <td>0</td>\n",
       "    </tr>\n",
       "  </tbody>\n",
       "</table>\n",
       "</div>"
      ],
      "text/plain": [
       "  DAYOFSERVICE  holiday\n",
       "0   2018-01-01        1\n",
       "1   2018-01-02        0\n",
       "2   2018-01-03        0\n",
       "3   2018-01-04        0\n",
       "4   2018-01-05        0"
      ]
     },
     "execution_count": 47,
     "metadata": {},
     "output_type": "execute_result"
    }
   ],
   "source": [
    "holidayData.head()"
   ]
  },
  {
   "cell_type": "code",
   "execution_count": 48,
   "metadata": {},
   "outputs": [
    {
     "data": {
      "text/plain": [
       "DAYOFSERVICE    datetime64[ns]\n",
       "holiday                  int64\n",
       "dtype: object"
      ]
     },
     "execution_count": 48,
     "metadata": {},
     "output_type": "execute_result"
    }
   ],
   "source": [
    "holidayData.dtypes"
   ]
  },
  {
   "cell_type": "code",
   "execution_count": null,
   "metadata": {},
   "outputs": [],
   "source": []
  },
  {
   "cell_type": "markdown",
   "metadata": {},
   "source": [
    "## Add holiday data to dataframe"
   ]
  },
  {
   "cell_type": "code",
   "execution_count": 49,
   "metadata": {},
   "outputs": [],
   "source": [
    "df=pd.merge(df, holidayData, how='inner', left_on=['DAYOFSERVICE'], right_on=['DAYOFSERVICE'])"
   ]
  },
  {
   "cell_type": "code",
   "execution_count": 50,
   "metadata": {
    "scrolled": false
   },
   "outputs": [
    {
     "data": {
      "text/html": [
       "<div>\n",
       "<style scoped>\n",
       "    .dataframe tbody tr th:only-of-type {\n",
       "        vertical-align: middle;\n",
       "    }\n",
       "\n",
       "    .dataframe tbody tr th {\n",
       "        vertical-align: top;\n",
       "    }\n",
       "\n",
       "    .dataframe thead th {\n",
       "        text-align: right;\n",
       "    }\n",
       "</style>\n",
       "<table border=\"1\" class=\"dataframe\">\n",
       "  <thead>\n",
       "    <tr style=\"text-align: right;\">\n",
       "      <th></th>\n",
       "      <th>DAYOFSERVICE</th>\n",
       "      <th>PROGRNUMBER</th>\n",
       "      <th>STOPPOINTID</th>\n",
       "      <th>DIRECTION</th>\n",
       "      <th>ACTUALTIME_DEP</th>\n",
       "      <th>ACTUALTIME_ARR</th>\n",
       "      <th>hour</th>\n",
       "      <th>dayofweek</th>\n",
       "      <th>rain</th>\n",
       "      <th>temp</th>\n",
       "      <th>pressure</th>\n",
       "      <th>humidity</th>\n",
       "      <th>wind_speed</th>\n",
       "      <th>wind_dir</th>\n",
       "      <th>sun</th>\n",
       "      <th>visibility</th>\n",
       "      <th>cloud_height</th>\n",
       "      <th>cloud_cover</th>\n",
       "      <th>holiday</th>\n",
       "    </tr>\n",
       "  </thead>\n",
       "  <tbody>\n",
       "    <tr>\n",
       "      <th>0</th>\n",
       "      <td>2018-02-07</td>\n",
       "      <td>1</td>\n",
       "      <td>381</td>\n",
       "      <td>2</td>\n",
       "      <td>63629</td>\n",
       "      <td>63629</td>\n",
       "      <td>17</td>\n",
       "      <td>0</td>\n",
       "      <td>0.2</td>\n",
       "      <td>2.9</td>\n",
       "      <td>6.7</td>\n",
       "      <td>6</td>\n",
       "      <td>9</td>\n",
       "      <td>210</td>\n",
       "      <td>0.0</td>\n",
       "      <td>25000</td>\n",
       "      <td>40</td>\n",
       "      <td>7</td>\n",
       "      <td>0</td>\n",
       "    </tr>\n",
       "    <tr>\n",
       "      <th>1</th>\n",
       "      <td>2018-02-07</td>\n",
       "      <td>2</td>\n",
       "      <td>382</td>\n",
       "      <td>2</td>\n",
       "      <td>63690</td>\n",
       "      <td>63675</td>\n",
       "      <td>17</td>\n",
       "      <td>0</td>\n",
       "      <td>0.2</td>\n",
       "      <td>2.9</td>\n",
       "      <td>6.7</td>\n",
       "      <td>6</td>\n",
       "      <td>9</td>\n",
       "      <td>210</td>\n",
       "      <td>0.0</td>\n",
       "      <td>25000</td>\n",
       "      <td>40</td>\n",
       "      <td>7</td>\n",
       "      <td>0</td>\n",
       "    </tr>\n",
       "    <tr>\n",
       "      <th>2</th>\n",
       "      <td>2018-02-07</td>\n",
       "      <td>3</td>\n",
       "      <td>4451</td>\n",
       "      <td>2</td>\n",
       "      <td>63739</td>\n",
       "      <td>63715</td>\n",
       "      <td>17</td>\n",
       "      <td>0</td>\n",
       "      <td>0.2</td>\n",
       "      <td>2.9</td>\n",
       "      <td>6.7</td>\n",
       "      <td>6</td>\n",
       "      <td>9</td>\n",
       "      <td>210</td>\n",
       "      <td>0.0</td>\n",
       "      <td>25000</td>\n",
       "      <td>40</td>\n",
       "      <td>7</td>\n",
       "      <td>0</td>\n",
       "    </tr>\n",
       "    <tr>\n",
       "      <th>3</th>\n",
       "      <td>2018-02-07</td>\n",
       "      <td>4</td>\n",
       "      <td>383</td>\n",
       "      <td>2</td>\n",
       "      <td>63788</td>\n",
       "      <td>63774</td>\n",
       "      <td>17</td>\n",
       "      <td>0</td>\n",
       "      <td>0.2</td>\n",
       "      <td>2.9</td>\n",
       "      <td>6.7</td>\n",
       "      <td>6</td>\n",
       "      <td>9</td>\n",
       "      <td>210</td>\n",
       "      <td>0.0</td>\n",
       "      <td>25000</td>\n",
       "      <td>40</td>\n",
       "      <td>7</td>\n",
       "      <td>0</td>\n",
       "    </tr>\n",
       "    <tr>\n",
       "      <th>4</th>\n",
       "      <td>2018-02-07</td>\n",
       "      <td>5</td>\n",
       "      <td>384</td>\n",
       "      <td>2</td>\n",
       "      <td>63824</td>\n",
       "      <td>63824</td>\n",
       "      <td>17</td>\n",
       "      <td>0</td>\n",
       "      <td>0.2</td>\n",
       "      <td>2.9</td>\n",
       "      <td>6.7</td>\n",
       "      <td>6</td>\n",
       "      <td>9</td>\n",
       "      <td>210</td>\n",
       "      <td>0.0</td>\n",
       "      <td>25000</td>\n",
       "      <td>40</td>\n",
       "      <td>7</td>\n",
       "      <td>0</td>\n",
       "    </tr>\n",
       "    <tr>\n",
       "      <th>...</th>\n",
       "      <td>...</td>\n",
       "      <td>...</td>\n",
       "      <td>...</td>\n",
       "      <td>...</td>\n",
       "      <td>...</td>\n",
       "      <td>...</td>\n",
       "      <td>...</td>\n",
       "      <td>...</td>\n",
       "      <td>...</td>\n",
       "      <td>...</td>\n",
       "      <td>...</td>\n",
       "      <td>...</td>\n",
       "      <td>...</td>\n",
       "      <td>...</td>\n",
       "      <td>...</td>\n",
       "      <td>...</td>\n",
       "      <td>...</td>\n",
       "      <td>...</td>\n",
       "      <td>...</td>\n",
       "    </tr>\n",
       "    <tr>\n",
       "      <th>1336955</th>\n",
       "      <td>2018-01-07</td>\n",
       "      <td>35</td>\n",
       "      <td>373</td>\n",
       "      <td>1</td>\n",
       "      <td>85448</td>\n",
       "      <td>85448</td>\n",
       "      <td>23</td>\n",
       "      <td>1</td>\n",
       "      <td>0.0</td>\n",
       "      <td>1.9</td>\n",
       "      <td>4.7</td>\n",
       "      <td>4</td>\n",
       "      <td>10</td>\n",
       "      <td>100</td>\n",
       "      <td>0.0</td>\n",
       "      <td>30000</td>\n",
       "      <td>999</td>\n",
       "      <td>3</td>\n",
       "      <td>0</td>\n",
       "    </tr>\n",
       "    <tr>\n",
       "      <th>1336956</th>\n",
       "      <td>2018-01-07</td>\n",
       "      <td>13</td>\n",
       "      <td>44</td>\n",
       "      <td>1</td>\n",
       "      <td>83332</td>\n",
       "      <td>83320</td>\n",
       "      <td>23</td>\n",
       "      <td>1</td>\n",
       "      <td>0.0</td>\n",
       "      <td>1.9</td>\n",
       "      <td>4.7</td>\n",
       "      <td>4</td>\n",
       "      <td>10</td>\n",
       "      <td>100</td>\n",
       "      <td>0.0</td>\n",
       "      <td>30000</td>\n",
       "      <td>999</td>\n",
       "      <td>3</td>\n",
       "      <td>0</td>\n",
       "    </tr>\n",
       "    <tr>\n",
       "      <th>1336957</th>\n",
       "      <td>2018-01-07</td>\n",
       "      <td>34</td>\n",
       "      <td>372</td>\n",
       "      <td>1</td>\n",
       "      <td>85428</td>\n",
       "      <td>85428</td>\n",
       "      <td>23</td>\n",
       "      <td>1</td>\n",
       "      <td>0.0</td>\n",
       "      <td>1.9</td>\n",
       "      <td>4.7</td>\n",
       "      <td>4</td>\n",
       "      <td>10</td>\n",
       "      <td>100</td>\n",
       "      <td>0.0</td>\n",
       "      <td>30000</td>\n",
       "      <td>999</td>\n",
       "      <td>3</td>\n",
       "      <td>0</td>\n",
       "    </tr>\n",
       "    <tr>\n",
       "      <th>1336958</th>\n",
       "      <td>2018-01-07</td>\n",
       "      <td>1</td>\n",
       "      <td>226</td>\n",
       "      <td>1</td>\n",
       "      <td>82827</td>\n",
       "      <td>82827</td>\n",
       "      <td>23</td>\n",
       "      <td>1</td>\n",
       "      <td>0.0</td>\n",
       "      <td>1.9</td>\n",
       "      <td>4.7</td>\n",
       "      <td>4</td>\n",
       "      <td>10</td>\n",
       "      <td>100</td>\n",
       "      <td>0.0</td>\n",
       "      <td>30000</td>\n",
       "      <td>999</td>\n",
       "      <td>3</td>\n",
       "      <td>0</td>\n",
       "    </tr>\n",
       "    <tr>\n",
       "      <th>1336959</th>\n",
       "      <td>2018-01-07</td>\n",
       "      <td>20</td>\n",
       "      <td>51</td>\n",
       "      <td>1</td>\n",
       "      <td>83668</td>\n",
       "      <td>83668</td>\n",
       "      <td>23</td>\n",
       "      <td>1</td>\n",
       "      <td>0.0</td>\n",
       "      <td>1.9</td>\n",
       "      <td>4.7</td>\n",
       "      <td>4</td>\n",
       "      <td>10</td>\n",
       "      <td>100</td>\n",
       "      <td>0.0</td>\n",
       "      <td>30000</td>\n",
       "      <td>999</td>\n",
       "      <td>3</td>\n",
       "      <td>0</td>\n",
       "    </tr>\n",
       "  </tbody>\n",
       "</table>\n",
       "<p>1336960 rows × 19 columns</p>\n",
       "</div>"
      ],
      "text/plain": [
       "        DAYOFSERVICE  PROGRNUMBER STOPPOINTID  DIRECTION  ACTUALTIME_DEP  \\\n",
       "0         2018-02-07            1         381          2           63629   \n",
       "1         2018-02-07            2         382          2           63690   \n",
       "2         2018-02-07            3        4451          2           63739   \n",
       "3         2018-02-07            4         383          2           63788   \n",
       "4         2018-02-07            5         384          2           63824   \n",
       "...              ...          ...         ...        ...             ...   \n",
       "1336955   2018-01-07           35         373          1           85448   \n",
       "1336956   2018-01-07           13          44          1           83332   \n",
       "1336957   2018-01-07           34         372          1           85428   \n",
       "1336958   2018-01-07            1         226          1           82827   \n",
       "1336959   2018-01-07           20          51          1           83668   \n",
       "\n",
       "         ACTUALTIME_ARR  hour  dayofweek  rain  temp  pressure  humidity  \\\n",
       "0                 63629    17          0   0.2   2.9       6.7         6   \n",
       "1                 63675    17          0   0.2   2.9       6.7         6   \n",
       "2                 63715    17          0   0.2   2.9       6.7         6   \n",
       "3                 63774    17          0   0.2   2.9       6.7         6   \n",
       "4                 63824    17          0   0.2   2.9       6.7         6   \n",
       "...                 ...   ...        ...   ...   ...       ...       ...   \n",
       "1336955           85448    23          1   0.0   1.9       4.7         4   \n",
       "1336956           83320    23          1   0.0   1.9       4.7         4   \n",
       "1336957           85428    23          1   0.0   1.9       4.7         4   \n",
       "1336958           82827    23          1   0.0   1.9       4.7         4   \n",
       "1336959           83668    23          1   0.0   1.9       4.7         4   \n",
       "\n",
       "         wind_speed  wind_dir  sun  visibility  cloud_height  cloud_cover  \\\n",
       "0                 9       210  0.0       25000            40            7   \n",
       "1                 9       210  0.0       25000            40            7   \n",
       "2                 9       210  0.0       25000            40            7   \n",
       "3                 9       210  0.0       25000            40            7   \n",
       "4                 9       210  0.0       25000            40            7   \n",
       "...             ...       ...  ...         ...           ...          ...   \n",
       "1336955          10       100  0.0       30000           999            3   \n",
       "1336956          10       100  0.0       30000           999            3   \n",
       "1336957          10       100  0.0       30000           999            3   \n",
       "1336958          10       100  0.0       30000           999            3   \n",
       "1336959          10       100  0.0       30000           999            3   \n",
       "\n",
       "         holiday  \n",
       "0              0  \n",
       "1              0  \n",
       "2              0  \n",
       "3              0  \n",
       "4              0  \n",
       "...          ...  \n",
       "1336955        0  \n",
       "1336956        0  \n",
       "1336957        0  \n",
       "1336958        0  \n",
       "1336959        0  \n",
       "\n",
       "[1336960 rows x 19 columns]"
      ]
     },
     "execution_count": 50,
     "metadata": {},
     "output_type": "execute_result"
    }
   ],
   "source": [
    "df"
   ]
  },
  {
   "cell_type": "code",
   "execution_count": 51,
   "metadata": {
    "scrolled": false
   },
   "outputs": [
    {
     "data": {
      "text/plain": [
       "DAYOFSERVICE      datetime64[ns]\n",
       "PROGRNUMBER                int64\n",
       "STOPPOINTID               object\n",
       "DIRECTION                  int64\n",
       "ACTUALTIME_DEP             int64\n",
       "ACTUALTIME_ARR             int64\n",
       "hour                       int64\n",
       "dayofweek                  int64\n",
       "rain                     float64\n",
       "temp                     float64\n",
       "pressure                 float64\n",
       "humidity                   int64\n",
       "wind_speed                 int64\n",
       "wind_dir                   int64\n",
       "sun                      float64\n",
       "visibility                 int64\n",
       "cloud_height               int64\n",
       "cloud_cover                int64\n",
       "holiday                    int64\n",
       "dtype: object"
      ]
     },
     "execution_count": 51,
     "metadata": {},
     "output_type": "execute_result"
    }
   ],
   "source": [
    "df.dtypes"
   ]
  },
  {
   "cell_type": "code",
   "execution_count": 52,
   "metadata": {},
   "outputs": [],
   "source": [
    "df.to_csv('line1.csv')"
   ]
  },
  {
   "cell_type": "code",
   "execution_count": null,
   "metadata": {},
   "outputs": [],
   "source": []
  },
  {
   "cell_type": "markdown",
   "metadata": {},
   "source": [
    "## Build linear regression model for bus departure"
   ]
  },
  {
   "cell_type": "code",
   "execution_count": 53,
   "metadata": {},
   "outputs": [],
   "source": [
    "df = pd.read_csv('line1.csv', keep_default_na=True, delimiter=',')"
   ]
  },
  {
   "cell_type": "code",
   "execution_count": 54,
   "metadata": {},
   "outputs": [
    {
     "data": {
      "text/html": [
       "<div>\n",
       "<style scoped>\n",
       "    .dataframe tbody tr th:only-of-type {\n",
       "        vertical-align: middle;\n",
       "    }\n",
       "\n",
       "    .dataframe tbody tr th {\n",
       "        vertical-align: top;\n",
       "    }\n",
       "\n",
       "    .dataframe thead th {\n",
       "        text-align: right;\n",
       "    }\n",
       "</style>\n",
       "<table border=\"1\" class=\"dataframe\">\n",
       "  <thead>\n",
       "    <tr style=\"text-align: right;\">\n",
       "      <th></th>\n",
       "      <th>Unnamed: 0</th>\n",
       "      <th>DAYOFSERVICE</th>\n",
       "      <th>PROGRNUMBER</th>\n",
       "      <th>STOPPOINTID</th>\n",
       "      <th>DIRECTION</th>\n",
       "      <th>ACTUALTIME_DEP</th>\n",
       "      <th>ACTUALTIME_ARR</th>\n",
       "      <th>hour</th>\n",
       "      <th>dayofweek</th>\n",
       "      <th>rain</th>\n",
       "      <th>temp</th>\n",
       "      <th>pressure</th>\n",
       "      <th>humidity</th>\n",
       "      <th>wind_speed</th>\n",
       "      <th>wind_dir</th>\n",
       "      <th>sun</th>\n",
       "      <th>visibility</th>\n",
       "      <th>cloud_height</th>\n",
       "      <th>cloud_cover</th>\n",
       "      <th>holiday</th>\n",
       "    </tr>\n",
       "  </thead>\n",
       "  <tbody>\n",
       "    <tr>\n",
       "      <th>0</th>\n",
       "      <td>0</td>\n",
       "      <td>2018-02-07</td>\n",
       "      <td>1</td>\n",
       "      <td>381</td>\n",
       "      <td>2</td>\n",
       "      <td>63629</td>\n",
       "      <td>63629</td>\n",
       "      <td>17</td>\n",
       "      <td>0</td>\n",
       "      <td>0.2</td>\n",
       "      <td>2.9</td>\n",
       "      <td>6.7</td>\n",
       "      <td>6</td>\n",
       "      <td>9</td>\n",
       "      <td>210</td>\n",
       "      <td>0.0</td>\n",
       "      <td>25000</td>\n",
       "      <td>40</td>\n",
       "      <td>7</td>\n",
       "      <td>0</td>\n",
       "    </tr>\n",
       "    <tr>\n",
       "      <th>1</th>\n",
       "      <td>1</td>\n",
       "      <td>2018-02-07</td>\n",
       "      <td>2</td>\n",
       "      <td>382</td>\n",
       "      <td>2</td>\n",
       "      <td>63690</td>\n",
       "      <td>63675</td>\n",
       "      <td>17</td>\n",
       "      <td>0</td>\n",
       "      <td>0.2</td>\n",
       "      <td>2.9</td>\n",
       "      <td>6.7</td>\n",
       "      <td>6</td>\n",
       "      <td>9</td>\n",
       "      <td>210</td>\n",
       "      <td>0.0</td>\n",
       "      <td>25000</td>\n",
       "      <td>40</td>\n",
       "      <td>7</td>\n",
       "      <td>0</td>\n",
       "    </tr>\n",
       "    <tr>\n",
       "      <th>2</th>\n",
       "      <td>2</td>\n",
       "      <td>2018-02-07</td>\n",
       "      <td>3</td>\n",
       "      <td>4451</td>\n",
       "      <td>2</td>\n",
       "      <td>63739</td>\n",
       "      <td>63715</td>\n",
       "      <td>17</td>\n",
       "      <td>0</td>\n",
       "      <td>0.2</td>\n",
       "      <td>2.9</td>\n",
       "      <td>6.7</td>\n",
       "      <td>6</td>\n",
       "      <td>9</td>\n",
       "      <td>210</td>\n",
       "      <td>0.0</td>\n",
       "      <td>25000</td>\n",
       "      <td>40</td>\n",
       "      <td>7</td>\n",
       "      <td>0</td>\n",
       "    </tr>\n",
       "    <tr>\n",
       "      <th>3</th>\n",
       "      <td>3</td>\n",
       "      <td>2018-02-07</td>\n",
       "      <td>4</td>\n",
       "      <td>383</td>\n",
       "      <td>2</td>\n",
       "      <td>63788</td>\n",
       "      <td>63774</td>\n",
       "      <td>17</td>\n",
       "      <td>0</td>\n",
       "      <td>0.2</td>\n",
       "      <td>2.9</td>\n",
       "      <td>6.7</td>\n",
       "      <td>6</td>\n",
       "      <td>9</td>\n",
       "      <td>210</td>\n",
       "      <td>0.0</td>\n",
       "      <td>25000</td>\n",
       "      <td>40</td>\n",
       "      <td>7</td>\n",
       "      <td>0</td>\n",
       "    </tr>\n",
       "    <tr>\n",
       "      <th>4</th>\n",
       "      <td>4</td>\n",
       "      <td>2018-02-07</td>\n",
       "      <td>5</td>\n",
       "      <td>384</td>\n",
       "      <td>2</td>\n",
       "      <td>63824</td>\n",
       "      <td>63824</td>\n",
       "      <td>17</td>\n",
       "      <td>0</td>\n",
       "      <td>0.2</td>\n",
       "      <td>2.9</td>\n",
       "      <td>6.7</td>\n",
       "      <td>6</td>\n",
       "      <td>9</td>\n",
       "      <td>210</td>\n",
       "      <td>0.0</td>\n",
       "      <td>25000</td>\n",
       "      <td>40</td>\n",
       "      <td>7</td>\n",
       "      <td>0</td>\n",
       "    </tr>\n",
       "  </tbody>\n",
       "</table>\n",
       "</div>"
      ],
      "text/plain": [
       "   Unnamed: 0 DAYOFSERVICE  PROGRNUMBER  STOPPOINTID  DIRECTION  \\\n",
       "0           0   2018-02-07            1          381          2   \n",
       "1           1   2018-02-07            2          382          2   \n",
       "2           2   2018-02-07            3         4451          2   \n",
       "3           3   2018-02-07            4          383          2   \n",
       "4           4   2018-02-07            5          384          2   \n",
       "\n",
       "   ACTUALTIME_DEP  ACTUALTIME_ARR  hour  dayofweek  rain  temp  pressure  \\\n",
       "0           63629           63629    17          0   0.2   2.9       6.7   \n",
       "1           63690           63675    17          0   0.2   2.9       6.7   \n",
       "2           63739           63715    17          0   0.2   2.9       6.7   \n",
       "3           63788           63774    17          0   0.2   2.9       6.7   \n",
       "4           63824           63824    17          0   0.2   2.9       6.7   \n",
       "\n",
       "   humidity  wind_speed  wind_dir  sun  visibility  cloud_height  cloud_cover  \\\n",
       "0         6           9       210  0.0       25000            40            7   \n",
       "1         6           9       210  0.0       25000            40            7   \n",
       "2         6           9       210  0.0       25000            40            7   \n",
       "3         6           9       210  0.0       25000            40            7   \n",
       "4         6           9       210  0.0       25000            40            7   \n",
       "\n",
       "   holiday  \n",
       "0        0  \n",
       "1        0  \n",
       "2        0  \n",
       "3        0  \n",
       "4        0  "
      ]
     },
     "execution_count": 54,
     "metadata": {},
     "output_type": "execute_result"
    }
   ],
   "source": [
    "df.head()"
   ]
  },
  {
   "cell_type": "code",
   "execution_count": 55,
   "metadata": {},
   "outputs": [],
   "source": [
    "# drop unrelated columns\n",
    "df = df.drop(columns=['Unnamed: 0','ACTUALTIME_ARR'])"
   ]
  },
  {
   "cell_type": "code",
   "execution_count": 56,
   "metadata": {},
   "outputs": [
    {
     "data": {
      "text/plain": [
       "DAYOFSERVICE        360\n",
       "PROGRNUMBER          43\n",
       "STOPPOINTID          84\n",
       "DIRECTION             2\n",
       "ACTUALTIME_DEP    62658\n",
       "hour                 19\n",
       "dayofweek             2\n",
       "rain                 41\n",
       "temp                292\n",
       "pressure            172\n",
       "humidity             19\n",
       "wind_speed           33\n",
       "wind_dir             36\n",
       "sun                  11\n",
       "visibility           55\n",
       "cloud_height         72\n",
       "cloud_cover           9\n",
       "holiday               3\n",
       "dtype: int64"
      ]
     },
     "execution_count": 56,
     "metadata": {},
     "output_type": "execute_result"
    }
   ],
   "source": [
    "df.nunique()"
   ]
  },
  {
   "cell_type": "code",
   "execution_count": 57,
   "metadata": {},
   "outputs": [
    {
     "data": {
      "text/plain": [
       "DAYOFSERVICE      0\n",
       "PROGRNUMBER       0\n",
       "STOPPOINTID       0\n",
       "DIRECTION         0\n",
       "ACTUALTIME_DEP    0\n",
       "hour              0\n",
       "dayofweek         0\n",
       "rain              0\n",
       "temp              0\n",
       "pressure          0\n",
       "humidity          0\n",
       "wind_speed        0\n",
       "wind_dir          0\n",
       "sun               0\n",
       "visibility        0\n",
       "cloud_height      0\n",
       "cloud_cover       0\n",
       "holiday           0\n",
       "dtype: int64"
      ]
     },
     "execution_count": 57,
     "metadata": {},
     "output_type": "execute_result"
    }
   ],
   "source": [
    "#check if any null column\n",
    "df.isnull().sum()"
   ]
  },
  {
   "cell_type": "code",
   "execution_count": 58,
   "metadata": {
    "scrolled": false
   },
   "outputs": [
    {
     "data": {
      "text/plain": [
       "DAYOFSERVICE       object\n",
       "PROGRNUMBER         int64\n",
       "STOPPOINTID         int64\n",
       "DIRECTION           int64\n",
       "ACTUALTIME_DEP      int64\n",
       "hour                int64\n",
       "dayofweek           int64\n",
       "rain              float64\n",
       "temp              float64\n",
       "pressure          float64\n",
       "humidity            int64\n",
       "wind_speed          int64\n",
       "wind_dir            int64\n",
       "sun               float64\n",
       "visibility          int64\n",
       "cloud_height        int64\n",
       "cloud_cover         int64\n",
       "holiday             int64\n",
       "dtype: object"
      ]
     },
     "execution_count": 58,
     "metadata": {},
     "output_type": "execute_result"
    }
   ],
   "source": [
    "df.dtypes"
   ]
  },
  {
   "cell_type": "code",
   "execution_count": 59,
   "metadata": {},
   "outputs": [],
   "source": [
    "df['DAYOFSERVICE'] = df['DAYOFSERVICE'].astype('datetime64') #convert DAYOFSERVICE to datetime"
   ]
  },
  {
   "cell_type": "code",
   "execution_count": 60,
   "metadata": {
    "scrolled": true
   },
   "outputs": [
    {
     "data": {
      "text/plain": [
       "DAYOFSERVICE         int64\n",
       "PROGRNUMBER          int64\n",
       "STOPPOINTID          int64\n",
       "DIRECTION            int64\n",
       "ACTUALTIME_DEP       int64\n",
       "hour              category\n",
       "dayofweek         category\n",
       "rain               float64\n",
       "temp               float64\n",
       "pressure           float64\n",
       "humidity             int64\n",
       "wind_speed           int64\n",
       "wind_dir             int64\n",
       "sun                float64\n",
       "visibility           int64\n",
       "cloud_height         int64\n",
       "cloud_cover          int64\n",
       "holiday              int64\n",
       "dtype: object"
      ]
     },
     "execution_count": 60,
     "metadata": {},
     "output_type": "execute_result"
    }
   ],
   "source": [
    "#change datatypes of some features\n",
    "df['DAYOFSERVICE']=df['DAYOFSERVICE'].apply(lambda x: x.toordinal()) #then convert it to numeric\n",
    "df['dayofweek'] = df['dayofweek'].astype('category')\n",
    "df['hour'] = df['hour'].astype('category')\n",
    "df.dtypes"
   ]
  },
  {
   "cell_type": "markdown",
   "metadata": {},
   "source": [
    "##### The dataset will now be split into two datasets: 70% training and 30% test\n",
    "- First we will set the target feature \"y\" to be actual departure time\n",
    "- Then we will set \"X\" to be the remaining features in the dataframe"
   ]
  },
  {
   "cell_type": "code",
   "execution_count": 61,
   "metadata": {},
   "outputs": [],
   "source": [
    "y = pd.DataFrame(df[\"ACTUALTIME_DEP\"])\n",
    "X = df.drop([\"ACTUALTIME_DEP\"],1)"
   ]
  },
  {
   "cell_type": "markdown",
   "metadata": {},
   "source": [
    "The data set can now be split\n",
    "The train test split will randomly split the dataset as per the test size\n",
    "We will set the random state=1 to allow the random shuffle to be repeated within this notebook only"
   ]
  },
  {
   "cell_type": "code",
   "execution_count": 62,
   "metadata": {},
   "outputs": [
    {
     "name": "stdout",
     "output_type": "stream",
     "text": [
      "original range is:  1336960\n",
      "training range (70%):\t rows 0 to 935872\n",
      "test range (30%): \t rows 935872 to 1336960\n"
     ]
    }
   ],
   "source": [
    "# Split the dataset into two datasets: 70% training and 30% test\n",
    "X_train, X_test, y_train, y_test = train_test_split(X, y, test_size=0.3,random_state=1)\n",
    "\n",
    "print(\"original range is: \",df.shape[0])\n",
    "print(\"training range (70%):\\t rows 0 to\", round(X_train.shape[0]))\n",
    "print(\"test range (30%): \\t rows\", round(X_train.shape[0]), \"to\", round(X_train.shape[0]) + X_test.shape[0])"
   ]
  },
  {
   "cell_type": "code",
   "execution_count": 63,
   "metadata": {},
   "outputs": [
    {
     "data": {
      "text/plain": [
       "DAYOFSERVICE      int64\n",
       "PROGRNUMBER       int64\n",
       "STOPPOINTID       int64\n",
       "DIRECTION         int64\n",
       "rain            float64\n",
       "temp            float64\n",
       "pressure        float64\n",
       "humidity          int64\n",
       "wind_speed        int64\n",
       "wind_dir          int64\n",
       "sun             float64\n",
       "visibility        int64\n",
       "cloud_height      int64\n",
       "cloud_cover       int64\n",
       "holiday           int64\n",
       "dtype: object"
      ]
     },
     "execution_count": 63,
     "metadata": {},
     "output_type": "execute_result"
    }
   ],
   "source": [
    "continuous_columns = X.select_dtypes(['int64','float64']).columns\n",
    "X[continuous_columns].dtypes"
   ]
  },
  {
   "cell_type": "code",
   "execution_count": 64,
   "metadata": {},
   "outputs": [
    {
     "data": {
      "text/plain": [
       "hour         category\n",
       "dayofweek    category\n",
       "dtype: object"
      ]
     },
     "execution_count": 64,
     "metadata": {},
     "output_type": "execute_result"
    }
   ],
   "source": [
    "categorical_columns = df.select_dtypes(['category']).columns\n",
    "df[categorical_columns].dtypes"
   ]
  },
  {
   "cell_type": "markdown",
   "metadata": {},
   "source": [
    "### On the training set we will now carry out a series of plots comparing all features to help make decisions on what features to keep for the model\n",
    "All plots will be using the training subset of dataset: X_train, y_train"
   ]
  },
  {
   "cell_type": "markdown",
   "metadata": {},
   "source": [
    "### Plot the correlations between all the continuous features."
   ]
  },
  {
   "cell_type": "code",
   "execution_count": 65,
   "metadata": {},
   "outputs": [
    {
     "data": {
      "text/plain": [
       "(array([ 0.5,  1.5,  2.5,  3.5,  4.5,  5.5,  6.5,  7.5,  8.5,  9.5, 10.5,\n",
       "        11.5, 12.5, 13.5, 14.5]), <a list of 15 Text xticklabel objects>)"
      ]
     },
     "execution_count": 65,
     "metadata": {},
     "output_type": "execute_result"
    },
    {
     "data": {
      "image/png": "[encoded data removed]",
      "text/plain": [
       "<Figure size 1440x1440 with 2 Axes>"
      ]
     },
     "metadata": {},
     "output_type": "display_data"
    }
   ],
   "source": [
    "# Correlation matrix using code found on https://stanford.edu/~mwaskom/software/seaborn/examples/many_pairwise_correlations.html\n",
    "sns.set(style=\"white\")\n",
    "\n",
    "# Calculate correlation of all pairs of continuous features\n",
    "corr = X_train[continuous_columns].corr()\n",
    "\n",
    "# Generate a mask for the upper triangle\n",
    "mask = np.zeros_like(corr, dtype=np.bool)\n",
    "mask[np.triu_indices_from(mask)] = True\n",
    "\n",
    "# Set up the matplotlib figure\n",
    "f, ax = plt.subplots(figsize=(20, 20))\n",
    "\n",
    "# Draw the heatmap with the mask and correct aspect ratio\n",
    "sns.heatmap(corr, annot=True, mask=mask, vmax=1, vmin=-1,\n",
    "            square=True, xticklabels=True, yticklabels=True,\n",
    "            linewidths=.5, cbar_kws={\"shrink\": .5}, ax=ax)\n",
    "plt.yticks(rotation = 0)\n",
    "plt.xticks(rotation = 90)"
   ]
  },
  {
   "cell_type": "markdown",
   "metadata": {},
   "source": [
    "Interpretation of the results\n",
    "\n",
    "Strong correlations - We can see clearly from the above heat map that there are a number of features that have \n",
    "strong correlations\n",
    "- 'temp' vs 'pressure' and 'humidity'  (0.84) - This is to be expected - We only need to keep one of these features\n",
    "- 'pressure' vs 'humidity' (1) - This is to be expected - We only need to keep one of these features\n",
    "\n",
    "Weak correlations - We can see some features with no apparent correlation to almost any other features\n",
    "- 'cloud_height' - we will check this feature against the target later and if no strong correlation we can remove then \n",
    "**Current status : Drop pressure, humidity**"
   ]
  },
  {
   "cell_type": "markdown",
   "metadata": {},
   "source": [
    "### Plot interaction between continuous features and target feature\n",
    "Here we will loop over each continuous feature and make a scatter plot against the target 'ACTUALTIME_DEP'\n",
    "We will discuss what we observe from these plots, e.g. which continuous features seem to be better at predicting the target feature\n",
    "We will choose a subset of continuous features we find promising (if any) and justify our choice."
   ]
  },
  {
   "cell_type": "code",
   "execution_count": 66,
   "metadata": {
    "scrolled": true
   },
   "outputs": [
    {
     "name": "stderr",
     "output_type": "stream",
     "text": [
      "'c' argument looks like a single numeric RGB or RGBA sequence, which should be avoided as value-mapping will have precedence in case its length matches with 'x' & 'y'.  Please use a 2-D array with a single row if you really want to specify the same RGB or RGBA value for all points.\n",
      "'c' argument looks like a single numeric RGB or RGBA sequence, which should be avoided as value-mapping will have precedence in case its length matches with 'x' & 'y'.  Please use a 2-D array with a single row if you really want to specify the same RGB or RGBA value for all points.\n",
      "'c' argument looks like a single numeric RGB or RGBA sequence, which should be avoided as value-mapping will have precedence in case its length matches with 'x' & 'y'.  Please use a 2-D array with a single row if you really want to specify the same RGB or RGBA value for all points.\n",
      "'c' argument looks like a single numeric RGB or RGBA sequence, which should be avoided as value-mapping will have precedence in case its length matches with 'x' & 'y'.  Please use a 2-D array with a single row if you really want to specify the same RGB or RGBA value for all points.\n",
      "'c' argument looks like a single numeric RGB or RGBA sequence, which should be avoided as value-mapping will have precedence in case its length matches with 'x' & 'y'.  Please use a 2-D array with a single row if you really want to specify the same RGB or RGBA value for all points.\n",
      "'c' argument looks like a single numeric RGB or RGBA sequence, which should be avoided as value-mapping will have precedence in case its length matches with 'x' & 'y'.  Please use a 2-D array with a single row if you really want to specify the same RGB or RGBA value for all points.\n",
      "'c' argument looks like a single numeric RGB or RGBA sequence, which should be avoided as value-mapping will have precedence in case its length matches with 'x' & 'y'.  Please use a 2-D array with a single row if you really want to specify the same RGB or RGBA value for all points.\n",
      "'c' argument looks like a single numeric RGB or RGBA sequence, which should be avoided as value-mapping will have precedence in case its length matches with 'x' & 'y'.  Please use a 2-D array with a single row if you really want to specify the same RGB or RGBA value for all points.\n",
      "'c' argument looks like a single numeric RGB or RGBA sequence, which should be avoided as value-mapping will have precedence in case its length matches with 'x' & 'y'.  Please use a 2-D array with a single row if you really want to specify the same RGB or RGBA value for all points.\n",
      "'c' argument looks like a single numeric RGB or RGBA sequence, which should be avoided as value-mapping will have precedence in case its length matches with 'x' & 'y'.  Please use a 2-D array with a single row if you really want to specify the same RGB or RGBA value for all points.\n",
      "'c' argument looks like a single numeric RGB or RGBA sequence, which should be avoided as value-mapping will have precedence in case its length matches with 'x' & 'y'.  Please use a 2-D array with a single row if you really want to specify the same RGB or RGBA value for all points.\n",
      "'c' argument looks like a single numeric RGB or RGBA sequence, which should be avoided as value-mapping will have precedence in case its length matches with 'x' & 'y'.  Please use a 2-D array with a single row if you really want to specify the same RGB or RGBA value for all points.\n",
      "'c' argument looks like a single numeric RGB or RGBA sequence, which should be avoided as value-mapping will have precedence in case its length matches with 'x' & 'y'.  Please use a 2-D array with a single row if you really want to specify the same RGB or RGBA value for all points.\n",
      "'c' argument looks like a single numeric RGB or RGBA sequence, which should be avoided as value-mapping will have precedence in case its length matches with 'x' & 'y'.  Please use a 2-D array with a single row if you really want to specify the same RGB or RGBA value for all points.\n",
      "'c' argument looks like a single numeric RGB or RGBA sequence, which should be avoided as value-mapping will have precedence in case its length matches with 'x' & 'y'.  Please use a 2-D array with a single row if you really want to specify the same RGB or RGBA value for all points.\n"
     ]
    },
    {
     "data": {
      "text/html": [
       "<div>\n",
       "<style scoped>\n",
       "    .dataframe tbody tr th:only-of-type {\n",
       "        vertical-align: middle;\n",
       "    }\n",
       "\n",
       "    .dataframe tbody tr th {\n",
       "        vertical-align: top;\n",
       "    }\n",
       "\n",
       "    .dataframe thead th {\n",
       "        text-align: right;\n",
       "    }\n",
       "</style>\n",
       "<table border=\"1\" class=\"dataframe\">\n",
       "  <thead>\n",
       "    <tr style=\"text-align: right;\">\n",
       "      <th></th>\n",
       "      <th>ACTUALTIME_DEP</th>\n",
       "    </tr>\n",
       "  </thead>\n",
       "  <tbody>\n",
       "    <tr>\n",
       "      <th>PROGRNUMBER</th>\n",
       "      <td>0.124312</td>\n",
       "    </tr>\n",
       "    <tr>\n",
       "      <th>cloud_height</th>\n",
       "      <td>0.061370</td>\n",
       "    </tr>\n",
       "    <tr>\n",
       "      <th>visibility</th>\n",
       "      <td>0.024849</td>\n",
       "    </tr>\n",
       "    <tr>\n",
       "      <th>holiday</th>\n",
       "      <td>0.016677</td>\n",
       "    </tr>\n",
       "    <tr>\n",
       "      <th>STOPPOINTID</th>\n",
       "      <td>-0.000574</td>\n",
       "    </tr>\n",
       "    <tr>\n",
       "      <th>humidity</th>\n",
       "      <td>-0.007856</td>\n",
       "    </tr>\n",
       "    <tr>\n",
       "      <th>pressure</th>\n",
       "      <td>-0.008377</td>\n",
       "    </tr>\n",
       "    <tr>\n",
       "      <th>temp</th>\n",
       "      <td>-0.009682</td>\n",
       "    </tr>\n",
       "    <tr>\n",
       "      <th>DAYOFSERVICE</th>\n",
       "      <td>-0.023906</td>\n",
       "    </tr>\n",
       "    <tr>\n",
       "      <th>DIRECTION</th>\n",
       "      <td>-0.026662</td>\n",
       "    </tr>\n",
       "    <tr>\n",
       "      <th>rain</th>\n",
       "      <td>-0.037682</td>\n",
       "    </tr>\n",
       "    <tr>\n",
       "      <th>wind_dir</th>\n",
       "      <td>-0.046108</td>\n",
       "    </tr>\n",
       "    <tr>\n",
       "      <th>cloud_cover</th>\n",
       "      <td>-0.055818</td>\n",
       "    </tr>\n",
       "    <tr>\n",
       "      <th>wind_speed</th>\n",
       "      <td>-0.070671</td>\n",
       "    </tr>\n",
       "    <tr>\n",
       "      <th>sun</th>\n",
       "      <td>-0.228689</td>\n",
       "    </tr>\n",
       "  </tbody>\n",
       "</table>\n",
       "</div>"
      ],
      "text/plain": [
       "              ACTUALTIME_DEP\n",
       "PROGRNUMBER         0.124312\n",
       "cloud_height        0.061370\n",
       "visibility          0.024849\n",
       "holiday             0.016677\n",
       "STOPPOINTID        -0.000574\n",
       "humidity           -0.007856\n",
       "pressure           -0.008377\n",
       "temp               -0.009682\n",
       "DAYOFSERVICE       -0.023906\n",
       "DIRECTION          -0.026662\n",
       "rain               -0.037682\n",
       "wind_dir           -0.046108\n",
       "cloud_cover        -0.055818\n",
       "wind_speed         -0.070671\n",
       "sun                -0.228689"
      ]
     },
     "execution_count": 66,
     "metadata": {},
     "output_type": "execute_result"
    },
    {
     "data": {
      "image/png": "[encoded data removed]",
      "text/plain": [
       "<Figure size 432x288 with 1 Axes>"
      ]
     },
     "metadata": {},
     "output_type": "display_data"
    },
    {
     "data": {
      "image/png": "[encoded data removed]",
      "text/plain": [
       "<Figure size 432x288 with 1 Axes>"
      ]
     },
     "metadata": {},
     "output_type": "display_data"
    },
    {
     "data": {
      "image/png": "[encoded data removed]",
      "text/plain": [
       "<Figure size 432x288 with 1 Axes>"
      ]
     },
     "metadata": {},
     "output_type": "display_data"
    },
    {
     "data": {
      "image/png": "[encoded data removed]",
      "text/plain": [
       "<Figure size 432x288 with 1 Axes>"
      ]
     },
     "metadata": {},
     "output_type": "display_data"
    },
    {
     "data": {
      "image/png": "[encoded data removed]",
      "text/plain": [
       "<Figure size 432x288 with 1 Axes>"
      ]
     },
     "metadata": {},
     "output_type": "display_data"
    },
    {
     "data": {
      "image/png": "[encoded data removed]",
      "text/plain": [
       "<Figure size 432x288 with 1 Axes>"
      ]
     },
     "metadata": {},
     "output_type": "display_data"
    },
    {
     "data": {
      "image/png": "[encoded data removed]",
      "text/plain": [
       "<Figure size 432x288 with 1 Axes>"
      ]
     },
     "metadata": {},
     "output_type": "display_data"
    },
    {
     "data": {
      "image/png": "[encoded data removed]",
      "text/plain": [
       "<Figure size 432x288 with 1 Axes>"
      ]
     },
     "metadata": {},
     "output_type": "display_data"
    },
    {
     "data": {
      "image/png": "[encoded data removed]",
      "text/plain": [
       "<Figure size 432x288 with 1 Axes>"
      ]
     },
     "metadata": {},
     "output_type": "display_data"
    },
    {
     "data": {
      "image/png": "[encoded data removed]",
      "text/plain": [
       "<Figure size 432x288 with 1 Axes>"
      ]
     },
     "metadata": {},
     "output_type": "display_data"
    },
    {
     "data": {
      "image/png": "[encoded data removed]",
      "text/plain": [
       "<Figure size 432x288 with 1 Axes>"
      ]
     },
     "metadata": {},
     "output_type": "display_data"
    },
    {
     "data": {
      "image/png": "[encoded data removed]",
      "text/plain": [
       "<Figure size 432x288 with 1 Axes>"
      ]
     },
     "metadata": {},
     "output_type": "display_data"
    },
    {
     "data": {
      "image/png": "[encoded data removed]",
      "text/plain": [
       "<Figure size 432x288 with 1 Axes>"
      ]
     },
     "metadata": {},
     "output_type": "display_data"
    },
    {
     "data": {
      "image/png": "[encoded data removed]",
      "text/plain": [
       "<Figure size 432x288 with 1 Axes>"
      ]
     },
     "metadata": {},
     "output_type": "display_data"
    },
    {
     "data": {
      "image/png": "[encoded data removed]",
      "text/plain": [
       "<Figure size 432x288 with 1 Axes>"
      ]
     },
     "metadata": {},
     "output_type": "display_data"
    }
   ],
   "source": [
    "# dict to hold correlation values \n",
    "corr_dict = {}\n",
    "\n",
    "# plot pairwise interaction between all continuous features and target\n",
    "for column in X_train[continuous_columns]:\n",
    "    # create temp df to merge column and target\n",
    "    df_temp = pd.concat([X_train[column], y_train], axis=1)\n",
    "    # store correlation in variable\n",
    "    correlation = df_temp[[column, \"ACTUALTIME_DEP\"]].corr().values[0,1]\n",
    "    # plot the column and tartget feature\n",
    "    df_temp.plot(kind='scatter', x=column, y=\"ACTUALTIME_DEP\", label=\"%.3f\" % correlation)\n",
    "    # add correlation to dict\n",
    "    corr_dict[column] = correlation\n",
    "\n",
    "# dataframe holding sorted correlation values to aid in interpreting results\n",
    "corr_df = pd.DataFrame.from_dict(corr_dict, orient='index', columns=['ACTUALTIME_DEP']).sort_values('ACTUALTIME_DEP', ascending=False)\n",
    "corr_df"
   ]
  },
  {
   "cell_type": "markdown",
   "metadata": {},
   "source": [
    "We can see from above that DAYOFSERVICE, rain, wind_dir, cloud_cover, wind_speed and DIRECTION and sun all have weak correlation with ACTUALTIME_DEP, so they will be dropped."
   ]
  },
  {
   "cell_type": "code",
   "execution_count": 67,
   "metadata": {},
   "outputs": [],
   "source": [
    "low_information_gain = ['DAYOFSERVICE','rain', 'wind_dir','cloud_cover','wind_speed','DIRECTION','pressure','humidity','sun']"
   ]
  },
  {
   "cell_type": "markdown",
   "metadata": {},
   "source": [
    "### Plot interaction between categorical features and target feature"
   ]
  },
  {
   "cell_type": "code",
   "execution_count": 68,
   "metadata": {},
   "outputs": [
    {
     "data": {
      "text/plain": [
       "<matplotlib.axes._subplots.AxesSubplot at 0x1a4b93c198>"
      ]
     },
     "execution_count": 68,
     "metadata": {},
     "output_type": "execute_result"
    },
    {
     "data": {
      "text/plain": [
       "<Figure size 432x288 with 0 Axes>"
      ]
     },
     "metadata": {},
     "output_type": "display_data"
    },
    {
     "data": {
      "image/png": "[encoded data removed]",
      "text/plain": [
       "<Figure size 720x504 with 1 Axes>"
      ]
     },
     "metadata": {},
     "output_type": "display_data"
    }
   ],
   "source": [
    "plt.figure()\n",
    "flierprops = dict(marker='o', markerfacecolor='green', markersize=6,\n",
    "                  linestyle='none')\n",
    "df.boxplot(column=['ACTUALTIME_DEP'], by=['dayofweek'], flierprops=flierprops, figsize=(10,7))"
   ]
  },
  {
   "cell_type": "code",
   "execution_count": 69,
   "metadata": {
    "scrolled": false
   },
   "outputs": [
    {
     "data": {
      "text/plain": [
       "<matplotlib.axes._subplots.AxesSubplot at 0x1aa8ee6080>"
      ]
     },
     "execution_count": 69,
     "metadata": {},
     "output_type": "execute_result"
    },
    {
     "data": {
      "text/plain": [
       "<Figure size 432x288 with 0 Axes>"
      ]
     },
     "metadata": {},
     "output_type": "display_data"
    },
    {
     "data": {
      "image/png": "[encoded data removed]",
      "text/plain": [
       "<Figure size 720x504 with 1 Axes>"
      ]
     },
     "metadata": {},
     "output_type": "display_data"
    }
   ],
   "source": [
    "plt.figure()\n",
    "flierprops = dict(marker='o', markerfacecolor='green', markersize=6,\n",
    "                  linestyle='none')\n",
    "df.boxplot(column=['ACTUALTIME_DEP'], by=['hour'], flierprops=flierprops, figsize=(10,7))"
   ]
  },
  {
   "cell_type": "code",
   "execution_count": null,
   "metadata": {},
   "outputs": [],
   "source": []
  },
  {
   "cell_type": "code",
   "execution_count": 70,
   "metadata": {},
   "outputs": [
    {
     "name": "stdout",
     "output_type": "stream",
     "text": [
      "\n",
      "Remaining columns: Index(['PROGRNUMBER', 'STOPPOINTID', 'ACTUALTIME_DEP', 'hour', 'dayofweek',\n",
      "       'temp', 'visibility', 'cloud_height', 'holiday'],\n",
      "      dtype='object')\n",
      "\n",
      "New shape: (1336960, 9)\n"
     ]
    }
   ],
   "source": [
    "# drop the useless column\n",
    "df_rev1 = df.copy()\n",
    "# drop low value features\n",
    "df_rev1.drop(low_information_gain, 1, inplace=True)\n",
    "print('\\nRemaining columns:', df_rev1.columns)\n",
    "print('\\nNew shape:', df_rev1.shape)"
   ]
  },
  {
   "cell_type": "code",
   "execution_count": 71,
   "metadata": {},
   "outputs": [
    {
     "data": {
      "text/plain": [
       "PROGRNUMBER         int64\n",
       "STOPPOINTID         int64\n",
       "ACTUALTIME_DEP      int64\n",
       "temp              float64\n",
       "visibility          int64\n",
       "cloud_height        int64\n",
       "holiday             int64\n",
       "hour_0              uint8\n",
       "hour_6              uint8\n",
       "hour_7              uint8\n",
       "hour_8              uint8\n",
       "hour_9              uint8\n",
       "hour_10             uint8\n",
       "hour_11             uint8\n",
       "hour_12             uint8\n",
       "hour_13             uint8\n",
       "hour_14             uint8\n",
       "hour_15             uint8\n",
       "hour_16             uint8\n",
       "hour_17             uint8\n",
       "hour_18             uint8\n",
       "hour_19             uint8\n",
       "hour_20             uint8\n",
       "hour_21             uint8\n",
       "hour_22             uint8\n",
       "hour_23             uint8\n",
       "dayofweek_0         uint8\n",
       "dayofweek_1         uint8\n",
       "dtype: object"
      ]
     },
     "execution_count": 71,
     "metadata": {},
     "output_type": "execute_result"
    }
   ],
   "source": [
    "# set up dummies features\n",
    "df_rev1 = pd.get_dummies(df_rev1)\n",
    "df_rev1.dtypes"
   ]
  },
  {
   "cell_type": "code",
   "execution_count": 72,
   "metadata": {},
   "outputs": [
    {
     "name": "stdout",
     "output_type": "stream",
     "text": [
      "original range is:  1336960\n",
      "training range (70%):\t rows 0 to 935872\n",
      "test range (30%): \t rows 935872 to 1336960\n"
     ]
    }
   ],
   "source": [
    "# y is the target\n",
    "y = df_rev1[\"ACTUALTIME_DEP\"]\n",
    "# X is everything else\n",
    "X = df_rev1.drop([\"ACTUALTIME_DEP\"],1)\n",
    "# Split the dataset into two datasets: 70% training and 30% test\n",
    "X_train, X_test, y_train, y_test = train_test_split(X, y, random_state=1,  test_size=0.3)\n",
    "\n",
    "print(\"original range is: \",df_rev1.shape[0])\n",
    "print(\"training range (70%):\\t rows 0 to\", round(X_train.shape[0]))\n",
    "print(\"test range (30%): \\t rows\", round(X_train.shape[0]), \"to\", round(X_train.shape[0]) + X_test.shape[0])"
   ]
  },
  {
   "cell_type": "code",
   "execution_count": 73,
   "metadata": {},
   "outputs": [
    {
     "name": "stdout",
     "output_type": "stream",
     "text": [
      "\n",
      "Descriptive features in X:\n",
      "          PROGRNUMBER  STOPPOINTID  temp  visibility  cloud_height  holiday  \\\n",
      "1288841            8          388  15.9       50000            22        0   \n",
      "1117186            1          381   5.8       30000           999        0   \n",
      "57975             20           51   7.5       17000            12        0   \n",
      "1083035           20           51  15.3       35000            42        0   \n",
      "225249            28          353   7.2       20000            25        0   \n",
      "\n",
      "         hour_0  hour_6  hour_7  hour_8  ...  hour_16  hour_17  hour_18  \\\n",
      "1288841       0       0       0       0  ...        0        0        0   \n",
      "1117186       0       1       0       0  ...        0        0        0   \n",
      "57975         0       0       0       0  ...        0        0        0   \n",
      "1083035       0       0       0       0  ...        0        0        0   \n",
      "225249        0       0       0       0  ...        0        0        0   \n",
      "\n",
      "         hour_19  hour_20  hour_21  hour_22  hour_23  dayofweek_0  dayofweek_1  \n",
      "1288841        0        0        0        0        0            1            0  \n",
      "1117186        0        0        0        0        0            1            0  \n",
      "57975          0        0        0        0        0            1            0  \n",
      "1083035        0        0        0        0        0            1            0  \n",
      "225249         0        0        0        0        1            0            1  \n",
      "\n",
      "[5 rows x 27 columns]\n",
      "\n",
      "Target feature in y:\n",
      " 1288841    53120\n",
      "1117186    24618\n",
      "57975      42203\n",
      "1083035    49032\n",
      "225249     85055\n",
      "Name: ACTUALTIME_DEP, dtype: int64\n"
     ]
    }
   ],
   "source": [
    "print(\"\\nDescriptive features in X:\\n\", X_train.head(5))\n",
    "print(\"\\nTarget feature in y:\\n\", y_train.head(5))"
   ]
  },
  {
   "cell_type": "code",
   "execution_count": 74,
   "metadata": {},
   "outputs": [
    {
     "data": {
      "text/html": [
       "<div>\n",
       "<style scoped>\n",
       "    .dataframe tbody tr th:only-of-type {\n",
       "        vertical-align: middle;\n",
       "    }\n",
       "\n",
       "    .dataframe tbody tr th {\n",
       "        vertical-align: top;\n",
       "    }\n",
       "\n",
       "    .dataframe thead th {\n",
       "        text-align: right;\n",
       "    }\n",
       "</style>\n",
       "<table border=\"1\" class=\"dataframe\">\n",
       "  <thead>\n",
       "    <tr style=\"text-align: right;\">\n",
       "      <th></th>\n",
       "      <th>PROGRNUMBER</th>\n",
       "      <th>STOPPOINTID</th>\n",
       "      <th>temp</th>\n",
       "      <th>visibility</th>\n",
       "      <th>cloud_height</th>\n",
       "      <th>holiday</th>\n",
       "      <th>hour_0</th>\n",
       "      <th>hour_6</th>\n",
       "      <th>hour_7</th>\n",
       "      <th>hour_8</th>\n",
       "      <th>...</th>\n",
       "      <th>hour_16</th>\n",
       "      <th>hour_17</th>\n",
       "      <th>hour_18</th>\n",
       "      <th>hour_19</th>\n",
       "      <th>hour_20</th>\n",
       "      <th>hour_21</th>\n",
       "      <th>hour_22</th>\n",
       "      <th>hour_23</th>\n",
       "      <th>dayofweek_0</th>\n",
       "      <th>dayofweek_1</th>\n",
       "    </tr>\n",
       "  </thead>\n",
       "  <tbody>\n",
       "    <tr>\n",
       "      <th>1288841</th>\n",
       "      <td>8</td>\n",
       "      <td>388</td>\n",
       "      <td>15.9</td>\n",
       "      <td>50000</td>\n",
       "      <td>22</td>\n",
       "      <td>0</td>\n",
       "      <td>0</td>\n",
       "      <td>0</td>\n",
       "      <td>0</td>\n",
       "      <td>0</td>\n",
       "      <td>...</td>\n",
       "      <td>0</td>\n",
       "      <td>0</td>\n",
       "      <td>0</td>\n",
       "      <td>0</td>\n",
       "      <td>0</td>\n",
       "      <td>0</td>\n",
       "      <td>0</td>\n",
       "      <td>0</td>\n",
       "      <td>1</td>\n",
       "      <td>0</td>\n",
       "    </tr>\n",
       "    <tr>\n",
       "      <th>1117186</th>\n",
       "      <td>1</td>\n",
       "      <td>381</td>\n",
       "      <td>5.8</td>\n",
       "      <td>30000</td>\n",
       "      <td>999</td>\n",
       "      <td>0</td>\n",
       "      <td>0</td>\n",
       "      <td>1</td>\n",
       "      <td>0</td>\n",
       "      <td>0</td>\n",
       "      <td>...</td>\n",
       "      <td>0</td>\n",
       "      <td>0</td>\n",
       "      <td>0</td>\n",
       "      <td>0</td>\n",
       "      <td>0</td>\n",
       "      <td>0</td>\n",
       "      <td>0</td>\n",
       "      <td>0</td>\n",
       "      <td>1</td>\n",
       "      <td>0</td>\n",
       "    </tr>\n",
       "    <tr>\n",
       "      <th>57975</th>\n",
       "      <td>20</td>\n",
       "      <td>51</td>\n",
       "      <td>7.5</td>\n",
       "      <td>17000</td>\n",
       "      <td>12</td>\n",
       "      <td>0</td>\n",
       "      <td>0</td>\n",
       "      <td>0</td>\n",
       "      <td>0</td>\n",
       "      <td>0</td>\n",
       "      <td>...</td>\n",
       "      <td>0</td>\n",
       "      <td>0</td>\n",
       "      <td>0</td>\n",
       "      <td>0</td>\n",
       "      <td>0</td>\n",
       "      <td>0</td>\n",
       "      <td>0</td>\n",
       "      <td>0</td>\n",
       "      <td>1</td>\n",
       "      <td>0</td>\n",
       "    </tr>\n",
       "    <tr>\n",
       "      <th>1083035</th>\n",
       "      <td>20</td>\n",
       "      <td>51</td>\n",
       "      <td>15.3</td>\n",
       "      <td>35000</td>\n",
       "      <td>42</td>\n",
       "      <td>0</td>\n",
       "      <td>0</td>\n",
       "      <td>0</td>\n",
       "      <td>0</td>\n",
       "      <td>0</td>\n",
       "      <td>...</td>\n",
       "      <td>0</td>\n",
       "      <td>0</td>\n",
       "      <td>0</td>\n",
       "      <td>0</td>\n",
       "      <td>0</td>\n",
       "      <td>0</td>\n",
       "      <td>0</td>\n",
       "      <td>0</td>\n",
       "      <td>1</td>\n",
       "      <td>0</td>\n",
       "    </tr>\n",
       "    <tr>\n",
       "      <th>225249</th>\n",
       "      <td>28</td>\n",
       "      <td>353</td>\n",
       "      <td>7.2</td>\n",
       "      <td>20000</td>\n",
       "      <td>25</td>\n",
       "      <td>0</td>\n",
       "      <td>0</td>\n",
       "      <td>0</td>\n",
       "      <td>0</td>\n",
       "      <td>0</td>\n",
       "      <td>...</td>\n",
       "      <td>0</td>\n",
       "      <td>0</td>\n",
       "      <td>0</td>\n",
       "      <td>0</td>\n",
       "      <td>0</td>\n",
       "      <td>0</td>\n",
       "      <td>0</td>\n",
       "      <td>1</td>\n",
       "      <td>0</td>\n",
       "      <td>1</td>\n",
       "    </tr>\n",
       "  </tbody>\n",
       "</table>\n",
       "<p>5 rows × 27 columns</p>\n",
       "</div>"
      ],
      "text/plain": [
       "         PROGRNUMBER  STOPPOINTID  temp  visibility  cloud_height  holiday  \\\n",
       "1288841            8          388  15.9       50000            22        0   \n",
       "1117186            1          381   5.8       30000           999        0   \n",
       "57975             20           51   7.5       17000            12        0   \n",
       "1083035           20           51  15.3       35000            42        0   \n",
       "225249            28          353   7.2       20000            25        0   \n",
       "\n",
       "         hour_0  hour_6  hour_7  hour_8  ...  hour_16  hour_17  hour_18  \\\n",
       "1288841       0       0       0       0  ...        0        0        0   \n",
       "1117186       0       1       0       0  ...        0        0        0   \n",
       "57975         0       0       0       0  ...        0        0        0   \n",
       "1083035       0       0       0       0  ...        0        0        0   \n",
       "225249        0       0       0       0  ...        0        0        0   \n",
       "\n",
       "         hour_19  hour_20  hour_21  hour_22  hour_23  dayofweek_0  dayofweek_1  \n",
       "1288841        0        0        0        0        0            1            0  \n",
       "1117186        0        0        0        0        0            1            0  \n",
       "57975          0        0        0        0        0            1            0  \n",
       "1083035        0        0        0        0        0            1            0  \n",
       "225249         0        0        0        0        1            0            1  \n",
       "\n",
       "[5 rows x 27 columns]"
      ]
     },
     "execution_count": 74,
     "metadata": {},
     "output_type": "execute_result"
    }
   ],
   "source": [
    "X_train.head(5)"
   ]
  },
  {
   "cell_type": "code",
   "execution_count": 75,
   "metadata": {},
   "outputs": [
    {
     "data": {
      "text/html": [
       "<div>\n",
       "<style scoped>\n",
       "    .dataframe tbody tr th:only-of-type {\n",
       "        vertical-align: middle;\n",
       "    }\n",
       "\n",
       "    .dataframe tbody tr th {\n",
       "        vertical-align: top;\n",
       "    }\n",
       "\n",
       "    .dataframe thead th {\n",
       "        text-align: right;\n",
       "    }\n",
       "</style>\n",
       "<table border=\"1\" class=\"dataframe\">\n",
       "  <thead>\n",
       "    <tr style=\"text-align: right;\">\n",
       "      <th></th>\n",
       "      <th>PROGRNUMBER</th>\n",
       "      <th>STOPPOINTID</th>\n",
       "      <th>temp</th>\n",
       "      <th>visibility</th>\n",
       "      <th>cloud_height</th>\n",
       "      <th>holiday</th>\n",
       "      <th>hour_0</th>\n",
       "      <th>hour_6</th>\n",
       "      <th>hour_7</th>\n",
       "      <th>hour_8</th>\n",
       "      <th>...</th>\n",
       "      <th>hour_16</th>\n",
       "      <th>hour_17</th>\n",
       "      <th>hour_18</th>\n",
       "      <th>hour_19</th>\n",
       "      <th>hour_20</th>\n",
       "      <th>hour_21</th>\n",
       "      <th>hour_22</th>\n",
       "      <th>hour_23</th>\n",
       "      <th>dayofweek_0</th>\n",
       "      <th>dayofweek_1</th>\n",
       "    </tr>\n",
       "  </thead>\n",
       "  <tbody>\n",
       "    <tr>\n",
       "      <th>0</th>\n",
       "      <td>8</td>\n",
       "      <td>388</td>\n",
       "      <td>15.9</td>\n",
       "      <td>50000</td>\n",
       "      <td>22</td>\n",
       "      <td>0</td>\n",
       "      <td>0</td>\n",
       "      <td>0</td>\n",
       "      <td>0</td>\n",
       "      <td>0</td>\n",
       "      <td>...</td>\n",
       "      <td>0</td>\n",
       "      <td>0</td>\n",
       "      <td>0</td>\n",
       "      <td>0</td>\n",
       "      <td>0</td>\n",
       "      <td>0</td>\n",
       "      <td>0</td>\n",
       "      <td>0</td>\n",
       "      <td>1</td>\n",
       "      <td>0</td>\n",
       "    </tr>\n",
       "    <tr>\n",
       "      <th>1</th>\n",
       "      <td>1</td>\n",
       "      <td>381</td>\n",
       "      <td>5.8</td>\n",
       "      <td>30000</td>\n",
       "      <td>999</td>\n",
       "      <td>0</td>\n",
       "      <td>0</td>\n",
       "      <td>1</td>\n",
       "      <td>0</td>\n",
       "      <td>0</td>\n",
       "      <td>...</td>\n",
       "      <td>0</td>\n",
       "      <td>0</td>\n",
       "      <td>0</td>\n",
       "      <td>0</td>\n",
       "      <td>0</td>\n",
       "      <td>0</td>\n",
       "      <td>0</td>\n",
       "      <td>0</td>\n",
       "      <td>1</td>\n",
       "      <td>0</td>\n",
       "    </tr>\n",
       "    <tr>\n",
       "      <th>2</th>\n",
       "      <td>20</td>\n",
       "      <td>51</td>\n",
       "      <td>7.5</td>\n",
       "      <td>17000</td>\n",
       "      <td>12</td>\n",
       "      <td>0</td>\n",
       "      <td>0</td>\n",
       "      <td>0</td>\n",
       "      <td>0</td>\n",
       "      <td>0</td>\n",
       "      <td>...</td>\n",
       "      <td>0</td>\n",
       "      <td>0</td>\n",
       "      <td>0</td>\n",
       "      <td>0</td>\n",
       "      <td>0</td>\n",
       "      <td>0</td>\n",
       "      <td>0</td>\n",
       "      <td>0</td>\n",
       "      <td>1</td>\n",
       "      <td>0</td>\n",
       "    </tr>\n",
       "    <tr>\n",
       "      <th>3</th>\n",
       "      <td>20</td>\n",
       "      <td>51</td>\n",
       "      <td>15.3</td>\n",
       "      <td>35000</td>\n",
       "      <td>42</td>\n",
       "      <td>0</td>\n",
       "      <td>0</td>\n",
       "      <td>0</td>\n",
       "      <td>0</td>\n",
       "      <td>0</td>\n",
       "      <td>...</td>\n",
       "      <td>0</td>\n",
       "      <td>0</td>\n",
       "      <td>0</td>\n",
       "      <td>0</td>\n",
       "      <td>0</td>\n",
       "      <td>0</td>\n",
       "      <td>0</td>\n",
       "      <td>0</td>\n",
       "      <td>1</td>\n",
       "      <td>0</td>\n",
       "    </tr>\n",
       "    <tr>\n",
       "      <th>4</th>\n",
       "      <td>28</td>\n",
       "      <td>353</td>\n",
       "      <td>7.2</td>\n",
       "      <td>20000</td>\n",
       "      <td>25</td>\n",
       "      <td>0</td>\n",
       "      <td>0</td>\n",
       "      <td>0</td>\n",
       "      <td>0</td>\n",
       "      <td>0</td>\n",
       "      <td>...</td>\n",
       "      <td>0</td>\n",
       "      <td>0</td>\n",
       "      <td>0</td>\n",
       "      <td>0</td>\n",
       "      <td>0</td>\n",
       "      <td>0</td>\n",
       "      <td>0</td>\n",
       "      <td>1</td>\n",
       "      <td>0</td>\n",
       "      <td>1</td>\n",
       "    </tr>\n",
       "  </tbody>\n",
       "</table>\n",
       "<p>5 rows × 27 columns</p>\n",
       "</div>"
      ],
      "text/plain": [
       "   PROGRNUMBER  STOPPOINTID  temp  visibility  cloud_height  holiday  hour_0  \\\n",
       "0            8          388  15.9       50000            22        0       0   \n",
       "1            1          381   5.8       30000           999        0       0   \n",
       "2           20           51   7.5       17000            12        0       0   \n",
       "3           20           51  15.3       35000            42        0       0   \n",
       "4           28          353   7.2       20000            25        0       0   \n",
       "\n",
       "   hour_6  hour_7  hour_8  ...  hour_16  hour_17  hour_18  hour_19  hour_20  \\\n",
       "0       0       0       0  ...        0        0        0        0        0   \n",
       "1       1       0       0  ...        0        0        0        0        0   \n",
       "2       0       0       0  ...        0        0        0        0        0   \n",
       "3       0       0       0  ...        0        0        0        0        0   \n",
       "4       0       0       0  ...        0        0        0        0        0   \n",
       "\n",
       "   hour_21  hour_22  hour_23  dayofweek_0  dayofweek_1  \n",
       "0        0        0        0            1            0  \n",
       "1        0        0        0            1            0  \n",
       "2        0        0        0            1            0  \n",
       "3        0        0        0            1            0  \n",
       "4        0        0        1            0            1  \n",
       "\n",
       "[5 rows x 27 columns]"
      ]
     },
     "execution_count": 75,
     "metadata": {},
     "output_type": "execute_result"
    }
   ],
   "source": [
    "# need to reset the index to allow contatenation with predicted values otherwise not joining on same index...\n",
    "X_train.reset_index(drop=True, inplace=True)\n",
    "y_train.reset_index(drop=True, inplace=True)\n",
    "X_test.reset_index(drop=True, inplace=True)\n",
    "y_test.reset_index(drop=True, inplace=True)\n",
    "X_train.head(5)"
   ]
  },
  {
   "cell_type": "markdown",
   "metadata": {},
   "source": [
    "### build linear regression model"
   ]
  },
  {
   "cell_type": "code",
   "execution_count": 76,
   "metadata": {},
   "outputs": [],
   "source": [
    "# Train aka fit, a model using all continuous and categorical features.\n",
    "multiple_linreg = LinearRegression().fit(X_train, y_train)"
   ]
  },
  {
   "cell_type": "code",
   "execution_count": 77,
   "metadata": {
    "scrolled": true
   },
   "outputs": [
    {
     "name": "stdout",
     "output_type": "stream",
     "text": [
      "\n",
      "Features are: \n",
      " Index(['PROGRNUMBER', 'STOPPOINTID', 'temp', 'visibility', 'cloud_height',\n",
      "       'holiday', 'hour_0', 'hour_6', 'hour_7', 'hour_8', 'hour_9', 'hour_10',\n",
      "       'hour_11', 'hour_12', 'hour_13', 'hour_14', 'hour_15', 'hour_16',\n",
      "       'hour_17', 'hour_18', 'hour_19', 'hour_20', 'hour_21', 'hour_22',\n",
      "       'hour_23', 'dayofweek_0', 'dayofweek_1'],\n",
      "      dtype='object')\n",
      "\n",
      "Coeficients are: \n",
      " [ 8.43858815e+00  2.64135624e-03 -1.95499834e-01 -1.64430465e-04\n",
      " -3.36305301e-03 -7.70498854e-01  3.10246364e+04 -3.11360350e+04\n",
      " -2.86005849e+04 -2.51366001e+04 -2.15581919e+04 -1.79853897e+04\n",
      " -1.43698898e+04 -1.07313360e+04 -7.12659487e+03 -3.55682191e+03\n",
      "  4.65204088e+01  3.64269340e+03  7.24522847e+03  1.08134077e+04\n",
      "  1.42968041e+04  1.79367073e+04  2.15082035e+04  2.51003554e+04\n",
      "  2.85868875e+04 -2.89462613e+00  2.89462613e+00]\n",
      "\n",
      "Intercept is: \n",
      " 55544.15240776671\n",
      "\n",
      "Features and coeficients: \n",
      " [('PROGRNUMBER', 8.43858815057364), ('STOPPOINTID', 0.0026413562444671684), ('temp', -0.1954998337901218), ('visibility', -0.0001644304652583562), ('cloud_height', -0.0033630530139335314), ('holiday', -0.7704988544712034), ('hour_0', 31024.636442914492), ('hour_6', -31136.035019354797), ('hour_7', -28600.584924677576), ('hour_8', -25136.600122279302), ('hour_9', -21558.191904287673), ('hour_10', -17985.389705168647), ('hour_11', -14369.889805839795), ('hour_12', -10731.33597058347), ('hour_13', -7126.594872908357), ('hour_14', -3556.821913720185), ('hour_15', 46.5204088468453), ('hour_16', 3642.6934018103225), ('hour_17', 7245.228465375851), ('hour_18', 10813.407703352063), ('hour_19', 14296.80410751443), ('hour_20', 17936.707280373357), ('hour_21', 21508.20353229824), ('hour_22', 25100.355370795976), ('hour_23', 28586.887524470494), ('dayofweek_0', -2.8946261280545977), ('dayofweek_1', 2.8946261280582357)]\n"
     ]
    }
   ],
   "source": [
    "# Print the weights learned for each feature.\n",
    "print(\"\\nFeatures are: \\n\", X_train.columns)\n",
    "print(\"\\nCoeficients are: \\n\", multiple_linreg.coef_)\n",
    "print(\"\\nIntercept is: \\n\", multiple_linreg.intercept_)\n",
    "print(\"\\nFeatures and coeficients: \\n\", list(zip(X_train.columns, multiple_linreg.coef_)))"
   ]
  },
  {
   "cell_type": "code",
   "execution_count": 78,
   "metadata": {},
   "outputs": [
    {
     "name": "stdout",
     "output_type": "stream",
     "text": [
      "\n",
      "Predictions with multiple linear regression: \n",
      "\n",
      "    ACTUALTIME_DEP     Predicted\n",
      "0            53120  52041.565462\n",
      "1            24618  24405.241204\n",
      "2            42203  41335.972525\n",
      "3            49032  48574.681919\n",
      "4            85055  84366.367141\n",
      "..             ...           ...\n",
      "95           85036  84262.734651\n",
      "96           45342  45087.001323\n",
      "97           42607  41371.690071\n",
      "98           28915  30600.435619\n",
      "99           55705  55658.011292\n",
      "\n",
      "[100 rows x 2 columns]\n"
     ]
    }
   ],
   "source": [
    "multiple_linreg_predictions_train = multiple_linreg.predict(X_train)\n",
    "\n",
    "print(\"\\nPredictions with multiple linear regression: \\n\")\n",
    "actual_vs_predicted_multiplelinreg = pd.concat([y_train, pd.DataFrame(multiple_linreg_predictions_train, columns=['Predicted'])], axis=1)\n",
    "print(actual_vs_predicted_multiplelinreg.head(100))"
   ]
  },
  {
   "cell_type": "code",
   "execution_count": 85,
   "metadata": {},
   "outputs": [],
   "source": [
    "#This function is used repeatedly to compute all metrics\n",
    "def printMetrics(testActualVal, predictions):\n",
    "    #classification evaluation measures\n",
    "    print('\\n==============================================================================')\n",
    "    print(\"MAE: \", metrics.mean_absolute_error(testActualVal, predictions))\n",
    "    #print(\"MSE: \", metrics.mean_squared_error(testActualVal, predictions))\n",
    "    print(\"RMSE: \", metrics.mean_squared_error(testActualVal, predictions)**0.5)\n",
    "    print(\"R2: \", metrics.r2_score(testActualVal, predictions))"
   ]
  },
  {
   "cell_type": "markdown",
   "metadata": {},
   "source": [
    "### Evaluation"
   ]
  },
  {
   "cell_type": "code",
   "execution_count": 80,
   "metadata": {
    "scrolled": true
   },
   "outputs": [
    {
     "name": "stdout",
     "output_type": "stream",
     "text": [
      "\n",
      "==============================================================================\n",
      "MAE:  887.9326698287838\n",
      "RMSE:  1020.8890788298127\n",
      "R2:  0.9963122786170594\n"
     ]
    }
   ],
   "source": [
    "printMetrics(y_train, multiple_linreg_predictions_train)"
   ]
  },
  {
   "cell_type": "code",
   "execution_count": null,
   "metadata": {},
   "outputs": [],
   "source": []
  },
  {
   "cell_type": "markdown",
   "metadata": {},
   "source": [
    "### Tests"
   ]
  },
  {
   "cell_type": "code",
   "execution_count": 81,
   "metadata": {},
   "outputs": [
    {
     "name": "stdout",
     "output_type": "stream",
     "text": [
      "\n",
      "Predictions with multiple linear regression: \n",
      "\n",
      "    ACTUALTIME_DEP     Predicted\n",
      "0            55569  55674.345323\n",
      "1            78843  77195.099902\n",
      "2            64411  63073.104346\n",
      "3            50025  48537.047057\n",
      "4            71303  70175.183236\n",
      "..             ...           ...\n",
      "95           64969  66678.477717\n",
      "96           33217  34031.482645\n",
      "97           47528  48453.875499\n",
      "98           34711  34183.128916\n",
      "99           75827  77097.345798\n",
      "\n",
      "[100 rows x 2 columns]\n"
     ]
    }
   ],
   "source": [
    "multiple_linreg_predictions_train = multiple_linreg.predict(X_test)\n",
    "\n",
    "print(\"\\nPredictions with multiple linear regression: \\n\")\n",
    "actual_vs_predicted_multiplelinreg = pd.concat([y_test, pd.DataFrame(multiple_linreg_predictions_train, columns=['Predicted'])], axis=1)\n",
    "print(actual_vs_predicted_multiplelinreg.head(100))"
   ]
  },
  {
   "cell_type": "code",
   "execution_count": 82,
   "metadata": {},
   "outputs": [
    {
     "name": "stdout",
     "output_type": "stream",
     "text": [
      "\n",
      "==============================================================================\n",
      "MAE:  887.4550466263755\n",
      "RMSE:  1020.6364715207134\n",
      "R2:  0.9963109953234353\n"
     ]
    }
   ],
   "source": [
    "printMetrics(y_test, multiple_linreg_predictions_train)"
   ]
  },
  {
   "cell_type": "markdown",
   "metadata": {},
   "source": [
    "## cross validation"
   ]
  },
  {
   "cell_type": "code",
   "execution_count": 83,
   "metadata": {},
   "outputs": [
    {
     "data": {
      "text/plain": [
       "array([884.59918632, 887.09110265, 888.78096328, 888.46343513,\n",
       "       890.43621131])"
      ]
     },
     "execution_count": 83,
     "metadata": {},
     "output_type": "execute_result"
    }
   ],
   "source": [
    "scores = -cross_val_score(LinearRegression(), X, y, scoring='neg_mean_absolute_error', cv=5)\n",
    "scores"
   ]
  },
  {
   "cell_type": "code",
   "execution_count": 84,
   "metadata": {},
   "outputs": [
    {
     "data": {
      "text/plain": [
       "{'fit_time': array([1.27387595, 1.26239014, 1.24422407, 1.27869892, 1.26113605]),\n",
       " 'score_time': array([0.05047584, 0.04683495, 0.04746079, 0.04919887, 0.0469799 ]),\n",
       " 'test_neg_mean_absolute_error': array([-884.59918632, -887.09110265, -888.78096328, -888.46343513,\n",
       "        -890.43621131]),\n",
       " 'test_neg_mean_squared_error': array([-1035411.49034664, -1037105.32214889, -1047919.73934222,\n",
       "        -1044228.03733919, -1046705.48341104]),\n",
       " 'test_r2': array([0.99630205, 0.99628311, 0.99642275, 0.99634978, 0.99616957])}"
      ]
     },
     "execution_count": 84,
     "metadata": {},
     "output_type": "execute_result"
    }
   ],
   "source": [
    "metrics = ['neg_mean_absolute_error', 'neg_mean_squared_error', 'r2']\n",
    "scores = cross_validate(LinearRegression(), X, y, scoring=metrics, cv=5)\n",
    "scores"
   ]
  },
  {
   "cell_type": "markdown",
   "metadata": {},
   "source": [
    "interpretation of result\n",
    "- r square score is very high which indicates the features' performance moves relatively in line with the departure time. \n",
    "- didnt use classification evaluation measures computed on the training set (e.g. Accuracy, Confusion matrix, Precision, Recall, F1) because kernal died every time when caluculaing Confusion matrix for some reason"
   ]
  },
  {
   "cell_type": "code",
   "execution_count": null,
   "metadata": {},
   "outputs": [],
   "source": []
  },
  {
   "cell_type": "code",
   "execution_count": null,
   "metadata": {},
   "outputs": [],
   "source": []
  }
 ],
 "metadata": {
  "kernelspec": {
   "display_name": "Python 3",
   "language": "python",
   "name": "python3"
  },
  "language_info": {
   "codemirror_mode": {
    "name": "ipython",
    "version": 3
   },
   "file_extension": ".py",
   "mimetype": "text/x-python",
   "name": "python",
   "nbconvert_exporter": "python",
   "pygments_lexer": "ipython3",
   "version": "3.7.3"
  }
 },
 "nbformat": 4,
 "nbformat_minor": 2
}
